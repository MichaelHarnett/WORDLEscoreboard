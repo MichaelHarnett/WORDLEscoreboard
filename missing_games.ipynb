{
 "cells": [
  {
   "cell_type": "code",
   "execution_count": 1,
   "id": "70bb165e-a808-4014-9aa2-63e89b582177",
   "metadata": {},
   "outputs": [],
   "source": [
    "import numpy as np\n",
    "import pandas as pd"
   ]
  },
  {
   "cell_type": "code",
   "execution_count": 2,
   "id": "bb83ca39-c951-4d76-81f7-ef1db14e8ff6",
   "metadata": {},
   "outputs": [],
   "source": [
    "dan_test = pd.read_csv('tables/danielledf.csv')\n",
    "dad_test = pd.read_csv('tables/daddf.csv')"
   ]
  },
  {
   "cell_type": "code",
   "execution_count": 3,
   "id": "a5b36a89-99fc-4886-91dc-954a3e21bbe4",
   "metadata": {},
   "outputs": [
    {
     "data": {
      "text/plain": [
       "77"
      ]
     },
     "execution_count": 3,
     "metadata": {},
     "output_type": "execute_result"
    }
   ],
   "source": [
    "len(dan_test)"
   ]
  },
  {
   "cell_type": "code",
   "execution_count": 4,
   "id": "e137ee3c-51d1-4108-9c73-fdeda6313db2",
   "metadata": {},
   "outputs": [
    {
     "data": {
      "text/plain": [
       "75"
      ]
     },
     "execution_count": 4,
     "metadata": {},
     "output_type": "execute_result"
    }
   ],
   "source": [
    "len(dad_test)"
   ]
  },
  {
   "cell_type": "code",
   "execution_count": 5,
   "id": "49f80262-1523-411b-ac85-19f7429ab41b",
   "metadata": {},
   "outputs": [
    {
     "data": {
      "text/plain": [
       "[307,\n",
       " 306,\n",
       " 305,\n",
       " 304,\n",
       " 303,\n",
       " 302,\n",
       " 301,\n",
       " 300,\n",
       " 299,\n",
       " 298,\n",
       " 297,\n",
       " 296,\n",
       " 295,\n",
       " 294,\n",
       " 293,\n",
       " 292,\n",
       " 291,\n",
       " 290,\n",
       " 289,\n",
       " 288,\n",
       " 287,\n",
       " 286,\n",
       " 285,\n",
       " 284,\n",
       " 283,\n",
       " 282,\n",
       " 281,\n",
       " 280,\n",
       " 279,\n",
       " 278,\n",
       " 277,\n",
       " 276,\n",
       " 274,\n",
       " 273,\n",
       " 272,\n",
       " 271,\n",
       " 270,\n",
       " 269,\n",
       " 268,\n",
       " 267,\n",
       " 266,\n",
       " 265,\n",
       " 264,\n",
       " 263,\n",
       " 262,\n",
       " 261,\n",
       " 260,\n",
       " 259,\n",
       " 258,\n",
       " 257,\n",
       " 256,\n",
       " 255,\n",
       " 254,\n",
       " 253,\n",
       " 252,\n",
       " 251,\n",
       " 250,\n",
       " 249,\n",
       " 248,\n",
       " 247,\n",
       " 246,\n",
       " 245,\n",
       " 244,\n",
       " 243,\n",
       " 242,\n",
       " 241,\n",
       " 240,\n",
       " 239,\n",
       " 238,\n",
       " 237,\n",
       " 236,\n",
       " 235,\n",
       " 234,\n",
       " 233,\n",
       " 232,\n",
       " 231,\n",
       " 230]"
      ]
     },
     "execution_count": 5,
     "metadata": {},
     "output_type": "execute_result"
    }
   ],
   "source": [
    "list(dan_test.game_num)"
   ]
  },
  {
   "cell_type": "code",
   "execution_count": 6,
   "id": "ca9a76c1-0c4a-4b23-8ae1-600e03d6c7d5",
   "metadata": {},
   "outputs": [],
   "source": [
    "gamelist = sorted(list(dad_test.game_num))"
   ]
  },
  {
   "cell_type": "code",
   "execution_count": 7,
   "id": "2ac79725-90ec-4fc7-800d-4072a0368c5c",
   "metadata": {},
   "outputs": [
    {
     "name": "stdout",
     "output_type": "stream",
     "text": [
      "[231, 232, 236, 284]\n"
     ]
    }
   ],
   "source": [
    "\n",
    "missing_elemnts = [item for item in range(gamelist[0], gamelist[-1]+1) if item not in gamelist]\n",
    "print(missing_elemnts)"
   ]
  },
  {
   "cell_type": "code",
   "execution_count": 12,
   "id": "d317bc04-f579-4f2b-9287-06f858af22cf",
   "metadata": {},
   "outputs": [],
   "source": [
    "michaeldf = pd.read_csv('tables/michaeldf.csv')\n",
    "danielledf = pd.read_csv('tables/danielledf.csv')\n",
    "chrisdf = pd.read_csv('tables/chrisdf.csv')\n",
    "daddf = pd.read_csv('tables/daddf.csv')\n",
    "\n",
    "\n",
    "michael_games = sorted(michaeldf.game_num)\n",
    "michael_missing = [item for item in range(michael_games[0], michael_games[-1]+1) if item not in michael_games]\n",
    "\n",
    "\n",
    "danielle_games = sorted(danielledf.game_num)\n",
    "danielle_missing = [item for item in range(danielle_games[0], danielle_games[-1]+1) if item not in danielle_games]\n",
    "\n",
    "\n",
    "chris_games = sorted(chrisdf.game_num)\n",
    "chris_missing = [item for item in range(chris_games[0], chris_games[-1]+1) if item not in chris_games]\n",
    "\n",
    "\n",
    "dad_games = sorted(daddf.game_num)\n",
    "dad_missing = [item for item in range(dad_games[0], dad_games[-1]+1) if item not in dad_games]\n",
    "\n"
   ]
  },
  {
   "cell_type": "code",
   "execution_count": 13,
   "id": "23d59726-c4f7-43e2-afd4-c7e2a23f4202",
   "metadata": {},
   "outputs": [
    {
     "name": "stdout",
     "output_type": "stream",
     "text": [
      "Michael's missing games: [244, 266, 272, 273, 274, 275, 281, 287, 288, 289, 292, 295, 296, 297, 306]\n",
      "Danielle's missing games: [275]\n",
      "Chris' missing games: [268, 272, 275]\n",
      "Dad's missing games: [231, 232, 236, 284]\n"
     ]
    }
   ],
   "source": [
    "print(f'Michael\\'s missing games: {michael_missing}')\n",
    "print(f'Danielle\\'s missing games: {danielle_missing}')\n",
    "print(f'Chris\\' missing games: {chris_missing}')\n",
    "print(f'Dad\\'s missing games: {dad_missing}')"
   ]
  },
  {
   "cell_type": "code",
   "execution_count": 14,
   "id": "eed3072f-deb3-4cd3-bb8e-68e61babbfde",
   "metadata": {},
   "outputs": [
    {
     "data": {
      "text/plain": [
       "[230,\n",
       " 231,\n",
       " 232,\n",
       " 233,\n",
       " 234,\n",
       " 235,\n",
       " 236,\n",
       " 237,\n",
       " 238,\n",
       " 239,\n",
       " 240,\n",
       " 241,\n",
       " 242,\n",
       " 243,\n",
       " 245,\n",
       " 246,\n",
       " 247,\n",
       " 248,\n",
       " 249,\n",
       " 250,\n",
       " 251,\n",
       " 252,\n",
       " 253,\n",
       " 254,\n",
       " 255,\n",
       " 256,\n",
       " 257,\n",
       " 258,\n",
       " 259,\n",
       " 260,\n",
       " 261,\n",
       " 262,\n",
       " 263,\n",
       " 264,\n",
       " 265,\n",
       " 267,\n",
       " 268,\n",
       " 269,\n",
       " 270,\n",
       " 271,\n",
       " 276,\n",
       " 277,\n",
       " 278,\n",
       " 279,\n",
       " 280,\n",
       " 282,\n",
       " 283,\n",
       " 284,\n",
       " 285,\n",
       " 286,\n",
       " 290,\n",
       " 291,\n",
       " 293,\n",
       " 294,\n",
       " 298,\n",
       " 299,\n",
       " 300,\n",
       " 301,\n",
       " 302,\n",
       " 303,\n",
       " 304,\n",
       " 305,\n",
       " 307]"
      ]
     },
     "execution_count": 14,
     "metadata": {},
     "output_type": "execute_result"
    }
   ],
   "source": [
    "michael_games"
   ]
  },
  {
   "cell_type": "code",
   "execution_count": null,
   "id": "085b644a-dbde-4f91-9df3-a3821ab6f4fe",
   "metadata": {},
   "outputs": [],
   "source": []
  }
 ],
 "metadata": {
  "kernelspec": {
   "display_name": "Python 3 (ipykernel)",
   "language": "python",
   "name": "python3"
  },
  "language_info": {
   "codemirror_mode": {
    "name": "ipython",
    "version": 3
   },
   "file_extension": ".py",
   "mimetype": "text/x-python",
   "name": "python",
   "nbconvert_exporter": "python",
   "pygments_lexer": "ipython3",
   "version": "3.8.10"
  }
 },
 "nbformat": 4,
 "nbformat_minor": 5
}
