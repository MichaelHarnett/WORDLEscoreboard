{
 "cells": [
  {
   "cell_type": "code",
   "execution_count": 1,
   "id": "3a5ea033-e8ff-4f5d-a084-dd1191c82ed2",
   "metadata": {},
   "outputs": [],
   "source": [
    "import pandas as pd\n",
    "import numpy as np\n",
    "import os\n",
    "\n",
    "\n",
    "import sqlalchemy as db\n",
    "from sqlalchemy import create_engine, MetaData, inspect\n",
    "\n",
    "engine = db.create_engine('sqlite:////Users/michaelharnett/Library/Messages/chat.db')\n",
    "connection = engine.connect()\n",
    "metadata = db.MetaData()\n",
    "\n",
    "savagesdf = pd.read_sql(\"select distinct m.rowid ,m.is_from_me IsFromMe ,case when m.is_from_me = 1 then m.account else h.id end as FromPhoneNumber ,datetime((m.date / 1000000000) + 978307200, 'unixepoch', 'localtime') as TextDate, m.text MessageText,c.display_name RoomName from message as m left join handle as h on m.handle_id = h.rowid left join chat as c on m.cache_roomnames = c.room_name left join chat_handle_join as ch on c.rowid = ch.chat_id left join handle as h2 on ch.handle_id = h2.rowid where RoomName LIKE 'Savages%' order by m.date desc;\", engine)\n",
    "\n",
    "\n"
   ]
  },
  {
   "cell_type": "code",
   "execution_count": 2,
   "id": "c28bae85-f53c-45db-ac0a-aacb80260468",
   "metadata": {},
   "outputs": [],
   "source": [
    "import matplotlib.pyplot as plt\n",
    "import seaborn as sns"
   ]
  },
  {
   "cell_type": "code",
   "execution_count": 3,
   "id": "e654f171-e0c7-4658-91c0-bd01ccfdd7ec",
   "metadata": {},
   "outputs": [],
   "source": [
    "savagesdf = savagesdf[['FromPhoneNumber','TextDate','MessageText']]"
   ]
  },
  {
   "cell_type": "code",
   "execution_count": 4,
   "id": "97732d94-5fdc-47ae-9984-cdbb9d40353e",
   "metadata": {},
   "outputs": [],
   "source": [
    "savagesdf.rename(columns = {'FromPhoneNumber':'player', \"TextDate\": 'date', 'MessageText':'text'}, inplace = True)"
   ]
  },
  {
   "cell_type": "code",
   "execution_count": 5,
   "id": "2c1b2a58-6b2e-4176-92dc-e4ba8b83a738",
   "metadata": {},
   "outputs": [],
   "source": [
    "savagesdf.loc[savagesdf.player == '+12017248296', 'player'] = 'kell'\n",
    "savagesdf.loc[savagesdf.player == '+12017447544', 'player'] = 'd'\n",
    "savagesdf.loc[savagesdf.player == '+18456083263', 'player'] = 'drie'\n",
    "savagesdf.loc[savagesdf.player == '+12017554735', 'player'] = 'jose'\n",
    "savagesdf.loc[savagesdf.player == '+12012706619', 'player'] = 'nick'\n",
    "savagesdf.loc[savagesdf.player == 'E:michaelcharnett@gmail.com', 'player'] = 'michael'\n",
    "savagesdf.loc[savagesdf.player == 'e:michaelcharnett@gmail.com', 'player'] = 'michael'"
   ]
  },
  {
   "cell_type": "code",
   "execution_count": 6,
   "id": "54f8f4d9-2e97-4377-b01c-c4147872073f",
   "metadata": {},
   "outputs": [
    {
     "data": {
      "text/html": [
       "<div>\n",
       "<style scoped>\n",
       "    .dataframe tbody tr th:only-of-type {\n",
       "        vertical-align: middle;\n",
       "    }\n",
       "\n",
       "    .dataframe tbody tr th {\n",
       "        vertical-align: top;\n",
       "    }\n",
       "\n",
       "    .dataframe thead th {\n",
       "        text-align: right;\n",
       "    }\n",
       "</style>\n",
       "<table border=\"1\" class=\"dataframe\">\n",
       "  <thead>\n",
       "    <tr style=\"text-align: right;\">\n",
       "      <th></th>\n",
       "      <th>player</th>\n",
       "      <th>date</th>\n",
       "      <th>text</th>\n",
       "    </tr>\n",
       "  </thead>\n",
       "  <tbody>\n",
       "    <tr>\n",
       "      <th>0</th>\n",
       "      <td>michael</td>\n",
       "      <td>2022-05-09 17:52:57</td>\n",
       "      <td>Wordle 324 5/6\\n\\n🟨⬛⬛⬛🟨\\n⬛🟩⬛⬛🟩\\n⬛🟩⬛⬛🟩\\n🟩🟩🟨⬛🟩\\n...</td>\n",
       "    </tr>\n",
       "    <tr>\n",
       "      <th>1</th>\n",
       "      <td>nick</td>\n",
       "      <td>2022-05-09 12:56:15</td>\n",
       "      <td>Wordle 324 5/6\\n\\n🟩⬛⬛⬛🟩\\n🟩⬛⬛⬛🟩\\n🟩⬛⬛⬛🟩\\n🟩⬛⬛🟩🟩\\n...</td>\n",
       "    </tr>\n",
       "    <tr>\n",
       "      <th>2</th>\n",
       "      <td>kell</td>\n",
       "      <td>2022-05-09 12:13:08</td>\n",
       "      <td>😂😂</td>\n",
       "    </tr>\n",
       "    <tr>\n",
       "      <th>3</th>\n",
       "      <td>drie</td>\n",
       "      <td>2022-05-09 12:11:27</td>\n",
       "      <td>So much shame</td>\n",
       "    </tr>\n",
       "    <tr>\n",
       "      <th>4</th>\n",
       "      <td>drie</td>\n",
       "      <td>2022-05-09 12:11:24</td>\n",
       "      <td>Lmfao same</td>\n",
       "    </tr>\n",
       "    <tr>\n",
       "      <th>...</th>\n",
       "      <td>...</td>\n",
       "      <td>...</td>\n",
       "      <td>...</td>\n",
       "    </tr>\n",
       "    <tr>\n",
       "      <th>10455</th>\n",
       "      <td>jose</td>\n",
       "      <td>2021-07-10 16:28:29</td>\n",
       "      <td>Fuck u nick</td>\n",
       "    </tr>\n",
       "    <tr>\n",
       "      <th>10456</th>\n",
       "      <td>jose</td>\n",
       "      <td>2021-07-10 16:28:24</td>\n",
       "      <td>Loved an image</td>\n",
       "    </tr>\n",
       "    <tr>\n",
       "      <th>10457</th>\n",
       "      <td>drie</td>\n",
       "      <td>2021-07-10 16:27:03</td>\n",
       "      <td>And im back lol</td>\n",
       "    </tr>\n",
       "    <tr>\n",
       "      <th>10458</th>\n",
       "      <td>drie</td>\n",
       "      <td>2021-07-10 16:27:00</td>\n",
       "      <td>Kelly</td>\n",
       "    </tr>\n",
       "    <tr>\n",
       "      <th>10459</th>\n",
       "      <td>drie</td>\n",
       "      <td>2021-07-10 16:26:59</td>\n",
       "      <td>￼</td>\n",
       "    </tr>\n",
       "  </tbody>\n",
       "</table>\n",
       "<p>10460 rows × 3 columns</p>\n",
       "</div>"
      ],
      "text/plain": [
       "        player                 date  \\\n",
       "0      michael  2022-05-09 17:52:57   \n",
       "1         nick  2022-05-09 12:56:15   \n",
       "2         kell  2022-05-09 12:13:08   \n",
       "3         drie  2022-05-09 12:11:27   \n",
       "4         drie  2022-05-09 12:11:24   \n",
       "...        ...                  ...   \n",
       "10455     jose  2021-07-10 16:28:29   \n",
       "10456     jose  2021-07-10 16:28:24   \n",
       "10457     drie  2021-07-10 16:27:03   \n",
       "10458     drie  2021-07-10 16:27:00   \n",
       "10459     drie  2021-07-10 16:26:59   \n",
       "\n",
       "                                                    text  \n",
       "0      Wordle 324 5/6\\n\\n🟨⬛⬛⬛🟨\\n⬛🟩⬛⬛🟩\\n⬛🟩⬛⬛🟩\\n🟩🟩🟨⬛🟩\\n...  \n",
       "1      Wordle 324 5/6\\n\\n🟩⬛⬛⬛🟩\\n🟩⬛⬛⬛🟩\\n🟩⬛⬛⬛🟩\\n🟩⬛⬛🟩🟩\\n...  \n",
       "2                                                     😂😂  \n",
       "3                                          So much shame  \n",
       "4                                             Lmfao same  \n",
       "...                                                  ...  \n",
       "10455                                        Fuck u nick  \n",
       "10456                                     Loved an image  \n",
       "10457                                    And im back lol  \n",
       "10458                                              Kelly  \n",
       "10459                                                  ￼  \n",
       "\n",
       "[10460 rows x 3 columns]"
      ]
     },
     "execution_count": 6,
     "metadata": {},
     "output_type": "execute_result"
    }
   ],
   "source": [
    "savagesdf"
   ]
  },
  {
   "cell_type": "code",
   "execution_count": 29,
   "id": "295d43f8-0e14-460a-8dfb-198a09de0d32",
   "metadata": {},
   "outputs": [
    {
     "data": {
      "text/plain": [
       "array([2821, 2334, 1722, 1544, 1377,  662])"
      ]
     },
     "execution_count": 29,
     "metadata": {},
     "output_type": "execute_result"
    }
   ],
   "source": [
    "savagesdf.player.value_counts()"
   ]
  },
  {
   "cell_type": "code",
   "execution_count": 22,
   "id": "a4697833-2e8a-4f78-9cd0-8b5592dbab6c",
   "metadata": {},
   "outputs": [
    {
     "data": {
      "text/plain": [
       "<BarContainer object of 6 artists>"
      ]
     },
     "execution_count": 22,
     "metadata": {},
     "output_type": "execute_result"
    },
    {
     "data": {
      "image/png": "[encoded data removed]",
      "text/plain": [
       "<Figure size 432x288 with 1 Axes>"
      ]
     },
     "metadata": {
      "needs_background": "light"
     },
     "output_type": "display_data"
    }
   ],
   "source": [
    "plt.bar(x = list(savagesdf.player.unique()), height = savagesdf.player.value_counts())"
   ]
  },
  {
   "cell_type": "code",
   "execution_count": 9,
   "id": "07c17a0e-e0fd-4367-a462-73a1d211f17b",
   "metadata": {},
   "outputs": [
    {
     "data": {
      "text/plain": [
       "0        michael\n",
       "1           nick\n",
       "2           kell\n",
       "3           drie\n",
       "4           drie\n",
       "          ...   \n",
       "10455       jose\n",
       "10456       jose\n",
       "10457       drie\n",
       "10458       drie\n",
       "10459       drie\n",
       "Name: player, Length: 10460, dtype: object"
      ]
     },
     "execution_count": 9,
     "metadata": {},
     "output_type": "execute_result"
    }
   ],
   "source": [
    "savagesdf.player"
   ]
  },
  {
   "cell_type": "code",
   "execution_count": 12,
   "id": "8dc3b90c-5d83-4ff6-83c1-f465c34b710a",
   "metadata": {},
   "outputs": [
    {
     "ename": "TypeError",
     "evalue": "bar() missing 1 required positional argument: 'height'",
     "output_type": "error",
     "traceback": [
      "\u001b[0;31m---------------------------------------------------------------------------\u001b[0m",
      "\u001b[0;31mTypeError\u001b[0m                                 Traceback (most recent call last)",
      "\u001b[0;32m/var/folders/xl/ftndz_9j3hn5ybffb6t5q42m0000gn/T/ipykernel_30283/1248474178.py\u001b[0m in \u001b[0;36m<module>\u001b[0;34m\u001b[0m\n\u001b[0;32m----> 1\u001b[0;31m \u001b[0mplt\u001b[0m\u001b[0;34m.\u001b[0m\u001b[0mbar\u001b[0m\u001b[0;34m(\u001b[0m\u001b[0msavagesdf\u001b[0m\u001b[0;34m.\u001b[0m\u001b[0mvalue_counts\u001b[0m\u001b[0;34m(\u001b[0m\u001b[0;34m)\u001b[0m\u001b[0;34m)\u001b[0m\u001b[0;34m\u001b[0m\u001b[0;34m\u001b[0m\u001b[0m\n\u001b[0m",
      "\u001b[0;31mTypeError\u001b[0m: bar() missing 1 required positional argument: 'height'"
     ]
    }
   ],
   "source": [
    "plt.bar(savagesdf.value_counts())"
   ]
  },
  {
   "cell_type": "code",
   "execution_count": 15,
   "id": "e46e43d1-dbaa-4ddf-b097-e9a561f7ce7a",
   "metadata": {},
   "outputs": [
    {
     "data": {
      "text/plain": [
       "['michael', 'nick', 'kell', 'drie', 'jose', 'd']"
      ]
     },
     "execution_count": 15,
     "metadata": {},
     "output_type": "execute_result"
    }
   ],
   "source": [
    "list(savagesdf.player.unique())"
   ]
  },
  {
   "cell_type": "code",
   "execution_count": 32,
   "id": "4c4886bd-1207-4a96-a873-4c24da645d8b",
   "metadata": {},
   "outputs": [
    {
     "data": {
      "text/plain": [
       "<bound method Series.keys of 0        michael\n",
       "1           nick\n",
       "2           kell\n",
       "3           drie\n",
       "4           drie\n",
       "          ...   \n",
       "10455       jose\n",
       "10456       jose\n",
       "10457       drie\n",
       "10458       drie\n",
       "10459       drie\n",
       "Name: player, Length: 10460, dtype: object>"
      ]
     },
     "execution_count": 32,
     "metadata": {},
     "output_type": "execute_result"
    }
   ],
   "source": [
    "savagesdf.player.valu"
   ]
  },
  {
   "cell_type": "code",
   "execution_count": 35,
   "id": "4a2a101b-e611-4a98-a2cc-84436015ef6f",
   "metadata": {},
   "outputs": [
    {
     "data": {
      "text/plain": [
       "<BarContainer object of 6 artists>"
      ]
     },
     "execution_count": 35,
     "metadata": {},
     "output_type": "execute_result"
    },
    {
     "data": {
      "image/png": "[encoded data removed]",
      "text/plain": [
       "<Figure size 432x288 with 1 Axes>"
      ]
     },
     "metadata": {
      "needs_background": "light"
     },
     "output_type": "display_data"
    }
   ],
   "source": [
    "## winner this is the easiest one line of code I was able to thow together for comparing our number of txts \n",
    "#### next is to only make it look nicer using seaborn or something. \n",
    "\n",
    "plt.bar(x = list(savagesdf.player.value_counts().keys()), height = savagesdf.player.value_counts().values)"
   ]
  },
  {
   "cell_type": "code",
   "execution_count": null,
   "id": "bd2b3f85-699c-4d7f-8cbe-34869fb280bb",
   "metadata": {},
   "outputs": [],
   "source": []
  }
 ],
 "metadata": {
  "kernelspec": {
   "display_name": "Python [conda env:metis] *",
   "language": "python",
   "name": "conda-env-metis-py"
  },
  "language_info": {
   "codemirror_mode": {
    "name": "ipython",
    "version": 3
   },
   "file_extension": ".py",
   "mimetype": "text/x-python",
   "name": "python",
   "nbconvert_exporter": "python",
   "pygments_lexer": "ipython3",
   "version": "3.8.10"
  }
 },
 "nbformat": 4,
 "nbformat_minor": 5
}
