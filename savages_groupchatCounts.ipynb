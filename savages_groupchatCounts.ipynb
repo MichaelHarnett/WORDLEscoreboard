{
 "cells": [
  {
   "cell_type": "code",
   "execution_count": 11,
   "id": "3a5ea033-e8ff-4f5d-a084-dd1191c82ed2",
   "metadata": {},
   "outputs": [],
   "source": [
    "import pandas as pd\n",
    "import numpy as np\n",
    "import os\n",
    "\n",
    "\n",
    "import sqlalchemy as db\n",
    "from sqlalchemy import create_engine, MetaData, inspect\n",
    "\n",
    "engine = db.create_engine('sqlite:////Users/michaelharnett/Library/Messages/chat.db')\n",
    "connection = engine.connect()\n",
    "metadata = db.MetaData()\n",
    "\n",
    "savagesdf = pd.read_sql(\"select distinct m.rowid ,m.is_from_me IsFromMe ,case when m.is_from_me = 1 then m.account else h.id end as FromPhoneNumber ,datetime((m.date / 1000000000) + 978307200, 'unixepoch', 'localtime') as TextDate, m.text MessageText,c.display_name RoomName from message as m left join handle as h on m.handle_id = h.rowid left join chat as c on m.cache_roomnames = c.room_name left join chat_handle_join as ch on c.rowid = ch.chat_id left join handle as h2 on ch.handle_id = h2.rowid where RoomName LIKE 'Savages%' order by m.date desc;\", engine)\n",
    "\n",
    "\n"
   ]
  },
  {
   "cell_type": "code",
   "execution_count": 13,
   "id": "c28bae85-f53c-45db-ac0a-aacb80260468",
   "metadata": {},
   "outputs": [],
   "source": [
    "import matplotlib.pyplot as plt\n",
    "import seaborn as sns"
   ]
  },
  {
   "cell_type": "code",
   "execution_count": 5,
   "id": "e654f171-e0c7-4658-91c0-bd01ccfdd7ec",
   "metadata": {},
   "outputs": [],
   "source": [
    "savagesdf = savagesdf[['FromPhoneNumber','TextDate','MessageText']]"
   ]
  },
  {
   "cell_type": "code",
   "execution_count": 7,
   "id": "97732d94-5fdc-47ae-9984-cdbb9d40353e",
   "metadata": {},
   "outputs": [
    {
     "name": "stderr",
     "output_type": "stream",
     "text": [
      "/Users/michaelharnett/opt/anaconda3/envs/metis/lib/python3.8/site-packages/pandas/core/frame.py:5034: SettingWithCopyWarning: \n",
      "A value is trying to be set on a copy of a slice from a DataFrame\n",
      "\n",
      "See the caveats in the documentation: https://pandas.pydata.org/pandas-docs/stable/user_guide/indexing.html#returning-a-view-versus-a-copy\n",
      "  return super().rename(\n"
     ]
    }
   ],
   "source": [
    "savagesdf.rename(columns = {'FromPhoneNumber':'player', \"TextDate\": 'date', 'MessageText':'text'}, inplace = True)"
   ]
  },
  {
   "cell_type": "code",
   "execution_count": 8,
   "id": "2c1b2a58-6b2e-4176-92dc-e4ba8b83a738",
   "metadata": {},
   "outputs": [
    {
     "name": "stderr",
     "output_type": "stream",
     "text": [
      "/Users/michaelharnett/opt/anaconda3/envs/metis/lib/python3.8/site-packages/pandas/core/indexing.py:1732: SettingWithCopyWarning: \n",
      "A value is trying to be set on a copy of a slice from a DataFrame\n",
      "\n",
      "See the caveats in the documentation: https://pandas.pydata.org/pandas-docs/stable/user_guide/indexing.html#returning-a-view-versus-a-copy\n",
      "  self._setitem_single_block(indexer, value, name)\n",
      "/Users/michaelharnett/opt/anaconda3/envs/metis/lib/python3.8/site-packages/pandas/core/indexing.py:723: SettingWithCopyWarning: \n",
      "A value is trying to be set on a copy of a slice from a DataFrame\n",
      "\n",
      "See the caveats in the documentation: https://pandas.pydata.org/pandas-docs/stable/user_guide/indexing.html#returning-a-view-versus-a-copy\n",
      "  iloc._setitem_with_indexer(indexer, value, self.name)\n"
     ]
    }
   ],
   "source": [
    "savagesdf.loc[savagesdf.player == '+12017248296', 'player'] = 'kell'\n",
    "savagesdf.loc[savagesdf.player == '+12017447544', 'player'] = 'd'\n",
    "savagesdf.loc[savagesdf.player == '+18456083263', 'player'] = 'drie'\n",
    "savagesdf.loc[savagesdf.player == '+12017554735', 'player'] = 'jose'\n",
    "savagesdf.loc[savagesdf.player == '+12012706619', 'player'] = 'nick'\n",
    "savagesdf.loc[savagesdf.player == 'E:michaelcharnett@gmail.com', 'player'] = 'michael'\n",
    "savagesdf.loc[savagesdf.player == 'e:michaelcharnett@gmail.com', 'player'] = 'michael'"
   ]
  },
  {
   "cell_type": "code",
   "execution_count": 9,
   "id": "54f8f4d9-2e97-4377-b01c-c4147872073f",
   "metadata": {},
   "outputs": [
    {
     "data": {
      "text/html": [
       "<div>\n",
       "<style scoped>\n",
       "    .dataframe tbody tr th:only-of-type {\n",
       "        vertical-align: middle;\n",
       "    }\n",
       "\n",
       "    .dataframe tbody tr th {\n",
       "        vertical-align: top;\n",
       "    }\n",
       "\n",
       "    .dataframe thead th {\n",
       "        text-align: right;\n",
       "    }\n",
       "</style>\n",
       "<table border=\"1\" class=\"dataframe\">\n",
       "  <thead>\n",
       "    <tr style=\"text-align: right;\">\n",
       "      <th></th>\n",
       "      <th>player</th>\n",
       "      <th>date</th>\n",
       "      <th>text</th>\n",
       "    </tr>\n",
       "  </thead>\n",
       "  <tbody>\n",
       "    <tr>\n",
       "      <th>0</th>\n",
       "      <td>michael</td>\n",
       "      <td>2022-05-01 20:35:23</td>\n",
       "      <td>Wordle 316 4/6\\n\\n⬛⬛🟩⬛⬛\\n⬛⬛🟩⬛⬛\\n🟩🟩🟩⬛⬛\\n🟩🟩🟩🟩🟩</td>\n",
       "    </tr>\n",
       "    <tr>\n",
       "      <th>1</th>\n",
       "      <td>kell</td>\n",
       "      <td>2022-04-30 16:42:50</td>\n",
       "      <td>jealous</td>\n",
       "    </tr>\n",
       "    <tr>\n",
       "      <th>2</th>\n",
       "      <td>jose</td>\n",
       "      <td>2022-04-30 15:51:49</td>\n",
       "      <td>Wordle 315 3/6\\n\\n⬛⬛🟨🟩⬛\\n⬛🟨🟨🟩⬛\\n🟩🟩🟩🟩🟩</td>\n",
       "    </tr>\n",
       "    <tr>\n",
       "      <th>3</th>\n",
       "      <td>drie</td>\n",
       "      <td>2022-04-30 14:33:14</td>\n",
       "      <td>Loved “If you can prove it’s your money you ar...</td>\n",
       "    </tr>\n",
       "    <tr>\n",
       "      <th>4</th>\n",
       "      <td>drie</td>\n",
       "      <td>2022-04-30 14:33:09</td>\n",
       "      <td>LIKE YOU STOLE from me so I need that back 😂☠️</td>\n",
       "    </tr>\n",
       "    <tr>\n",
       "      <th>...</th>\n",
       "      <td>...</td>\n",
       "      <td>...</td>\n",
       "      <td>...</td>\n",
       "    </tr>\n",
       "    <tr>\n",
       "      <th>10330</th>\n",
       "      <td>jose</td>\n",
       "      <td>2021-07-10 16:28:29</td>\n",
       "      <td>Fuck u nick</td>\n",
       "    </tr>\n",
       "    <tr>\n",
       "      <th>10331</th>\n",
       "      <td>jose</td>\n",
       "      <td>2021-07-10 16:28:24</td>\n",
       "      <td>Loved an image</td>\n",
       "    </tr>\n",
       "    <tr>\n",
       "      <th>10332</th>\n",
       "      <td>drie</td>\n",
       "      <td>2021-07-10 16:27:03</td>\n",
       "      <td>And im back lol</td>\n",
       "    </tr>\n",
       "    <tr>\n",
       "      <th>10333</th>\n",
       "      <td>drie</td>\n",
       "      <td>2021-07-10 16:27:00</td>\n",
       "      <td>Kelly</td>\n",
       "    </tr>\n",
       "    <tr>\n",
       "      <th>10334</th>\n",
       "      <td>drie</td>\n",
       "      <td>2021-07-10 16:26:59</td>\n",
       "      <td>￼</td>\n",
       "    </tr>\n",
       "  </tbody>\n",
       "</table>\n",
       "<p>10335 rows × 3 columns</p>\n",
       "</div>"
      ],
      "text/plain": [
       "        player                 date  \\\n",
       "0      michael  2022-05-01 20:35:23   \n",
       "1         kell  2022-04-30 16:42:50   \n",
       "2         jose  2022-04-30 15:51:49   \n",
       "3         drie  2022-04-30 14:33:14   \n",
       "4         drie  2022-04-30 14:33:09   \n",
       "...        ...                  ...   \n",
       "10330     jose  2021-07-10 16:28:29   \n",
       "10331     jose  2021-07-10 16:28:24   \n",
       "10332     drie  2021-07-10 16:27:03   \n",
       "10333     drie  2021-07-10 16:27:00   \n",
       "10334     drie  2021-07-10 16:26:59   \n",
       "\n",
       "                                                    text  \n",
       "0           Wordle 316 4/6\\n\\n⬛⬛🟩⬛⬛\\n⬛⬛🟩⬛⬛\\n🟩🟩🟩⬛⬛\\n🟩🟩🟩🟩🟩  \n",
       "1                                                jealous  \n",
       "2                  Wordle 315 3/6\\n\\n⬛⬛🟨🟩⬛\\n⬛🟨🟨🟩⬛\\n🟩🟩🟩🟩🟩  \n",
       "3      Loved “If you can prove it’s your money you ar...  \n",
       "4         LIKE YOU STOLE from me so I need that back 😂☠️  \n",
       "...                                                  ...  \n",
       "10330                                        Fuck u nick  \n",
       "10331                                     Loved an image  \n",
       "10332                                    And im back lol  \n",
       "10333                                              Kelly  \n",
       "10334                                                  ￼  \n",
       "\n",
       "[10335 rows x 3 columns]"
      ]
     },
     "execution_count": 9,
     "metadata": {},
     "output_type": "execute_result"
    }
   ],
   "source": [
    "savagesdf"
   ]
  },
  {
   "cell_type": "code",
   "execution_count": 10,
   "id": "295d43f8-0e14-460a-8dfb-198a09de0d32",
   "metadata": {},
   "outputs": [
    {
     "data": {
      "text/plain": [
       "kell       2794\n",
       "d          2313\n",
       "drie       1704\n",
       "jose       1510\n",
       "michael    1363\n",
       "nick        651\n",
       "Name: player, dtype: int64"
      ]
     },
     "execution_count": 10,
     "metadata": {},
     "output_type": "execute_result"
    }
   ],
   "source": [
    "savagesdf.player.value_counts()"
   ]
  },
  {
   "cell_type": "code",
   "execution_count": 17,
   "id": "a4697833-2e8a-4f78-9cd0-8b5592dbab6c",
   "metadata": {},
   "outputs": [
    {
     "ename": "TypeError",
     "evalue": "bar() missing 1 required positional argument: 'height'",
     "output_type": "error",
     "traceback": [
      "\u001b[0;31m---------------------------------------------------------------------------\u001b[0m",
      "\u001b[0;31mTypeError\u001b[0m                                 Traceback (most recent call last)",
      "\u001b[0;32m/var/folders/xl/ftndz_9j3hn5ybffb6t5q42m0000gn/T/ipykernel_17230/191693273.py\u001b[0m in \u001b[0;36m<module>\u001b[0;34m\u001b[0m\n\u001b[0;32m----> 1\u001b[0;31m \u001b[0mplt\u001b[0m\u001b[0;34m.\u001b[0m\u001b[0mbar\u001b[0m\u001b[0;34m(\u001b[0m\u001b[0mx\u001b[0m \u001b[0;34m=\u001b[0m \u001b[0mlist\u001b[0m\u001b[0;34m(\u001b[0m\u001b[0msavagesdf\u001b[0m\u001b[0;34m.\u001b[0m\u001b[0mplayer\u001b[0m\u001b[0;34m)\u001b[0m\u001b[0;34m,\u001b[0m \u001b[0my\u001b[0m \u001b[0;34m=\u001b[0m \u001b[0msavagesdf\u001b[0m\u001b[0;34m.\u001b[0m\u001b[0mplayer\u001b[0m\u001b[0;34m.\u001b[0m\u001b[0mvalue_counts\u001b[0m\u001b[0;34m(\u001b[0m\u001b[0;34m)\u001b[0m\u001b[0;34m)\u001b[0m\u001b[0;34m\u001b[0m\u001b[0;34m\u001b[0m\u001b[0m\n\u001b[0m",
      "\u001b[0;31mTypeError\u001b[0m: bar() missing 1 required positional argument: 'height'"
     ]
    }
   ],
   "source": [
    "plt.bar(x = list(savagesdf.player), y = savagesdf.player.value_counts())"
   ]
  },
  {
   "cell_type": "code",
   "execution_count": null,
   "id": "07c17a0e-e0fd-4367-a462-73a1d211f17b",
   "metadata": {},
   "outputs": [],
   "source": []
  }
 ],
 "metadata": {
  "kernelspec": {
   "display_name": "Python [conda env:metis] *",
   "language": "python",
   "name": "conda-env-metis-py"
  },
  "language_info": {
   "codemirror_mode": {
    "name": "ipython",
    "version": 3
   },
   "file_extension": ".py",
   "mimetype": "text/x-python",
   "name": "python",
   "nbconvert_exporter": "python",
   "pygments_lexer": "ipython3",
   "version": "3.8.10"
  }
 },
 "nbformat": 4,
 "nbformat_minor": 5
}
