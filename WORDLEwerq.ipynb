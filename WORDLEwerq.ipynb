{
 "cells": [
  {
   "cell_type": "code",
   "execution_count": 1,
   "id": "1f9d1dea-d427-4134-b6c4-7aa4c3693079",
   "metadata": {},
   "outputs": [],
   "source": [
    "import pandas as pd\n",
    "import numpy as np\n",
    "import os"
   ]
  },
  {
   "cell_type": "code",
   "execution_count": 6,
   "id": "484da66c-bc50-4786-b9ba-6827f8f7756d",
   "metadata": {},
   "outputs": [],
   "source": [
    "import sqlalchemy as db\n",
    "from sqlalchemy import create_engine, MetaData, inspect"
   ]
  },
  {
   "cell_type": "code",
   "execution_count": null,
   "id": "1a18e2b7-b54c-4081-9df5-be69a9acf62d",
   "metadata": {},
   "outputs": [],
   "source": []
  },
  {
   "cell_type": "markdown",
   "id": "8b8a6b77-5687-4b45-b7c2-85ae1dbc0e3a",
   "metadata": {},
   "source": [
    "# Data\n",
    "connecting to the text message database using sql alchemy.\n",
    "\n",
    "**** thoughts -  will I have to store this data in a separte table/db after cleaning? seems like an extra step if its alreayd all in one place.unsure if when making public I will be able to query my personal data. Also - longevity. \n",
    "do these texts die?"
   ]
  },
  {
   "cell_type": "code",
   "execution_count": 7,
   "id": "5d6a4f10-10a0-460b-9843-0f2ffd852f40",
   "metadata": {},
   "outputs": [],
   "source": [
    "engine = db.create_engine('sqlite:////Users/michaelharnett/Library/Messages/chat.db')"
   ]
  },
  {
   "cell_type": "code",
   "execution_count": 8,
   "id": "729845cc-604b-4c9d-afc3-7f773917b833",
   "metadata": {},
   "outputs": [
    {
     "data": {
      "text/plain": [
       "Engine(sqlite:////Users/michaelharnett/Library/Messages/chat.db)"
      ]
     },
     "execution_count": 8,
     "metadata": {},
     "output_type": "execute_result"
    }
   ],
   "source": [
    "engine"
   ]
  },
  {
   "cell_type": "code",
   "execution_count": 9,
   "id": "fa6cbb6e-e221-4d6e-ac4d-6acc3b408618",
   "metadata": {},
   "outputs": [],
   "source": [
    "connection = engine.connect()"
   ]
  },
  {
   "cell_type": "code",
   "execution_count": 10,
   "id": "1b824c61-1d3d-4a9c-baac-c9a0bcbeb578",
   "metadata": {},
   "outputs": [],
   "source": [
    "metadata = db.MetaData()"
   ]
  },
  {
   "cell_type": "code",
   "execution_count": 11,
   "id": "121f3a16-6f89-4edf-af3d-b2e77b9e1220",
   "metadata": {},
   "outputs": [
    {
     "data": {
      "text/plain": [
       "MetaData()"
      ]
     },
     "execution_count": 11,
     "metadata": {},
     "output_type": "execute_result"
    }
   ],
   "source": [
    "metadata"
   ]
  },
  {
   "cell_type": "code",
   "execution_count": null,
   "id": "b8bf59cd-d8bb-486c-a0cd-7519a2f9d429",
   "metadata": {},
   "outputs": [],
   "source": []
  },
  {
   "cell_type": "code",
   "execution_count": 12,
   "id": "14abf55b-b8d7-44a1-943f-102627f875bc",
   "metadata": {},
   "outputs": [
    {
     "ename": "AttributeError",
     "evalue": "module 'sqlalchemy' has no attribute 'tables'",
     "output_type": "error",
     "traceback": [
      "\u001b[0;31m---------------------------------------------------------------------------\u001b[0m",
      "\u001b[0;31mAttributeError\u001b[0m                            Traceback (most recent call last)",
      "\u001b[0;32m/var/folders/xl/ftndz_9j3hn5ybffb6t5q42m0000gn/T/ipykernel_2699/1829160285.py\u001b[0m in \u001b[0;36m<module>\u001b[0;34m\u001b[0m\n\u001b[0;32m----> 1\u001b[0;31m \u001b[0mdb\u001b[0m\u001b[0;34m.\u001b[0m\u001b[0mtables\u001b[0m\u001b[0;34m(\u001b[0m\u001b[0;34m)\u001b[0m\u001b[0;34m\u001b[0m\u001b[0;34m\u001b[0m\u001b[0m\n\u001b[0m",
      "\u001b[0;31mAttributeError\u001b[0m: module 'sqlalchemy' has no attribute 'tables'"
     ]
    }
   ],
   "source": [
    "db.tables()"
   ]
  },
  {
   "cell_type": "code",
   "execution_count": 13,
   "id": "a6ace961-32ef-408f-9ac4-2f02ddd3e492",
   "metadata": {},
   "outputs": [
    {
     "data": {
      "text/plain": [
       "dict_keys([])"
      ]
     },
     "execution_count": 13,
     "metadata": {},
     "output_type": "execute_result"
    }
   ],
   "source": [
    "metadata.tables.keys()"
   ]
  },
  {
   "cell_type": "code",
   "execution_count": 14,
   "id": "2f2fdcd8-6d91-499b-a429-98469db47061",
   "metadata": {},
   "outputs": [
    {
     "name": "stderr",
     "output_type": "stream",
     "text": [
      "/var/folders/xl/ftndz_9j3hn5ybffb6t5q42m0000gn/T/ipykernel_2699/4162273999.py:1: SADeprecationWarning: The Engine.table_names() method is deprecated and will be removed in a future release.  Please refer to Inspector.get_table_names(). (deprecated since: 1.4)\n",
      "  engine.table_names()\n"
     ]
    },
    {
     "data": {
      "text/plain": [
       "['_SqliteDatabaseProperties',\n",
       " 'attachment',\n",
       " 'chat',\n",
       " 'chat_handle_join',\n",
       " 'chat_message_join',\n",
       " 'deleted_messages',\n",
       " 'handle',\n",
       " 'kvtable',\n",
       " 'message',\n",
       " 'message_attachment_join',\n",
       " 'message_processing_task',\n",
       " 'sqlite_sequence',\n",
       " 'sqlite_stat1',\n",
       " 'sync_deleted_attachments',\n",
       " 'sync_deleted_chats',\n",
       " 'sync_deleted_messages']"
      ]
     },
     "execution_count": 14,
     "metadata": {},
     "output_type": "execute_result"
    }
   ],
   "source": [
    "engine.table_names()"
   ]
  },
  {
   "cell_type": "code",
   "execution_count": 15,
   "id": "ebbc634f-77d4-49db-80fa-22793691849e",
   "metadata": {},
   "outputs": [
    {
     "data": {
      "text/plain": [
       "<sqlalchemy.engine.reflection.Inspector at 0x7fd0d9a9ed90>"
      ]
     },
     "execution_count": 15,
     "metadata": {},
     "output_type": "execute_result"
    }
   ],
   "source": [
    "insp = inspect(engine)\n",
    "insp"
   ]
  },
  {
   "cell_type": "code",
   "execution_count": 16,
   "id": "16aaad2d-851f-4848-8614-1c4ba79bd4de",
   "metadata": {},
   "outputs": [
    {
     "ename": "AttributeError",
     "evalue": "'Table' object has no attribute 'name'",
     "output_type": "error",
     "traceback": [
      "\u001b[0;31m---------------------------------------------------------------------------\u001b[0m",
      "\u001b[0;31mAttributeError\u001b[0m                            Traceback (most recent call last)",
      "\u001b[0;32m~/opt/anaconda3/envs/metis/lib/python3.8/site-packages/IPython/core/formatters.py\u001b[0m in \u001b[0;36m__call__\u001b[0;34m(self, obj)\u001b[0m\n\u001b[1;32m    700\u001b[0m                 \u001b[0mtype_pprinters\u001b[0m\u001b[0;34m=\u001b[0m\u001b[0mself\u001b[0m\u001b[0;34m.\u001b[0m\u001b[0mtype_printers\u001b[0m\u001b[0;34m,\u001b[0m\u001b[0;34m\u001b[0m\u001b[0;34m\u001b[0m\u001b[0m\n\u001b[1;32m    701\u001b[0m                 deferred_pprinters=self.deferred_printers)\n\u001b[0;32m--> 702\u001b[0;31m             \u001b[0mprinter\u001b[0m\u001b[0;34m.\u001b[0m\u001b[0mpretty\u001b[0m\u001b[0;34m(\u001b[0m\u001b[0mobj\u001b[0m\u001b[0;34m)\u001b[0m\u001b[0;34m\u001b[0m\u001b[0;34m\u001b[0m\u001b[0m\n\u001b[0m\u001b[1;32m    703\u001b[0m             \u001b[0mprinter\u001b[0m\u001b[0;34m.\u001b[0m\u001b[0mflush\u001b[0m\u001b[0;34m(\u001b[0m\u001b[0;34m)\u001b[0m\u001b[0;34m\u001b[0m\u001b[0;34m\u001b[0m\u001b[0m\n\u001b[1;32m    704\u001b[0m             \u001b[0;32mreturn\u001b[0m \u001b[0mstream\u001b[0m\u001b[0;34m.\u001b[0m\u001b[0mgetvalue\u001b[0m\u001b[0;34m(\u001b[0m\u001b[0;34m)\u001b[0m\u001b[0;34m\u001b[0m\u001b[0;34m\u001b[0m\u001b[0m\n",
      "\u001b[0;32m~/opt/anaconda3/envs/metis/lib/python3.8/site-packages/IPython/lib/pretty.py\u001b[0m in \u001b[0;36mpretty\u001b[0;34m(self, obj)\u001b[0m\n\u001b[1;32m    392\u001b[0m                         \u001b[0;32mif\u001b[0m \u001b[0mcls\u001b[0m \u001b[0;32mis\u001b[0m \u001b[0;32mnot\u001b[0m \u001b[0mobject\u001b[0m\u001b[0;31m \u001b[0m\u001b[0;31m\\\u001b[0m\u001b[0;34m\u001b[0m\u001b[0;34m\u001b[0m\u001b[0m\n\u001b[1;32m    393\u001b[0m                                 \u001b[0;32mand\u001b[0m \u001b[0mcallable\u001b[0m\u001b[0;34m(\u001b[0m\u001b[0mcls\u001b[0m\u001b[0;34m.\u001b[0m\u001b[0m__dict__\u001b[0m\u001b[0;34m.\u001b[0m\u001b[0mget\u001b[0m\u001b[0;34m(\u001b[0m\u001b[0;34m'__repr__'\u001b[0m\u001b[0;34m)\u001b[0m\u001b[0;34m)\u001b[0m\u001b[0;34m:\u001b[0m\u001b[0;34m\u001b[0m\u001b[0;34m\u001b[0m\u001b[0m\n\u001b[0;32m--> 394\u001b[0;31m                             \u001b[0;32mreturn\u001b[0m \u001b[0m_repr_pprint\u001b[0m\u001b[0;34m(\u001b[0m\u001b[0mobj\u001b[0m\u001b[0;34m,\u001b[0m \u001b[0mself\u001b[0m\u001b[0;34m,\u001b[0m \u001b[0mcycle\u001b[0m\u001b[0;34m)\u001b[0m\u001b[0;34m\u001b[0m\u001b[0;34m\u001b[0m\u001b[0m\n\u001b[0m\u001b[1;32m    395\u001b[0m \u001b[0;34m\u001b[0m\u001b[0m\n\u001b[1;32m    396\u001b[0m             \u001b[0;32mreturn\u001b[0m \u001b[0m_default_pprint\u001b[0m\u001b[0;34m(\u001b[0m\u001b[0mobj\u001b[0m\u001b[0;34m,\u001b[0m \u001b[0mself\u001b[0m\u001b[0;34m,\u001b[0m \u001b[0mcycle\u001b[0m\u001b[0;34m)\u001b[0m\u001b[0;34m\u001b[0m\u001b[0;34m\u001b[0m\u001b[0m\n",
      "\u001b[0;32m~/opt/anaconda3/envs/metis/lib/python3.8/site-packages/IPython/lib/pretty.py\u001b[0m in \u001b[0;36m_repr_pprint\u001b[0;34m(obj, p, cycle)\u001b[0m\n\u001b[1;32m    698\u001b[0m     \u001b[0;34m\"\"\"A pprint that just redirects to the normal repr function.\"\"\"\u001b[0m\u001b[0;34m\u001b[0m\u001b[0;34m\u001b[0m\u001b[0m\n\u001b[1;32m    699\u001b[0m     \u001b[0;31m# Find newlines and replace them with p.break_()\u001b[0m\u001b[0;34m\u001b[0m\u001b[0;34m\u001b[0m\u001b[0;34m\u001b[0m\u001b[0m\n\u001b[0;32m--> 700\u001b[0;31m     \u001b[0moutput\u001b[0m \u001b[0;34m=\u001b[0m \u001b[0mrepr\u001b[0m\u001b[0;34m(\u001b[0m\u001b[0mobj\u001b[0m\u001b[0;34m)\u001b[0m\u001b[0;34m\u001b[0m\u001b[0;34m\u001b[0m\u001b[0m\n\u001b[0m\u001b[1;32m    701\u001b[0m     \u001b[0mlines\u001b[0m \u001b[0;34m=\u001b[0m \u001b[0moutput\u001b[0m\u001b[0;34m.\u001b[0m\u001b[0msplitlines\u001b[0m\u001b[0;34m(\u001b[0m\u001b[0;34m)\u001b[0m\u001b[0;34m\u001b[0m\u001b[0;34m\u001b[0m\u001b[0m\n\u001b[1;32m    702\u001b[0m     \u001b[0;32mwith\u001b[0m \u001b[0mp\u001b[0m\u001b[0;34m.\u001b[0m\u001b[0mgroup\u001b[0m\u001b[0;34m(\u001b[0m\u001b[0;34m)\u001b[0m\u001b[0;34m:\u001b[0m\u001b[0;34m\u001b[0m\u001b[0;34m\u001b[0m\u001b[0m\n",
      "\u001b[0;32m~/opt/anaconda3/envs/metis/lib/python3.8/site-packages/sqlalchemy/sql/schema.py\u001b[0m in \u001b[0;36m__repr__\u001b[0;34m(self)\u001b[0m\n\u001b[1;32m    827\u001b[0m     \u001b[0;32mdef\u001b[0m \u001b[0m__repr__\u001b[0m\u001b[0;34m(\u001b[0m\u001b[0mself\u001b[0m\u001b[0;34m)\u001b[0m\u001b[0;34m:\u001b[0m\u001b[0;34m\u001b[0m\u001b[0;34m\u001b[0m\u001b[0m\n\u001b[1;32m    828\u001b[0m         return \"Table(%s)\" % \", \".join(\n\u001b[0;32m--> 829\u001b[0;31m             \u001b[0;34m[\u001b[0m\u001b[0mrepr\u001b[0m\u001b[0;34m(\u001b[0m\u001b[0mself\u001b[0m\u001b[0;34m.\u001b[0m\u001b[0mname\u001b[0m\u001b[0;34m)\u001b[0m\u001b[0;34m]\u001b[0m\u001b[0;34m\u001b[0m\u001b[0;34m\u001b[0m\u001b[0m\n\u001b[0m\u001b[1;32m    830\u001b[0m             \u001b[0;34m+\u001b[0m \u001b[0;34m[\u001b[0m\u001b[0mrepr\u001b[0m\u001b[0;34m(\u001b[0m\u001b[0mself\u001b[0m\u001b[0;34m.\u001b[0m\u001b[0mmetadata\u001b[0m\u001b[0;34m)\u001b[0m\u001b[0;34m]\u001b[0m\u001b[0;34m\u001b[0m\u001b[0;34m\u001b[0m\u001b[0m\n\u001b[1;32m    831\u001b[0m             \u001b[0;34m+\u001b[0m \u001b[0;34m[\u001b[0m\u001b[0mrepr\u001b[0m\u001b[0;34m(\u001b[0m\u001b[0mx\u001b[0m\u001b[0;34m)\u001b[0m \u001b[0;32mfor\u001b[0m \u001b[0mx\u001b[0m \u001b[0;32min\u001b[0m \u001b[0mself\u001b[0m\u001b[0;34m.\u001b[0m\u001b[0mcolumns\u001b[0m\u001b[0;34m]\u001b[0m\u001b[0;34m\u001b[0m\u001b[0;34m\u001b[0m\u001b[0m\n",
      "\u001b[0;31mAttributeError\u001b[0m: 'Table' object has no attribute 'name'"
     ]
    }
   ],
   "source": [
    "db.Table()"
   ]
  },
  {
   "cell_type": "code",
   "execution_count": 17,
   "id": "684fd94f-1d7d-4a94-b18a-eea81de8cf58",
   "metadata": {},
   "outputs": [],
   "source": [
    "# pulling in query I found online/worked on in DB Browser. For somereason\n",
    "#I could not get it to work unless all on one line, so it is one long gross line.\n",
    "\n",
    "orig_df = pd.read_sql(\"select distinct m.rowid ,m.is_from_me IsFromMe ,case when m.is_from_me = 1 then m.account else h.id end as FromPhoneNumber ,datetime((m.date / 1000000000) + 978307200, 'unixepoch', 'localtime') as TextDate, m.text MessageText,c.display_name RoomName from message as m left join handle as h on m.handle_id = h.rowid left join chat as c on m.cache_roomnames = c.room_name left join chat_handle_join as ch on c.rowid = ch.chat_id left join handle as h2 on ch.handle_id = h2.rowid where RoomName LIKE 'Wordle Fam%' order by m.date desc;\", engine)"
   ]
  },
  {
   "cell_type": "markdown",
   "id": "fe962562-4077-4409-89b0-f297a79fea7b",
   "metadata": {},
   "source": [
    "# EDA BABY\n"
   ]
  },
  {
   "cell_type": "code",
   "execution_count": 18,
   "id": "60286244-31c2-4c7d-8fb1-21a29a82828d",
   "metadata": {},
   "outputs": [],
   "source": [
    "df = orig_df[['FromPhoneNumber','TextDate','MessageText']] # taking only the fields I need"
   ]
  },
  {
   "cell_type": "code",
   "execution_count": 19,
   "id": "44167db4-1e74-48dc-a39c-9381368c73ad",
   "metadata": {},
   "outputs": [],
   "source": [
    "\n",
    "\n",
    "df = df.rename(columns = {'FromPhoneNumber':'player', 'TextDate':'date', 'MessageText':'message'})"
   ]
  },
  {
   "cell_type": "code",
   "execution_count": 20,
   "id": "ed723c43-c5a1-42d8-acf6-a1623f1e226d",
   "metadata": {},
   "outputs": [
    {
     "data": {
      "text/html": [
       "<div>\n",
       "<style scoped>\n",
       "    .dataframe tbody tr th:only-of-type {\n",
       "        vertical-align: middle;\n",
       "    }\n",
       "\n",
       "    .dataframe tbody tr th {\n",
       "        vertical-align: top;\n",
       "    }\n",
       "\n",
       "    .dataframe thead th {\n",
       "        text-align: right;\n",
       "    }\n",
       "</style>\n",
       "<table border=\"1\" class=\"dataframe\">\n",
       "  <thead>\n",
       "    <tr style=\"text-align: right;\">\n",
       "      <th></th>\n",
       "      <th>player</th>\n",
       "      <th>date</th>\n",
       "      <th>message</th>\n",
       "    </tr>\n",
       "  </thead>\n",
       "  <tbody>\n",
       "    <tr>\n",
       "      <th>0</th>\n",
       "      <td>+15514868670</td>\n",
       "      <td>2022-03-26 09:10:04</td>\n",
       "      <td>Wordle 280 4/6\\n\\n⬛️🟨⬛️⬛️⬛️\\n⬛️⬛️🟨⬛️⬛️\\n⬛️🟨⬛️🟨...</td>\n",
       "    </tr>\n",
       "    <tr>\n",
       "      <th>1</th>\n",
       "      <td>None</td>\n",
       "      <td>2022-03-26 02:07:54</td>\n",
       "      <td>None</td>\n",
       "    </tr>\n",
       "    <tr>\n",
       "      <th>2</th>\n",
       "      <td>+12017253072</td>\n",
       "      <td>2022-03-26 00:50:25</td>\n",
       "      <td>😊</td>\n",
       "    </tr>\n",
       "    <tr>\n",
       "      <th>3</th>\n",
       "      <td>+12014523662</td>\n",
       "      <td>2022-03-26 00:50:01</td>\n",
       "      <td>Wordle 280 5/6\\n\\n⬛⬛🟨⬛⬛\\n⬛⬛🟩⬛🟨\\n🟩⬛🟩⬛⬛\\n🟩⬛🟩⬛🟩\\n...</td>\n",
       "    </tr>\n",
       "    <tr>\n",
       "      <th>4</th>\n",
       "      <td>+12017253072</td>\n",
       "      <td>2022-03-26 00:42:45</td>\n",
       "      <td>Wordle 280 3/6\\n\\n⬜🟩🟩⬜⬜\\n🟩🟩🟩⬜⬜\\n🟩🟩🟩🟩🟩</td>\n",
       "    </tr>\n",
       "    <tr>\n",
       "      <th>...</th>\n",
       "      <td>...</td>\n",
       "      <td>...</td>\n",
       "      <td>...</td>\n",
       "    </tr>\n",
       "    <tr>\n",
       "      <th>585</th>\n",
       "      <td>E:michaelcharnett@gmail.com</td>\n",
       "      <td>2022-02-03 19:12:58</td>\n",
       "      <td>I got wordle in 2 today 😏</td>\n",
       "    </tr>\n",
       "    <tr>\n",
       "      <th>586</th>\n",
       "      <td>E:michaelcharnett@gmail.com</td>\n",
       "      <td>2021-07-20 13:36:50</td>\n",
       "      <td>￼</td>\n",
       "    </tr>\n",
       "    <tr>\n",
       "      <th>587</th>\n",
       "      <td>+12017253072</td>\n",
       "      <td>2021-07-20 13:22:56</td>\n",
       "      <td>Thank you😊</td>\n",
       "    </tr>\n",
       "    <tr>\n",
       "      <th>588</th>\n",
       "      <td>+12014523662</td>\n",
       "      <td>2021-07-20 13:22:22</td>\n",
       "      <td>Yes it’s my email  and password is Lucky95</td>\n",
       "    </tr>\n",
       "    <tr>\n",
       "      <th>589</th>\n",
       "      <td>+12017253072</td>\n",
       "      <td>2021-07-20 13:18:17</td>\n",
       "      <td>Do we have Hulu ?</td>\n",
       "    </tr>\n",
       "  </tbody>\n",
       "</table>\n",
       "<p>590 rows × 3 columns</p>\n",
       "</div>"
      ],
      "text/plain": [
       "                          player                 date  \\\n",
       "0                   +15514868670  2022-03-26 09:10:04   \n",
       "1                           None  2022-03-26 02:07:54   \n",
       "2                   +12017253072  2022-03-26 00:50:25   \n",
       "3                   +12014523662  2022-03-26 00:50:01   \n",
       "4                   +12017253072  2022-03-26 00:42:45   \n",
       "..                           ...                  ...   \n",
       "585  E:michaelcharnett@gmail.com  2022-02-03 19:12:58   \n",
       "586  E:michaelcharnett@gmail.com  2021-07-20 13:36:50   \n",
       "587                 +12017253072  2021-07-20 13:22:56   \n",
       "588                 +12014523662  2021-07-20 13:22:22   \n",
       "589                 +12017253072  2021-07-20 13:18:17   \n",
       "\n",
       "                                               message  \n",
       "0    Wordle 280 4/6\\n\\n⬛️🟨⬛️⬛️⬛️\\n⬛️⬛️🟨⬛️⬛️\\n⬛️🟨⬛️🟨...  \n",
       "1                                                 None  \n",
       "2                                                    😊  \n",
       "3    Wordle 280 5/6\\n\\n⬛⬛🟨⬛⬛\\n⬛⬛🟩⬛🟨\\n🟩⬛🟩⬛⬛\\n🟩⬛🟩⬛🟩\\n...  \n",
       "4                Wordle 280 3/6\\n\\n⬜🟩🟩⬜⬜\\n🟩🟩🟩⬜⬜\\n🟩🟩🟩🟩🟩  \n",
       "..                                                 ...  \n",
       "585                          I got wordle in 2 today 😏  \n",
       "586                                                  ￼  \n",
       "587                                         Thank you😊  \n",
       "588         Yes it’s my email  and password is Lucky95  \n",
       "589                                 Do we have Hulu ?   \n",
       "\n",
       "[590 rows x 3 columns]"
      ]
     },
     "execution_count": 20,
     "metadata": {},
     "output_type": "execute_result"
    }
   ],
   "source": [
    "df"
   ]
  },
  {
   "cell_type": "code",
   "execution_count": 77,
   "id": "5d0f87f8-42ec-43e0-8a84-68931ac2df42",
   "metadata": {},
   "outputs": [],
   "source": [
    "# Renaming changing the Id from phone number to our names\n",
    "\n",
    "df.loc[df.player == '+12014523662', 'player'] = 'Danielle'\n",
    "df.loc[df.player == '+12017253072', 'player'] = 'Dad'\n",
    "df.loc[df.player == '+15514868670', 'player'] = 'Chris'\n",
    "df.loc[df.player == 'E:michaelcharnett@gmail.com', 'player'] = 'Michael'"
   ]
  },
  {
   "cell_type": "code",
   "execution_count": 22,
   "id": "075da3c2-8ea1-4217-9415-2dba06c3dac5",
   "metadata": {},
   "outputs": [
    {
     "data": {
      "text/plain": [
       "0       True\n",
       "1       None\n",
       "2      False\n",
       "3       True\n",
       "4       True\n",
       "       ...  \n",
       "585    False\n",
       "586    False\n",
       "587    False\n",
       "588    False\n",
       "589    False\n",
       "Name: message, Length: 590, dtype: object"
      ]
     },
     "execution_count": 22,
     "metadata": {},
     "output_type": "execute_result"
    }
   ],
   "source": [
    "df.message.str.contains('Wordle')"
   ]
  },
  {
   "cell_type": "code",
   "execution_count": 23,
   "id": "a68bc675-3a77-417b-8680-21f8030650ba",
   "metadata": {},
   "outputs": [
    {
     "data": {
      "text/plain": [
       "Michael     173\n",
       "Danielle    170\n",
       "Dad         142\n",
       "Chris       101\n",
       "Name: player, dtype: int64"
      ]
     },
     "execution_count": 23,
     "metadata": {},
     "output_type": "execute_result"
    }
   ],
   "source": [
    "df.player.value_counts()"
   ]
  },
  {
   "cell_type": "code",
   "execution_count": 24,
   "id": "a3345a00-527f-4ca1-ac46-160a26c3cd3a",
   "metadata": {},
   "outputs": [
    {
     "name": "stdout",
     "output_type": "stream",
     "text": [
      "<class 'pandas.core.frame.DataFrame'>\n",
      "RangeIndex: 590 entries, 0 to 589\n",
      "Data columns (total 3 columns):\n",
      " #   Column   Non-Null Count  Dtype \n",
      "---  ------   --------------  ----- \n",
      " 0   player   586 non-null    object\n",
      " 1   date     590 non-null    object\n",
      " 2   message  586 non-null    object\n",
      "dtypes: object(3)\n",
      "memory usage: 14.0+ KB\n"
     ]
    }
   ],
   "source": [
    "df.info()"
   ]
  },
  {
   "cell_type": "markdown",
   "id": "35197f3d-9e7b-4118-8033-213f34ec1e1f",
   "metadata": {},
   "source": [
    "#### trying to figure the best way to filter the messages\n",
    "only want this to look at the messages that we send from a completed game. they all start Wordle ### with the game number. Im glad that number is included, it will be easier to join on that!"
   ]
  },
  {
   "cell_type": "code",
   "execution_count": 83,
   "id": "5f49b5ab-d439-4d1f-a23d-1153de710746",
   "metadata": {},
   "outputs": [
    {
     "data": {
      "text/plain": [
       "True"
      ]
     },
     "execution_count": 83,
     "metadata": {},
     "output_type": "execute_result"
    }
   ],
   "source": [
    "df.message.astype('str')[3][:5]=='Wordl'"
   ]
  },
  {
   "cell_type": "code",
   "execution_count": 85,
   "id": "59731cab-730e-495f-ba16-7b963407a416",
   "metadata": {},
   "outputs": [
    {
     "data": {
      "text/plain": [
       "True"
      ]
     },
     "execution_count": 85,
     "metadata": {},
     "output_type": "execute_result"
    }
   ],
   "source": [
    "df.message[3][:5]=='Wordl'"
   ]
  },
  {
   "cell_type": "code",
   "execution_count": 94,
   "id": "98b27a2b-dbc1-46a0-a953-feb9dc09fb49",
   "metadata": {},
   "outputs": [
    {
     "data": {
      "text/html": [
       "<div>\n",
       "<style scoped>\n",
       "    .dataframe tbody tr th:only-of-type {\n",
       "        vertical-align: middle;\n",
       "    }\n",
       "\n",
       "    .dataframe tbody tr th {\n",
       "        vertical-align: top;\n",
       "    }\n",
       "\n",
       "    .dataframe thead th {\n",
       "        text-align: right;\n",
       "    }\n",
       "</style>\n",
       "<table border=\"1\" class=\"dataframe\">\n",
       "  <thead>\n",
       "    <tr style=\"text-align: right;\">\n",
       "      <th></th>\n",
       "      <th>player</th>\n",
       "      <th>date</th>\n",
       "      <th>message</th>\n",
       "    </tr>\n",
       "  </thead>\n",
       "  <tbody>\n",
       "  </tbody>\n",
       "</table>\n",
       "</div>"
      ],
      "text/plain": [
       "Empty DataFrame\n",
       "Columns: [player, date, message]\n",
       "Index: []"
      ]
     },
     "execution_count": 94,
     "metadata": {},
     "output_type": "execute_result"
    }
   ],
   "source": [
    "df[df.player == 'None']"
   ]
  },
  {
   "cell_type": "code",
   "execution_count": 98,
   "id": "6bd7a8f8-bb6b-4ee9-b99a-c6adebb1359b",
   "metadata": {},
   "outputs": [],
   "source": [
    "df = df.dropna()"
   ]
  },
  {
   "cell_type": "code",
   "execution_count": 26,
   "id": "36dd7f32-89a7-4498-a9f5-79722b12d8d8",
   "metadata": {},
   "outputs": [
    {
     "ename": "ValueError",
     "evalue": "Cannot mask with non-boolean array containing NA / NaN values",
     "output_type": "error",
     "traceback": [
      "\u001b[0;31m---------------------------------------------------------------------------\u001b[0m",
      "\u001b[0;31mValueError\u001b[0m                                Traceback (most recent call last)",
      "\u001b[0;32m/var/folders/xl/ftndz_9j3hn5ybffb6t5q42m0000gn/T/ipykernel_2699/2232379268.py\u001b[0m in \u001b[0;36m<module>\u001b[0;34m\u001b[0m\n\u001b[0;32m----> 1\u001b[0;31m \u001b[0mdf\u001b[0m\u001b[0;34m[\u001b[0m\u001b[0mdf\u001b[0m\u001b[0;34m.\u001b[0m\u001b[0mmessage\u001b[0m\u001b[0;34m.\u001b[0m\u001b[0mstr\u001b[0m\u001b[0;34m.\u001b[0m\u001b[0mstartswith\u001b[0m\u001b[0;34m(\u001b[0m\u001b[0;34m\"Wor\"\u001b[0m\u001b[0;34m)\u001b[0m\u001b[0;34m]\u001b[0m\u001b[0;34m\u001b[0m\u001b[0;34m\u001b[0m\u001b[0m\n\u001b[0m",
      "\u001b[0;32m~/opt/anaconda3/envs/metis/lib/python3.8/site-packages/pandas/core/frame.py\u001b[0m in \u001b[0;36m__getitem__\u001b[0;34m(self, key)\u001b[0m\n\u001b[1;32m   3443\u001b[0m \u001b[0;34m\u001b[0m\u001b[0m\n\u001b[1;32m   3444\u001b[0m         \u001b[0;31m# Do we have a (boolean) 1d indexer?\u001b[0m\u001b[0;34m\u001b[0m\u001b[0;34m\u001b[0m\u001b[0;34m\u001b[0m\u001b[0m\n\u001b[0;32m-> 3445\u001b[0;31m         \u001b[0;32mif\u001b[0m \u001b[0mcom\u001b[0m\u001b[0;34m.\u001b[0m\u001b[0mis_bool_indexer\u001b[0m\u001b[0;34m(\u001b[0m\u001b[0mkey\u001b[0m\u001b[0;34m)\u001b[0m\u001b[0;34m:\u001b[0m\u001b[0;34m\u001b[0m\u001b[0;34m\u001b[0m\u001b[0m\n\u001b[0m\u001b[1;32m   3446\u001b[0m             \u001b[0;32mreturn\u001b[0m \u001b[0mself\u001b[0m\u001b[0;34m.\u001b[0m\u001b[0m_getitem_bool_array\u001b[0m\u001b[0;34m(\u001b[0m\u001b[0mkey\u001b[0m\u001b[0;34m)\u001b[0m\u001b[0;34m\u001b[0m\u001b[0;34m\u001b[0m\u001b[0m\n\u001b[1;32m   3447\u001b[0m \u001b[0;34m\u001b[0m\u001b[0m\n",
      "\u001b[0;32m~/opt/anaconda3/envs/metis/lib/python3.8/site-packages/pandas/core/common.py\u001b[0m in \u001b[0;36mis_bool_indexer\u001b[0;34m(key)\u001b[0m\n\u001b[1;32m    137\u001b[0m                     \u001b[0;31m# Don't raise on e.g. [\"A\", \"B\", np.nan], see\u001b[0m\u001b[0;34m\u001b[0m\u001b[0;34m\u001b[0m\u001b[0;34m\u001b[0m\u001b[0m\n\u001b[1;32m    138\u001b[0m                     \u001b[0;31m#  test_loc_getitem_list_of_labels_categoricalindex_with_na\u001b[0m\u001b[0;34m\u001b[0m\u001b[0;34m\u001b[0m\u001b[0;34m\u001b[0m\u001b[0m\n\u001b[0;32m--> 139\u001b[0;31m                     \u001b[0;32mraise\u001b[0m \u001b[0mValueError\u001b[0m\u001b[0;34m(\u001b[0m\u001b[0mna_msg\u001b[0m\u001b[0;34m)\u001b[0m\u001b[0;34m\u001b[0m\u001b[0;34m\u001b[0m\u001b[0m\n\u001b[0m\u001b[1;32m    140\u001b[0m                 \u001b[0;32mreturn\u001b[0m \u001b[0;32mFalse\u001b[0m\u001b[0;34m\u001b[0m\u001b[0;34m\u001b[0m\u001b[0m\n\u001b[1;32m    141\u001b[0m             \u001b[0;32mreturn\u001b[0m \u001b[0;32mTrue\u001b[0m\u001b[0;34m\u001b[0m\u001b[0;34m\u001b[0m\u001b[0m\n",
      "\u001b[0;31mValueError\u001b[0m: Cannot mask with non-boolean array containing NA / NaN values"
     ]
    }
   ],
   "source": [
    "df[df.message.str.startswith(\"Wor\")]"
   ]
  },
  {
   "cell_type": "code",
   "execution_count": 109,
   "id": "e93f4b1f-0c98-4f07-b20b-cdf2a0dabd2f",
   "metadata": {},
   "outputs": [
    {
     "data": {
      "text/html": [
       "<div>\n",
       "<style scoped>\n",
       "    .dataframe tbody tr th:only-of-type {\n",
       "        vertical-align: middle;\n",
       "    }\n",
       "\n",
       "    .dataframe tbody tr th {\n",
       "        vertical-align: top;\n",
       "    }\n",
       "\n",
       "    .dataframe thead th {\n",
       "        text-align: right;\n",
       "    }\n",
       "</style>\n",
       "<table border=\"1\" class=\"dataframe\">\n",
       "  <thead>\n",
       "    <tr style=\"text-align: right;\">\n",
       "      <th></th>\n",
       "      <th>player</th>\n",
       "      <th>date</th>\n",
       "      <th>message</th>\n",
       "    </tr>\n",
       "  </thead>\n",
       "  <tbody>\n",
       "    <tr>\n",
       "      <th>2</th>\n",
       "      <td>Danielle</td>\n",
       "      <td>2022-03-26 00:50:01</td>\n",
       "      <td>Wordle 280 5/6\\n\\n⬛⬛🟨⬛⬛\\n⬛⬛🟩⬛🟨\\n🟩⬛🟩⬛⬛\\n🟩⬛🟩⬛🟩\\n...</td>\n",
       "    </tr>\n",
       "    <tr>\n",
       "      <th>3</th>\n",
       "      <td>Dad</td>\n",
       "      <td>2022-03-26 00:42:45</td>\n",
       "      <td>Wordle 280 3/6\\n\\n⬜🟩🟩⬜⬜\\n🟩🟩🟩⬜⬜\\n🟩🟩🟩🟩🟩</td>\n",
       "    </tr>\n",
       "    <tr>\n",
       "      <th>8</th>\n",
       "      <td>Michael</td>\n",
       "      <td>2022-03-25 19:05:29</td>\n",
       "      <td>Wordle 279 4/6\\n\\n🟨🟩⬛⬛⬛\\n⬛🟩⬛🟨⬛\\n🟨🟩🟩⬛🟨\\n🟩🟩🟩🟩🟩\\n...</td>\n",
       "    </tr>\n",
       "    <tr>\n",
       "      <th>9</th>\n",
       "      <td>Dad</td>\n",
       "      <td>2022-03-25 01:05:31</td>\n",
       "      <td>Wordle 279 3/6\\n\\n⬜⬜⬜⬜⬜\\n🟨🟨⬜🟨⬜\\n🟩🟩🟩🟩🟩</td>\n",
       "    </tr>\n",
       "    <tr>\n",
       "      <th>10</th>\n",
       "      <td>Danielle</td>\n",
       "      <td>2022-03-25 00:20:43</td>\n",
       "      <td>Wordle 279 4/6\\n\\n🟨🟩⬛⬛⬛\\n⬛🟩🟨⬛⬛\\n⬛🟩⬛🟨🟨\\n🟩🟩🟩🟩🟩</td>\n",
       "    </tr>\n",
       "    <tr>\n",
       "      <th>...</th>\n",
       "      <td>...</td>\n",
       "      <td>...</td>\n",
       "      <td>...</td>\n",
       "    </tr>\n",
       "    <tr>\n",
       "      <th>574</th>\n",
       "      <td>Michael</td>\n",
       "      <td>2022-02-05 10:31:55</td>\n",
       "      <td>Wordle 231 4/6\\n\\n🟨⬛🟨⬛⬛\\n🟩🟩⬛⬛⬛\\n🟩🟩🟩⬛🟨\\n🟩🟩🟩🟩🟩</td>\n",
       "    </tr>\n",
       "    <tr>\n",
       "      <th>576</th>\n",
       "      <td>Dad</td>\n",
       "      <td>2022-02-05 01:08:40</td>\n",
       "      <td>￼Wordle 231 3/6\\n\\n3 for me \\n\\n⬜🟨⬜🟨⬜\\n🟨🟩🟩🟨🟩\\n...</td>\n",
       "    </tr>\n",
       "    <tr>\n",
       "      <th>577</th>\n",
       "      <td>Michael</td>\n",
       "      <td>2022-02-04 08:41:31</td>\n",
       "      <td>Wordle 230 5/6\\n\\n🟨🟨⬛⬛⬛\\n🟨🟩⬛⬛🟨\\n⬛🟩🟩⬛🟨\\n🟩🟩🟩🟩⬛\\n...</td>\n",
       "    </tr>\n",
       "    <tr>\n",
       "      <th>578</th>\n",
       "      <td>Danielle</td>\n",
       "      <td>2022-02-04 08:39:54</td>\n",
       "      <td>Wordle 230 4/6\\n\\n⬛🟨⬛⬛🟨\\n⬛🟨🟨🟨⬛\\n🟩🟨🟨🟨🟩\\n🟩🟩🟩🟩🟩</td>\n",
       "    </tr>\n",
       "    <tr>\n",
       "      <th>579</th>\n",
       "      <td>Dad</td>\n",
       "      <td>2022-02-04 01:43:39</td>\n",
       "      <td>Wordle 230 3/6\\n3 for me today\\n\\n⬜🟨⬜⬜🟨\\n🟩🟩🟩🟩⬜...</td>\n",
       "    </tr>\n",
       "  </tbody>\n",
       "</table>\n",
       "<p>185 rows × 3 columns</p>\n",
       "</div>"
      ],
      "text/plain": [
       "       player                 date  \\\n",
       "2    Danielle  2022-03-26 00:50:01   \n",
       "3         Dad  2022-03-26 00:42:45   \n",
       "8    Michael   2022-03-25 19:05:29   \n",
       "9         Dad  2022-03-25 01:05:31   \n",
       "10   Danielle  2022-03-25 00:20:43   \n",
       "..        ...                  ...   \n",
       "574  Michael   2022-02-05 10:31:55   \n",
       "576       Dad  2022-02-05 01:08:40   \n",
       "577  Michael   2022-02-04 08:41:31   \n",
       "578  Danielle  2022-02-04 08:39:54   \n",
       "579       Dad  2022-02-04 01:43:39   \n",
       "\n",
       "                                               message  \n",
       "2    Wordle 280 5/6\\n\\n⬛⬛🟨⬛⬛\\n⬛⬛🟩⬛🟨\\n🟩⬛🟩⬛⬛\\n🟩⬛🟩⬛🟩\\n...  \n",
       "3                Wordle 280 3/6\\n\\n⬜🟩🟩⬜⬜\\n🟩🟩🟩⬜⬜\\n🟩🟩🟩🟩🟩  \n",
       "8    Wordle 279 4/6\\n\\n🟨🟩⬛⬛⬛\\n⬛🟩⬛🟨⬛\\n🟨🟩🟩⬛🟨\\n🟩🟩🟩🟩🟩\\n...  \n",
       "9                Wordle 279 3/6\\n\\n⬜⬜⬜⬜⬜\\n🟨🟨⬜🟨⬜\\n🟩🟩🟩🟩🟩  \n",
       "10        Wordle 279 4/6\\n\\n🟨🟩⬛⬛⬛\\n⬛🟩🟨⬛⬛\\n⬛🟩⬛🟨🟨\\n🟩🟩🟩🟩🟩  \n",
       "..                                                 ...  \n",
       "574       Wordle 231 4/6\\n\\n🟨⬛🟨⬛⬛\\n🟩🟩⬛⬛⬛\\n🟩🟩🟩⬛🟨\\n🟩🟩🟩🟩🟩  \n",
       "576  ￼Wordle 231 3/6\\n\\n3 for me \\n\\n⬜🟨⬜🟨⬜\\n🟨🟩🟩🟨🟩\\n...  \n",
       "577  Wordle 230 5/6\\n\\n🟨🟨⬛⬛⬛\\n🟨🟩⬛⬛🟨\\n⬛🟩🟩⬛🟨\\n🟩🟩🟩🟩⬛\\n...  \n",
       "578       Wordle 230 4/6\\n\\n⬛🟨⬛⬛🟨\\n⬛🟨🟨🟨⬛\\n🟩🟨🟨🟨🟩\\n🟩🟩🟩🟩🟩  \n",
       "579  Wordle 230 3/6\\n3 for me today\\n\\n⬜🟨⬜⬜🟨\\n🟩🟩🟩🟩⬜...  \n",
       "\n",
       "[185 rows x 3 columns]"
      ]
     },
     "execution_count": 109,
     "metadata": {},
     "output_type": "execute_result"
    }
   ],
   "source": [
    "df[df.message.str.contains('Wordle')]"
   ]
  },
  {
   "cell_type": "code",
   "execution_count": 101,
   "id": "2068efb6-4b1a-426f-a5df-ab3fc2864d90",
   "metadata": {},
   "outputs": [
    {
     "data": {
      "text/html": [
       "<div>\n",
       "<style scoped>\n",
       "    .dataframe tbody tr th:only-of-type {\n",
       "        vertical-align: middle;\n",
       "    }\n",
       "\n",
       "    .dataframe tbody tr th {\n",
       "        vertical-align: top;\n",
       "    }\n",
       "\n",
       "    .dataframe thead th {\n",
       "        text-align: right;\n",
       "    }\n",
       "</style>\n",
       "<table border=\"1\" class=\"dataframe\">\n",
       "  <thead>\n",
       "    <tr style=\"text-align: right;\">\n",
       "      <th></th>\n",
       "      <th>player</th>\n",
       "      <th>date</th>\n",
       "      <th>message</th>\n",
       "    </tr>\n",
       "  </thead>\n",
       "  <tbody>\n",
       "    <tr>\n",
       "      <th>2</th>\n",
       "      <td>Danielle</td>\n",
       "      <td>2022-03-26 00:50:01</td>\n",
       "      <td>Wordle 280 5/6\\n\\n⬛⬛🟨⬛⬛\\n⬛⬛🟩⬛🟨\\n🟩⬛🟩⬛⬛\\n🟩⬛🟩⬛🟩\\n...</td>\n",
       "    </tr>\n",
       "    <tr>\n",
       "      <th>3</th>\n",
       "      <td>Dad</td>\n",
       "      <td>2022-03-26 00:42:45</td>\n",
       "      <td>Wordle 280 3/6\\n\\n⬜🟩🟩⬜⬜\\n🟩🟩🟩⬜⬜\\n🟩🟩🟩🟩🟩</td>\n",
       "    </tr>\n",
       "    <tr>\n",
       "      <th>8</th>\n",
       "      <td>Michael</td>\n",
       "      <td>2022-03-25 19:05:29</td>\n",
       "      <td>Wordle 279 4/6\\n\\n🟨🟩⬛⬛⬛\\n⬛🟩⬛🟨⬛\\n🟨🟩🟩⬛🟨\\n🟩🟩🟩🟩🟩\\n...</td>\n",
       "    </tr>\n",
       "    <tr>\n",
       "      <th>9</th>\n",
       "      <td>Dad</td>\n",
       "      <td>2022-03-25 01:05:31</td>\n",
       "      <td>Wordle 279 3/6\\n\\n⬜⬜⬜⬜⬜\\n🟨🟨⬜🟨⬜\\n🟩🟩🟩🟩🟩</td>\n",
       "    </tr>\n",
       "    <tr>\n",
       "      <th>10</th>\n",
       "      <td>Danielle</td>\n",
       "      <td>2022-03-25 00:20:43</td>\n",
       "      <td>Wordle 279 4/6\\n\\n🟨🟩⬛⬛⬛\\n⬛🟩🟨⬛⬛\\n⬛🟩⬛🟨🟨\\n🟩🟩🟩🟩🟩</td>\n",
       "    </tr>\n",
       "    <tr>\n",
       "      <th>...</th>\n",
       "      <td>...</td>\n",
       "      <td>...</td>\n",
       "      <td>...</td>\n",
       "    </tr>\n",
       "    <tr>\n",
       "      <th>574</th>\n",
       "      <td>Michael</td>\n",
       "      <td>2022-02-05 10:31:55</td>\n",
       "      <td>Wordle 231 4/6\\n\\n🟨⬛🟨⬛⬛\\n🟩🟩⬛⬛⬛\\n🟩🟩🟩⬛🟨\\n🟩🟩🟩🟩🟩</td>\n",
       "    </tr>\n",
       "    <tr>\n",
       "      <th>576</th>\n",
       "      <td>Dad</td>\n",
       "      <td>2022-02-05 01:08:40</td>\n",
       "      <td>￼Wordle 231 3/6\\n\\n3 for me \\n\\n⬜🟨⬜🟨⬜\\n🟨🟩🟩🟨🟩\\n...</td>\n",
       "    </tr>\n",
       "    <tr>\n",
       "      <th>577</th>\n",
       "      <td>Michael</td>\n",
       "      <td>2022-02-04 08:41:31</td>\n",
       "      <td>Wordle 230 5/6\\n\\n🟨🟨⬛⬛⬛\\n🟨🟩⬛⬛🟨\\n⬛🟩🟩⬛🟨\\n🟩🟩🟩🟩⬛\\n...</td>\n",
       "    </tr>\n",
       "    <tr>\n",
       "      <th>578</th>\n",
       "      <td>Danielle</td>\n",
       "      <td>2022-02-04 08:39:54</td>\n",
       "      <td>Wordle 230 4/6\\n\\n⬛🟨⬛⬛🟨\\n⬛🟨🟨🟨⬛\\n🟩🟨🟨🟨🟩\\n🟩🟩🟩🟩🟩</td>\n",
       "    </tr>\n",
       "    <tr>\n",
       "      <th>579</th>\n",
       "      <td>Dad</td>\n",
       "      <td>2022-02-04 01:43:39</td>\n",
       "      <td>Wordle 230 3/6\\n3 for me today\\n\\n⬜🟨⬜⬜🟨\\n🟩🟩🟩🟩⬜...</td>\n",
       "    </tr>\n",
       "  </tbody>\n",
       "</table>\n",
       "<p>185 rows × 3 columns</p>\n",
       "</div>"
      ],
      "text/plain": [
       "       player                 date  \\\n",
       "2    Danielle  2022-03-26 00:50:01   \n",
       "3         Dad  2022-03-26 00:42:45   \n",
       "8    Michael   2022-03-25 19:05:29   \n",
       "9         Dad  2022-03-25 01:05:31   \n",
       "10   Danielle  2022-03-25 00:20:43   \n",
       "..        ...                  ...   \n",
       "574  Michael   2022-02-05 10:31:55   \n",
       "576       Dad  2022-02-05 01:08:40   \n",
       "577  Michael   2022-02-04 08:41:31   \n",
       "578  Danielle  2022-02-04 08:39:54   \n",
       "579       Dad  2022-02-04 01:43:39   \n",
       "\n",
       "                                               message  \n",
       "2    Wordle 280 5/6\\n\\n⬛⬛🟨⬛⬛\\n⬛⬛🟩⬛🟨\\n🟩⬛🟩⬛⬛\\n🟩⬛🟩⬛🟩\\n...  \n",
       "3                Wordle 280 3/6\\n\\n⬜🟩🟩⬜⬜\\n🟩🟩🟩⬜⬜\\n🟩🟩🟩🟩🟩  \n",
       "8    Wordle 279 4/6\\n\\n🟨🟩⬛⬛⬛\\n⬛🟩⬛🟨⬛\\n🟨🟩🟩⬛🟨\\n🟩🟩🟩🟩🟩\\n...  \n",
       "9                Wordle 279 3/6\\n\\n⬜⬜⬜⬜⬜\\n🟨🟨⬜🟨⬜\\n🟩🟩🟩🟩🟩  \n",
       "10        Wordle 279 4/6\\n\\n🟨🟩⬛⬛⬛\\n⬛🟩🟨⬛⬛\\n⬛🟩⬛🟨🟨\\n🟩🟩🟩🟩🟩  \n",
       "..                                                 ...  \n",
       "574       Wordle 231 4/6\\n\\n🟨⬛🟨⬛⬛\\n🟩🟩⬛⬛⬛\\n🟩🟩🟩⬛🟨\\n🟩🟩🟩🟩🟩  \n",
       "576  ￼Wordle 231 3/6\\n\\n3 for me \\n\\n⬜🟨⬜🟨⬜\\n🟨🟩🟩🟨🟩\\n...  \n",
       "577  Wordle 230 5/6\\n\\n🟨🟨⬛⬛⬛\\n🟨🟩⬛⬛🟨\\n⬛🟩🟩⬛🟨\\n🟩🟩🟩🟩⬛\\n...  \n",
       "578       Wordle 230 4/6\\n\\n⬛🟨⬛⬛🟨\\n⬛🟨🟨🟨⬛\\n🟩🟨🟨🟨🟩\\n🟩🟩🟩🟩🟩  \n",
       "579  Wordle 230 3/6\\n3 for me today\\n\\n⬜🟨⬜⬜🟨\\n🟩🟩🟩🟩⬜...  \n",
       "\n",
       "[185 rows x 3 columns]"
      ]
     },
     "execution_count": 101,
     "metadata": {},
     "output_type": "execute_result"
    }
   ],
   "source": [
    "#df[df.message.str.contains('🟩')] # interesting i'm surprised this works!\n",
    "\n",
    "## \n",
    "\n",
    "#df[df.message.str.contains('Wordle') & df.message.str.contains('🟩')] # really should use this, but unsure if the green chracter will trhow error in production"
   ]
  },
  {
   "cell_type": "code",
   "execution_count": 111,
   "id": "3865f65f-fcfe-427c-951a-5d4b7213394d",
   "metadata": {},
   "outputs": [
    {
     "name": "stderr",
     "output_type": "stream",
     "text": [
      "/Users/michaelharnett/opt/anaconda3/envs/metis/lib/python3.8/site-packages/pandas/core/frame.py:3607: SettingWithCopyWarning: \n",
      "A value is trying to be set on a copy of a slice from a DataFrame.\n",
      "Try using .loc[row_indexer,col_indexer] = value instead\n",
      "\n",
      "See the caveats in the documentation: https://pandas.pydata.org/pandas-docs/stable/user_guide/indexing.html#returning-a-view-versus-a-copy\n",
      "  self._set_item(key, value)\n"
     ]
    }
   ],
   "source": [
    "# creating a game number and score coluns\n",
    "\n",
    "for rows in df:\n",
    "    df['gamenumber'] = df.message[:6]"
   ]
  },
  {
   "cell_type": "code",
   "execution_count": 115,
   "id": "2124473a-2292-4fee-ab70-d99c8ea4a600",
   "metadata": {},
   "outputs": [],
   "source": [
    "df = df.drop(columns=['gamenumber'])"
   ]
  },
  {
   "cell_type": "code",
   "execution_count": 116,
   "id": "4b6484bf-280e-40d2-80ce-eebd2fe46f30",
   "metadata": {},
   "outputs": [
    {
     "data": {
      "text/html": [
       "<div>\n",
       "<style scoped>\n",
       "    .dataframe tbody tr th:only-of-type {\n",
       "        vertical-align: middle;\n",
       "    }\n",
       "\n",
       "    .dataframe tbody tr th {\n",
       "        vertical-align: top;\n",
       "    }\n",
       "\n",
       "    .dataframe thead th {\n",
       "        text-align: right;\n",
       "    }\n",
       "</style>\n",
       "<table border=\"1\" class=\"dataframe\">\n",
       "  <thead>\n",
       "    <tr style=\"text-align: right;\">\n",
       "      <th></th>\n",
       "      <th>player</th>\n",
       "      <th>date</th>\n",
       "      <th>message</th>\n",
       "    </tr>\n",
       "  </thead>\n",
       "  <tbody>\n",
       "    <tr>\n",
       "      <th>1</th>\n",
       "      <td>Dad</td>\n",
       "      <td>2022-03-26 00:50:25</td>\n",
       "      <td>😊</td>\n",
       "    </tr>\n",
       "    <tr>\n",
       "      <th>2</th>\n",
       "      <td>Danielle</td>\n",
       "      <td>2022-03-26 00:50:01</td>\n",
       "      <td>Wordle 280 5/6\\n\\n⬛⬛🟨⬛⬛\\n⬛⬛🟩⬛🟨\\n🟩⬛🟩⬛⬛\\n🟩⬛🟩⬛🟩\\n...</td>\n",
       "    </tr>\n",
       "    <tr>\n",
       "      <th>3</th>\n",
       "      <td>Dad</td>\n",
       "      <td>2022-03-26 00:42:45</td>\n",
       "      <td>Wordle 280 3/6\\n\\n⬜🟩🟩⬜⬜\\n🟩🟩🟩⬜⬜\\n🟩🟩🟩🟩🟩</td>\n",
       "    </tr>\n",
       "    <tr>\n",
       "      <th>4</th>\n",
       "      <td>Dad</td>\n",
       "      <td>2022-03-25 19:28:14</td>\n",
       "      <td>Thank you</td>\n",
       "    </tr>\n",
       "    <tr>\n",
       "      <th>5</th>\n",
       "      <td>Michael</td>\n",
       "      <td>2022-03-25 19:28:01</td>\n",
       "      <td>Shorthand for department</td>\n",
       "    </tr>\n",
       "    <tr>\n",
       "      <th>...</th>\n",
       "      <td>...</td>\n",
       "      <td>...</td>\n",
       "      <td>...</td>\n",
       "    </tr>\n",
       "    <tr>\n",
       "      <th>584</th>\n",
       "      <td>Michael</td>\n",
       "      <td>2022-02-03 19:12:58</td>\n",
       "      <td>I got wordle in 2 today 😏</td>\n",
       "    </tr>\n",
       "    <tr>\n",
       "      <th>585</th>\n",
       "      <td>Michael</td>\n",
       "      <td>2021-07-20 13:36:50</td>\n",
       "      <td>￼</td>\n",
       "    </tr>\n",
       "    <tr>\n",
       "      <th>586</th>\n",
       "      <td>Dad</td>\n",
       "      <td>2021-07-20 13:22:56</td>\n",
       "      <td>Thank you😊</td>\n",
       "    </tr>\n",
       "    <tr>\n",
       "      <th>587</th>\n",
       "      <td>Danielle</td>\n",
       "      <td>2021-07-20 13:22:22</td>\n",
       "      <td>Yes it’s my email  and password is Lucky95</td>\n",
       "    </tr>\n",
       "    <tr>\n",
       "      <th>588</th>\n",
       "      <td>Dad</td>\n",
       "      <td>2021-07-20 13:18:17</td>\n",
       "      <td>Do we have Hulu ?</td>\n",
       "    </tr>\n",
       "  </tbody>\n",
       "</table>\n",
       "<p>585 rows × 3 columns</p>\n",
       "</div>"
      ],
      "text/plain": [
       "       player                 date  \\\n",
       "1         Dad  2022-03-26 00:50:25   \n",
       "2    Danielle  2022-03-26 00:50:01   \n",
       "3         Dad  2022-03-26 00:42:45   \n",
       "4         Dad  2022-03-25 19:28:14   \n",
       "5    Michael   2022-03-25 19:28:01   \n",
       "..        ...                  ...   \n",
       "584  Michael   2022-02-03 19:12:58   \n",
       "585  Michael   2021-07-20 13:36:50   \n",
       "586       Dad  2021-07-20 13:22:56   \n",
       "587  Danielle  2021-07-20 13:22:22   \n",
       "588       Dad  2021-07-20 13:18:17   \n",
       "\n",
       "                                               message  \n",
       "1                                                    😊  \n",
       "2    Wordle 280 5/6\\n\\n⬛⬛🟨⬛⬛\\n⬛⬛🟩⬛🟨\\n🟩⬛🟩⬛⬛\\n🟩⬛🟩⬛🟩\\n...  \n",
       "3                Wordle 280 3/6\\n\\n⬜🟩🟩⬜⬜\\n🟩🟩🟩⬜⬜\\n🟩🟩🟩🟩🟩  \n",
       "4                                            Thank you  \n",
       "5                            Shorthand for department   \n",
       "..                                                 ...  \n",
       "584                          I got wordle in 2 today 😏  \n",
       "585                                                  ￼  \n",
       "586                                         Thank you😊  \n",
       "587         Yes it’s my email  and password is Lucky95  \n",
       "588                                 Do we have Hulu ?   \n",
       "\n",
       "[585 rows x 3 columns]"
      ]
     },
     "execution_count": 116,
     "metadata": {},
     "output_type": "execute_result"
    }
   ],
   "source": [
    "df\n"
   ]
  },
  {
   "cell_type": "code",
   "execution_count": 122,
   "id": "36f98229-f682-4f42-867d-85b3159b3af0",
   "metadata": {},
   "outputs": [
    {
     "data": {
      "text/plain": [
       "'3/6\\n'"
      ]
     },
     "execution_count": 122,
     "metadata": {},
     "output_type": "execute_result"
    }
   ],
   "source": [
    "df.iloc[2]['message'][11:15]"
   ]
  },
  {
   "cell_type": "code",
   "execution_count": 123,
   "id": "5cf0f0fa-e64c-45bd-8611-0d3c41641bdb",
   "metadata": {},
   "outputs": [],
   "source": [
    "\n",
    "## applying the funtion did not work since there was nothing keeping it at row level the whoe \n",
    "## df had the data from the last entry \n",
    "\n",
    "# def game_info_grabber (message):\n",
    "#     '''\n",
    "#     going to make a mini function to seperate the messages. I am going to make one colum\n",
    "#     just the first 6 charachters. all messages I want should start with 'Wordle' this \n",
    "#     will allow another layer of filtering, making sure I am not capturing messages that\n",
    "#     we were just using the word 'wordle' in\n",
    "    \n",
    "#     next will be game number,\n",
    "    \n",
    "#     then score.\n",
    "#     '''\n",
    "#     df['wordle_check'] = message[:6]\n",
    "#     df['game_num'] = message[7:10]\n",
    "#     df['score'] = message[11:14]    "
   ]
  },
  {
   "cell_type": "code",
   "execution_count": 124,
   "id": "4fe0a36e-5108-4f20-a96e-10eeccbf8f95",
   "metadata": {},
   "outputs": [
    {
     "data": {
      "text/plain": [
       "1      None\n",
       "2      None\n",
       "3      None\n",
       "4      None\n",
       "5      None\n",
       "       ... \n",
       "584    None\n",
       "585    None\n",
       "586    None\n",
       "587    None\n",
       "588    None\n",
       "Name: message, Length: 585, dtype: object"
      ]
     },
     "execution_count": 124,
     "metadata": {},
     "output_type": "execute_result"
    }
   ],
   "source": [
    "df.message.apply(game_info_grabber)"
   ]
  },
  {
   "cell_type": "code",
   "execution_count": 129,
   "id": "32f349a1-beb1-4580-b776-f62410ae30e4",
   "metadata": {},
   "outputs": [],
   "source": [
    "df = df.drop(columns = ['wordle_check','game_num','score'])"
   ]
  },
  {
   "cell_type": "code",
   "execution_count": 127,
   "id": "b6bb3445-9556-4923-b7dd-781d860245cf",
   "metadata": {},
   "outputs": [
    {
     "data": {
      "text/plain": [
       "1                                                    😊\n",
       "2    Wordle 280 5/6\\n\\n⬛⬛🟨⬛⬛\\n⬛⬛🟩⬛🟨\\n🟩⬛🟩⬛⬛\\n🟩⬛🟩⬛🟩\\n...\n",
       "3                Wordle 280 3/6\\n\\n⬜🟩🟩⬜⬜\\n🟩🟩🟩⬜⬜\\n🟩🟩🟩🟩🟩\n",
       "4                                            Thank you\n",
       "5                            Shorthand for department \n",
       "6                                                    ￼\n",
       "Name: message, dtype: object"
      ]
     },
     "execution_count": 127,
     "metadata": {},
     "output_type": "execute_result"
    }
   ],
   "source": [
    "df.message[:6]"
   ]
  },
  {
   "cell_type": "code",
   "execution_count": 133,
   "id": "328f6261-fd9c-40a4-a31a-e94b9153f8c2",
   "metadata": {},
   "outputs": [
    {
     "name": "stdout",
     "output_type": "stream",
     "text": [
      "player\n",
      "date\n",
      "message\n"
     ]
    }
   ],
   "source": [
    "for rows in df:\n",
    "    print(rows)"
   ]
  },
  {
   "cell_type": "code",
   "execution_count": 27,
   "id": "985d9922-c6de-4067-a422-be17805f7c47",
   "metadata": {},
   "outputs": [],
   "source": [
    "df['wordle_check'] = ''\n",
    "df['game_num'] = ''\n",
    "df['score'] = ''"
   ]
  },
  {
   "cell_type": "code",
   "execution_count": 40,
   "id": "e8c8371e-ff9a-455d-b797-c3049d714a8a",
   "metadata": {},
   "outputs": [],
   "source": [
    "## the loop below was breaking at index 540...I had removed nulls and\n",
    "## didn't reset the index.\n",
    "df = df.dropna()\n",
    "df = df.reset_index()\n",
    "df =df.drop(columns = ['index'])"
   ]
  },
  {
   "cell_type": "code",
   "execution_count": 41,
   "id": "3a0c2806-7557-4a91-8eeb-fb95766aeb81",
   "metadata": {},
   "outputs": [
    {
     "data": {
      "text/html": [
       "<div>\n",
       "<style scoped>\n",
       "    .dataframe tbody tr th:only-of-type {\n",
       "        vertical-align: middle;\n",
       "    }\n",
       "\n",
       "    .dataframe tbody tr th {\n",
       "        vertical-align: top;\n",
       "    }\n",
       "\n",
       "    .dataframe thead th {\n",
       "        text-align: right;\n",
       "    }\n",
       "</style>\n",
       "<table border=\"1\" class=\"dataframe\">\n",
       "  <thead>\n",
       "    <tr style=\"text-align: right;\">\n",
       "      <th></th>\n",
       "      <th>player</th>\n",
       "      <th>date</th>\n",
       "      <th>message</th>\n",
       "      <th>wordle_check</th>\n",
       "      <th>game_num</th>\n",
       "      <th>score</th>\n",
       "    </tr>\n",
       "  </thead>\n",
       "  <tbody>\n",
       "    <tr>\n",
       "      <th>0</th>\n",
       "      <td>Chris</td>\n",
       "      <td>2022-03-26 09:10:04</td>\n",
       "      <td>Wordle 280 4/6\\n\\n⬛️🟨⬛️⬛️⬛️\\n⬛️⬛️🟨⬛️⬛️\\n⬛️🟨⬛️🟨...</td>\n",
       "      <td></td>\n",
       "      <td></td>\n",
       "      <td></td>\n",
       "    </tr>\n",
       "    <tr>\n",
       "      <th>1</th>\n",
       "      <td>Dad</td>\n",
       "      <td>2022-03-26 00:50:25</td>\n",
       "      <td>😊</td>\n",
       "      <td></td>\n",
       "      <td></td>\n",
       "      <td></td>\n",
       "    </tr>\n",
       "    <tr>\n",
       "      <th>2</th>\n",
       "      <td>Danielle</td>\n",
       "      <td>2022-03-26 00:50:01</td>\n",
       "      <td>Wordle 280 5/6\\n\\n⬛⬛🟨⬛⬛\\n⬛⬛🟩⬛🟨\\n🟩⬛🟩⬛⬛\\n🟩⬛🟩⬛🟩\\n...</td>\n",
       "      <td></td>\n",
       "      <td></td>\n",
       "      <td></td>\n",
       "    </tr>\n",
       "    <tr>\n",
       "      <th>3</th>\n",
       "      <td>Dad</td>\n",
       "      <td>2022-03-26 00:42:45</td>\n",
       "      <td>Wordle 280 3/6\\n\\n⬜🟩🟩⬜⬜\\n🟩🟩🟩⬜⬜\\n🟩🟩🟩🟩🟩</td>\n",
       "      <td></td>\n",
       "      <td></td>\n",
       "      <td></td>\n",
       "    </tr>\n",
       "    <tr>\n",
       "      <th>4</th>\n",
       "      <td>Dad</td>\n",
       "      <td>2022-03-25 19:28:14</td>\n",
       "      <td>Thank you</td>\n",
       "      <td></td>\n",
       "      <td></td>\n",
       "      <td></td>\n",
       "    </tr>\n",
       "    <tr>\n",
       "      <th>...</th>\n",
       "      <td>...</td>\n",
       "      <td>...</td>\n",
       "      <td>...</td>\n",
       "      <td>...</td>\n",
       "      <td>...</td>\n",
       "      <td>...</td>\n",
       "    </tr>\n",
       "    <tr>\n",
       "      <th>581</th>\n",
       "      <td>Michael</td>\n",
       "      <td>2022-02-03 19:12:58</td>\n",
       "      <td>I got wordle in 2 today 😏</td>\n",
       "      <td></td>\n",
       "      <td></td>\n",
       "      <td></td>\n",
       "    </tr>\n",
       "    <tr>\n",
       "      <th>582</th>\n",
       "      <td>Michael</td>\n",
       "      <td>2021-07-20 13:36:50</td>\n",
       "      <td>￼</td>\n",
       "      <td></td>\n",
       "      <td></td>\n",
       "      <td></td>\n",
       "    </tr>\n",
       "    <tr>\n",
       "      <th>583</th>\n",
       "      <td>Dad</td>\n",
       "      <td>2021-07-20 13:22:56</td>\n",
       "      <td>Thank you😊</td>\n",
       "      <td></td>\n",
       "      <td></td>\n",
       "      <td></td>\n",
       "    </tr>\n",
       "    <tr>\n",
       "      <th>584</th>\n",
       "      <td>Danielle</td>\n",
       "      <td>2021-07-20 13:22:22</td>\n",
       "      <td>Yes it’s my email  and password is Lucky95</td>\n",
       "      <td></td>\n",
       "      <td></td>\n",
       "      <td></td>\n",
       "    </tr>\n",
       "    <tr>\n",
       "      <th>585</th>\n",
       "      <td>Dad</td>\n",
       "      <td>2021-07-20 13:18:17</td>\n",
       "      <td>Do we have Hulu ?</td>\n",
       "      <td></td>\n",
       "      <td></td>\n",
       "      <td></td>\n",
       "    </tr>\n",
       "  </tbody>\n",
       "</table>\n",
       "<p>586 rows × 6 columns</p>\n",
       "</div>"
      ],
      "text/plain": [
       "       player                 date  \\\n",
       "0       Chris  2022-03-26 09:10:04   \n",
       "1         Dad  2022-03-26 00:50:25   \n",
       "2    Danielle  2022-03-26 00:50:01   \n",
       "3         Dad  2022-03-26 00:42:45   \n",
       "4         Dad  2022-03-25 19:28:14   \n",
       "..        ...                  ...   \n",
       "581  Michael   2022-02-03 19:12:58   \n",
       "582  Michael   2021-07-20 13:36:50   \n",
       "583       Dad  2021-07-20 13:22:56   \n",
       "584  Danielle  2021-07-20 13:22:22   \n",
       "585       Dad  2021-07-20 13:18:17   \n",
       "\n",
       "                                               message wordle_check game_num  \\\n",
       "0    Wordle 280 4/6\\n\\n⬛️🟨⬛️⬛️⬛️\\n⬛️⬛️🟨⬛️⬛️\\n⬛️🟨⬛️🟨...                         \n",
       "1                                                    😊                         \n",
       "2    Wordle 280 5/6\\n\\n⬛⬛🟨⬛⬛\\n⬛⬛🟩⬛🟨\\n🟩⬛🟩⬛⬛\\n🟩⬛🟩⬛🟩\\n...                         \n",
       "3                Wordle 280 3/6\\n\\n⬜🟩🟩⬜⬜\\n🟩🟩🟩⬜⬜\\n🟩🟩🟩🟩🟩                         \n",
       "4                                            Thank you                         \n",
       "..                                                 ...          ...      ...   \n",
       "581                          I got wordle in 2 today 😏                         \n",
       "582                                                  ￼                         \n",
       "583                                         Thank you😊                         \n",
       "584         Yes it’s my email  and password is Lucky95                         \n",
       "585                                 Do we have Hulu ?                          \n",
       "\n",
       "    score  \n",
       "0          \n",
       "1          \n",
       "2          \n",
       "3          \n",
       "4          \n",
       "..    ...  \n",
       "581        \n",
       "582        \n",
       "583        \n",
       "584        \n",
       "585        \n",
       "\n",
       "[586 rows x 6 columns]"
      ]
     },
     "execution_count": 41,
     "metadata": {},
     "output_type": "execute_result"
    }
   ],
   "source": [
    "df"
   ]
  },
  {
   "cell_type": "code",
   "execution_count": 42,
   "id": "d9de7d6f-be78-4ff6-b19e-294ee8890531",
   "metadata": {},
   "outputs": [],
   "source": [
    "for i in range(1,len(df)):\n",
    "    df.loc[i,'wordle_check'] = df.loc[i,'message'][:6]\n",
    "    df.loc[i,'game_num'] = df.loc[i,'message'][7:10]\n",
    "    df.loc[i,'score'] = df.loc[i,'message'][11:14]\n",
    "    \n",
    "\n",
    "    "
   ]
  },
  {
   "cell_type": "code",
   "execution_count": 43,
   "id": "1caad5d2-d38f-43b7-bbdb-d51e45dff6af",
   "metadata": {},
   "outputs": [
    {
     "data": {
      "text/html": [
       "<div>\n",
       "<style scoped>\n",
       "    .dataframe tbody tr th:only-of-type {\n",
       "        vertical-align: middle;\n",
       "    }\n",
       "\n",
       "    .dataframe tbody tr th {\n",
       "        vertical-align: top;\n",
       "    }\n",
       "\n",
       "    .dataframe thead th {\n",
       "        text-align: right;\n",
       "    }\n",
       "</style>\n",
       "<table border=\"1\" class=\"dataframe\">\n",
       "  <thead>\n",
       "    <tr style=\"text-align: right;\">\n",
       "      <th></th>\n",
       "      <th>player</th>\n",
       "      <th>date</th>\n",
       "      <th>message</th>\n",
       "      <th>wordle_check</th>\n",
       "      <th>game_num</th>\n",
       "      <th>score</th>\n",
       "    </tr>\n",
       "  </thead>\n",
       "  <tbody>\n",
       "    <tr>\n",
       "      <th>535</th>\n",
       "      <td>Michael</td>\n",
       "      <td>2022-02-12 22:12:47</td>\n",
       "      <td>I’m going to create a spreadsheet tomorrow to ...</td>\n",
       "      <td>I’m go</td>\n",
       "      <td>ng</td>\n",
       "      <td>o c</td>\n",
       "    </tr>\n",
       "    <tr>\n",
       "      <th>536</th>\n",
       "      <td>Chris</td>\n",
       "      <td>2022-02-12 22:08:39</td>\n",
       "      <td>Wordle 238 5/6\\n\\n⬛️🟨⬛️⬛️🟨\\n🟨⬛️⬛️🟨🟨\\n🟨⬛️🟨⬛️⬛️\\...</td>\n",
       "      <td>Wordle</td>\n",
       "      <td>238</td>\n",
       "      <td>5/6</td>\n",
       "    </tr>\n",
       "    <tr>\n",
       "      <th>537</th>\n",
       "      <td>Dad</td>\n",
       "      <td>2022-02-12 01:04:00</td>\n",
       "      <td>Wordle 238 5/6\\n\\n⬜⬜⬜🟩⬜\\n⬜⬜🟨🟩⬜\\n⬜🟨⬜🟩⬜\\n🟨⬜⬜🟩🟨\\n...</td>\n",
       "      <td>Wordle</td>\n",
       "      <td>238</td>\n",
       "      <td>5/6</td>\n",
       "    </tr>\n",
       "    <tr>\n",
       "      <th>538</th>\n",
       "      <td>Danielle</td>\n",
       "      <td>2022-02-12 00:25:25</td>\n",
       "      <td>Wordle 238 3/6\\n\\n🟨🟨⬛⬛⬛\\n⬛🟨🟨🟨⬛\\n🟩🟩🟩🟩🟩</td>\n",
       "      <td>Wordle</td>\n",
       "      <td>238</td>\n",
       "      <td>3/6</td>\n",
       "    </tr>\n",
       "    <tr>\n",
       "      <th>539</th>\n",
       "      <td>Michael</td>\n",
       "      <td>2022-02-12 00:22:27</td>\n",
       "      <td>Wordle 238 4/6\\n\\n⬛🟩🟨🟨⬛\\n⬛🟩⬛🟨🟨\\n🟨🟩🟩⬛🟨\\n🟩🟩🟩🟩🟩</td>\n",
       "      <td>Wordle</td>\n",
       "      <td>238</td>\n",
       "      <td>4/6</td>\n",
       "    </tr>\n",
       "    <tr>\n",
       "      <th>540</th>\n",
       "      <td>Chris</td>\n",
       "      <td>2022-02-11 19:58:32</td>\n",
       "      <td>Ello</td>\n",
       "      <td>Ello</td>\n",
       "      <td></td>\n",
       "      <td></td>\n",
       "    </tr>\n",
       "    <tr>\n",
       "      <th>541</th>\n",
       "      <td>Michael</td>\n",
       "      <td>2022-02-11 19:55:50</td>\n",
       "      <td>Welcome bruv</td>\n",
       "      <td>Welcom</td>\n",
       "      <td>br</td>\n",
       "      <td>v</td>\n",
       "    </tr>\n",
       "    <tr>\n",
       "      <th>542</th>\n",
       "      <td>Danielle</td>\n",
       "      <td>2022-02-11 12:07:55</td>\n",
       "      <td>Wordle 237 3/6\\n\\n⬛⬛🟨⬛🟨\\n⬛🟨⬛🟩⬛\\n🟩🟩🟩🟩🟩</td>\n",
       "      <td>Wordle</td>\n",
       "      <td>237</td>\n",
       "      <td>3/6</td>\n",
       "    </tr>\n",
       "    <tr>\n",
       "      <th>543</th>\n",
       "      <td>Michael</td>\n",
       "      <td>2022-02-11 06:58:51</td>\n",
       "      <td>Wordle 237 5/6\\n\\n⬛🟨⬛🟨⬛\\n🟨⬛⬛🟩⬛\\n🟨⬛⬛🟩🟩\\n⬛🟨🟨🟩🟩\\n...</td>\n",
       "      <td>Wordle</td>\n",
       "      <td>237</td>\n",
       "      <td>5/6</td>\n",
       "    </tr>\n",
       "    <tr>\n",
       "      <th>544</th>\n",
       "      <td>Dad</td>\n",
       "      <td>2022-02-11 01:32:41</td>\n",
       "      <td>Wordle 237 3/6\\n\\n⬜🟨⬜⬜⬜\\n⬜⬜⬜⬜🟨\\n🟩🟩🟩🟩🟩</td>\n",
       "      <td>Wordle</td>\n",
       "      <td>237</td>\n",
       "      <td>3/6</td>\n",
       "    </tr>\n",
       "  </tbody>\n",
       "</table>\n",
       "</div>"
      ],
      "text/plain": [
       "       player                 date  \\\n",
       "535  Michael   2022-02-12 22:12:47   \n",
       "536     Chris  2022-02-12 22:08:39   \n",
       "537       Dad  2022-02-12 01:04:00   \n",
       "538  Danielle  2022-02-12 00:25:25   \n",
       "539  Michael   2022-02-12 00:22:27   \n",
       "540     Chris  2022-02-11 19:58:32   \n",
       "541  Michael   2022-02-11 19:55:50   \n",
       "542  Danielle  2022-02-11 12:07:55   \n",
       "543  Michael   2022-02-11 06:58:51   \n",
       "544       Dad  2022-02-11 01:32:41   \n",
       "\n",
       "                                               message wordle_check game_num  \\\n",
       "535  I’m going to create a spreadsheet tomorrow to ...       I’m go      ng    \n",
       "536  Wordle 238 5/6\\n\\n⬛️🟨⬛️⬛️🟨\\n🟨⬛️⬛️🟨🟨\\n🟨⬛️🟨⬛️⬛️\\...       Wordle      238   \n",
       "537  Wordle 238 5/6\\n\\n⬜⬜⬜🟩⬜\\n⬜⬜🟨🟩⬜\\n⬜🟨⬜🟩⬜\\n🟨⬜⬜🟩🟨\\n...       Wordle      238   \n",
       "538              Wordle 238 3/6\\n\\n🟨🟨⬛⬛⬛\\n⬛🟨🟨🟨⬛\\n🟩🟩🟩🟩🟩       Wordle      238   \n",
       "539       Wordle 238 4/6\\n\\n⬛🟩🟨🟨⬛\\n⬛🟩⬛🟨🟨\\n🟨🟩🟩⬛🟨\\n🟩🟩🟩🟩🟩       Wordle      238   \n",
       "540                                              Ello         Ello             \n",
       "541                                      Welcome bruv        Welcom       br   \n",
       "542              Wordle 237 3/6\\n\\n⬛⬛🟨⬛🟨\\n⬛🟨⬛🟩⬛\\n🟩🟩🟩🟩🟩       Wordle      237   \n",
       "543  Wordle 237 5/6\\n\\n⬛🟨⬛🟨⬛\\n🟨⬛⬛🟩⬛\\n🟨⬛⬛🟩🟩\\n⬛🟨🟨🟩🟩\\n...       Wordle      237   \n",
       "544              Wordle 237 3/6\\n\\n⬜🟨⬜⬜⬜\\n⬜⬜⬜⬜🟨\\n🟩🟩🟩🟩🟩       Wordle      237   \n",
       "\n",
       "    score  \n",
       "535   o c  \n",
       "536   5/6  \n",
       "537   5/6  \n",
       "538   3/6  \n",
       "539   4/6  \n",
       "540        \n",
       "541    v   \n",
       "542   3/6  \n",
       "543   5/6  \n",
       "544   3/6  "
      ]
     },
     "execution_count": 43,
     "metadata": {},
     "output_type": "execute_result"
    }
   ],
   "source": [
    "df[535:545]"
   ]
  },
  {
   "cell_type": "code",
   "execution_count": 44,
   "id": "d5cd3711-a703-4644-9fb1-bde048ec298a",
   "metadata": {},
   "outputs": [
    {
     "data": {
      "text/html": [
       "<div>\n",
       "<style scoped>\n",
       "    .dataframe tbody tr th:only-of-type {\n",
       "        vertical-align: middle;\n",
       "    }\n",
       "\n",
       "    .dataframe tbody tr th {\n",
       "        vertical-align: top;\n",
       "    }\n",
       "\n",
       "    .dataframe thead th {\n",
       "        text-align: right;\n",
       "    }\n",
       "</style>\n",
       "<table border=\"1\" class=\"dataframe\">\n",
       "  <thead>\n",
       "    <tr style=\"text-align: right;\">\n",
       "      <th></th>\n",
       "      <th>player</th>\n",
       "      <th>date</th>\n",
       "      <th>message</th>\n",
       "      <th>wordle_check</th>\n",
       "      <th>game_num</th>\n",
       "      <th>score</th>\n",
       "    </tr>\n",
       "  </thead>\n",
       "  <tbody>\n",
       "    <tr>\n",
       "      <th>2</th>\n",
       "      <td>Danielle</td>\n",
       "      <td>2022-03-26 00:50:01</td>\n",
       "      <td>Wordle 280 5/6\\n\\n⬛⬛🟨⬛⬛\\n⬛⬛🟩⬛🟨\\n🟩⬛🟩⬛⬛\\n🟩⬛🟩⬛🟩\\n...</td>\n",
       "      <td>Wordle</td>\n",
       "      <td>280</td>\n",
       "      <td>5/6</td>\n",
       "    </tr>\n",
       "    <tr>\n",
       "      <th>3</th>\n",
       "      <td>Dad</td>\n",
       "      <td>2022-03-26 00:42:45</td>\n",
       "      <td>Wordle 280 3/6\\n\\n⬜🟩🟩⬜⬜\\n🟩🟩🟩⬜⬜\\n🟩🟩🟩🟩🟩</td>\n",
       "      <td>Wordle</td>\n",
       "      <td>280</td>\n",
       "      <td>3/6</td>\n",
       "    </tr>\n",
       "    <tr>\n",
       "      <th>8</th>\n",
       "      <td>Michael</td>\n",
       "      <td>2022-03-25 19:05:29</td>\n",
       "      <td>Wordle 279 4/6\\n\\n🟨🟩⬛⬛⬛\\n⬛🟩⬛🟨⬛\\n🟨🟩🟩⬛🟨\\n🟩🟩🟩🟩🟩\\n...</td>\n",
       "      <td>Wordle</td>\n",
       "      <td>279</td>\n",
       "      <td>4/6</td>\n",
       "    </tr>\n",
       "    <tr>\n",
       "      <th>9</th>\n",
       "      <td>Dad</td>\n",
       "      <td>2022-03-25 01:05:31</td>\n",
       "      <td>Wordle 279 3/6\\n\\n⬜⬜⬜⬜⬜\\n🟨🟨⬜🟨⬜\\n🟩🟩🟩🟩🟩</td>\n",
       "      <td>Wordle</td>\n",
       "      <td>279</td>\n",
       "      <td>3/6</td>\n",
       "    </tr>\n",
       "    <tr>\n",
       "      <th>10</th>\n",
       "      <td>Danielle</td>\n",
       "      <td>2022-03-25 00:20:43</td>\n",
       "      <td>Wordle 279 4/6\\n\\n🟨🟩⬛⬛⬛\\n⬛🟩🟨⬛⬛\\n⬛🟩⬛🟨🟨\\n🟩🟩🟩🟩🟩</td>\n",
       "      <td>Wordle</td>\n",
       "      <td>279</td>\n",
       "      <td>4/6</td>\n",
       "    </tr>\n",
       "    <tr>\n",
       "      <th>...</th>\n",
       "      <td>...</td>\n",
       "      <td>...</td>\n",
       "      <td>...</td>\n",
       "      <td>...</td>\n",
       "      <td>...</td>\n",
       "      <td>...</td>\n",
       "    </tr>\n",
       "    <tr>\n",
       "      <th>570</th>\n",
       "      <td>Danielle</td>\n",
       "      <td>2022-02-05 11:54:27</td>\n",
       "      <td>Wordle 231 4/6\\n\\n🟨⬛🟨⬛⬛\\n⬛🟨⬛⬛🟩\\n🟩⬛🟩⬛🟩\\n🟩🟩🟩🟩🟩</td>\n",
       "      <td>Wordle</td>\n",
       "      <td>231</td>\n",
       "      <td>4/6</td>\n",
       "    </tr>\n",
       "    <tr>\n",
       "      <th>571</th>\n",
       "      <td>Michael</td>\n",
       "      <td>2022-02-05 10:31:55</td>\n",
       "      <td>Wordle 231 4/6\\n\\n🟨⬛🟨⬛⬛\\n🟩🟩⬛⬛⬛\\n🟩🟩🟩⬛🟨\\n🟩🟩🟩🟩🟩</td>\n",
       "      <td>Wordle</td>\n",
       "      <td>231</td>\n",
       "      <td>4/6</td>\n",
       "    </tr>\n",
       "    <tr>\n",
       "      <th>574</th>\n",
       "      <td>Michael</td>\n",
       "      <td>2022-02-04 08:41:31</td>\n",
       "      <td>Wordle 230 5/6\\n\\n🟨🟨⬛⬛⬛\\n🟨🟩⬛⬛🟨\\n⬛🟩🟩⬛🟨\\n🟩🟩🟩🟩⬛\\n...</td>\n",
       "      <td>Wordle</td>\n",
       "      <td>230</td>\n",
       "      <td>5/6</td>\n",
       "    </tr>\n",
       "    <tr>\n",
       "      <th>575</th>\n",
       "      <td>Danielle</td>\n",
       "      <td>2022-02-04 08:39:54</td>\n",
       "      <td>Wordle 230 4/6\\n\\n⬛🟨⬛⬛🟨\\n⬛🟨🟨🟨⬛\\n🟩🟨🟨🟨🟩\\n🟩🟩🟩🟩🟩</td>\n",
       "      <td>Wordle</td>\n",
       "      <td>230</td>\n",
       "      <td>4/6</td>\n",
       "    </tr>\n",
       "    <tr>\n",
       "      <th>576</th>\n",
       "      <td>Dad</td>\n",
       "      <td>2022-02-04 01:43:39</td>\n",
       "      <td>Wordle 230 3/6\\n3 for me today\\n\\n⬜🟨⬜⬜🟨\\n🟩🟩🟩🟩⬜...</td>\n",
       "      <td>Wordle</td>\n",
       "      <td>230</td>\n",
       "      <td>3/6</td>\n",
       "    </tr>\n",
       "  </tbody>\n",
       "</table>\n",
       "<p>182 rows × 6 columns</p>\n",
       "</div>"
      ],
      "text/plain": [
       "       player                 date  \\\n",
       "2    Danielle  2022-03-26 00:50:01   \n",
       "3         Dad  2022-03-26 00:42:45   \n",
       "8    Michael   2022-03-25 19:05:29   \n",
       "9         Dad  2022-03-25 01:05:31   \n",
       "10   Danielle  2022-03-25 00:20:43   \n",
       "..        ...                  ...   \n",
       "570  Danielle  2022-02-05 11:54:27   \n",
       "571  Michael   2022-02-05 10:31:55   \n",
       "574  Michael   2022-02-04 08:41:31   \n",
       "575  Danielle  2022-02-04 08:39:54   \n",
       "576       Dad  2022-02-04 01:43:39   \n",
       "\n",
       "                                               message wordle_check game_num  \\\n",
       "2    Wordle 280 5/6\\n\\n⬛⬛🟨⬛⬛\\n⬛⬛🟩⬛🟨\\n🟩⬛🟩⬛⬛\\n🟩⬛🟩⬛🟩\\n...       Wordle      280   \n",
       "3                Wordle 280 3/6\\n\\n⬜🟩🟩⬜⬜\\n🟩🟩🟩⬜⬜\\n🟩🟩🟩🟩🟩       Wordle      280   \n",
       "8    Wordle 279 4/6\\n\\n🟨🟩⬛⬛⬛\\n⬛🟩⬛🟨⬛\\n🟨🟩🟩⬛🟨\\n🟩🟩🟩🟩🟩\\n...       Wordle      279   \n",
       "9                Wordle 279 3/6\\n\\n⬜⬜⬜⬜⬜\\n🟨🟨⬜🟨⬜\\n🟩🟩🟩🟩🟩       Wordle      279   \n",
       "10        Wordle 279 4/6\\n\\n🟨🟩⬛⬛⬛\\n⬛🟩🟨⬛⬛\\n⬛🟩⬛🟨🟨\\n🟩🟩🟩🟩🟩       Wordle      279   \n",
       "..                                                 ...          ...      ...   \n",
       "570       Wordle 231 4/6\\n\\n🟨⬛🟨⬛⬛\\n⬛🟨⬛⬛🟩\\n🟩⬛🟩⬛🟩\\n🟩🟩🟩🟩🟩       Wordle      231   \n",
       "571       Wordle 231 4/6\\n\\n🟨⬛🟨⬛⬛\\n🟩🟩⬛⬛⬛\\n🟩🟩🟩⬛🟨\\n🟩🟩🟩🟩🟩       Wordle      231   \n",
       "574  Wordle 230 5/6\\n\\n🟨🟨⬛⬛⬛\\n🟨🟩⬛⬛🟨\\n⬛🟩🟩⬛🟨\\n🟩🟩🟩🟩⬛\\n...       Wordle      230   \n",
       "575       Wordle 230 4/6\\n\\n⬛🟨⬛⬛🟨\\n⬛🟨🟨🟨⬛\\n🟩🟨🟨🟨🟩\\n🟩🟩🟩🟩🟩       Wordle      230   \n",
       "576  Wordle 230 3/6\\n3 for me today\\n\\n⬜🟨⬜⬜🟨\\n🟩🟩🟩🟩⬜...       Wordle      230   \n",
       "\n",
       "    score  \n",
       "2     5/6  \n",
       "3     3/6  \n",
       "8     4/6  \n",
       "9     3/6  \n",
       "10    4/6  \n",
       "..    ...  \n",
       "570   4/6  \n",
       "571   4/6  \n",
       "574   5/6  \n",
       "575   4/6  \n",
       "576   3/6  \n",
       "\n",
       "[182 rows x 6 columns]"
      ]
     },
     "execution_count": 44,
     "metadata": {},
     "output_type": "execute_result"
    }
   ],
   "source": [
    "wordledf = df[df.wordle_check == 'Wordle']\n",
    "wordledf"
   ]
  },
  {
   "cell_type": "code",
   "execution_count": 212,
   "id": "2e374a91-b54d-4bc4-8274-e47c99cf727d",
   "metadata": {},
   "outputs": [
    {
     "data": {
      "text/plain": [
       "False"
      ]
     },
     "execution_count": 212,
     "metadata": {},
     "output_type": "execute_result"
    }
   ],
   "source": [
    "# INTERESTING \n",
    "'''\n",
    "was curious to see if python would consider this the same character. it does not! Maybe I can implement total yellows too,\n",
    "like correctly guessed letters\n",
    "'''\n",
    "\n",
    "\n",
    "'🟨' == '🟩'"
   ]
  },
  {
   "cell_type": "code",
   "execution_count": 54,
   "id": "5f93195a-2477-4096-b2b7-96d02b8bf164",
   "metadata": {},
   "outputs": [],
   "source": [
    "#wordledf = wordledf.reset_index()\n",
    "wordledf = wordledf.drop(columns = ['index'])"
   ]
  },
  {
   "cell_type": "code",
   "execution_count": 61,
   "id": "547f0f2b-93ed-41f7-939c-96804e77511b",
   "metadata": {},
   "outputs": [],
   "source": [
    "### changing the score, to just the actual tires used, since they're all out of 6 guesses.\\\n",
    "\n",
    "for i in range(len(wordledf)):\n",
    "    wordledf.loc[i, 'score'] = wordledf.loc[i, 'score'][0]"
   ]
  },
  {
   "cell_type": "code",
   "execution_count": 45,
   "id": "3bc2965d-7aaf-4715-8b6c-0d1a9a302f1a",
   "metadata": {},
   "outputs": [],
   "source": [
    "#dropping mesage column, imprtant datahas been extracted.\n",
    "\n",
    "#also date column? date is not as important, if we're matching on game number, can be undone!\n",
    "\n",
    "######ALTHOUGH super long term, we can maybe  \n",
    "\n",
    "wordledf = wordledf.drop(columns = ['message', 'date'])\n",
    "wordledf = wordledf.drop(columns = ['wordle_check'])"
   ]
  },
  {
   "cell_type": "code",
   "execution_count": 66,
   "id": "b6d033cf-6507-44be-97a7-a91befbdac87",
   "metadata": {},
   "outputs": [
    {
     "data": {
      "text/html": [
       "<div>\n",
       "<style scoped>\n",
       "    .dataframe tbody tr th:only-of-type {\n",
       "        vertical-align: middle;\n",
       "    }\n",
       "\n",
       "    .dataframe tbody tr th {\n",
       "        vertical-align: top;\n",
       "    }\n",
       "\n",
       "    .dataframe thead th {\n",
       "        text-align: right;\n",
       "    }\n",
       "</style>\n",
       "<table border=\"1\" class=\"dataframe\">\n",
       "  <thead>\n",
       "    <tr style=\"text-align: right;\">\n",
       "      <th></th>\n",
       "      <th>player</th>\n",
       "      <th>game_num</th>\n",
       "      <th>score</th>\n",
       "    </tr>\n",
       "  </thead>\n",
       "  <tbody>\n",
       "    <tr>\n",
       "      <th>0</th>\n",
       "      <td>Danielle</td>\n",
       "      <td>280.0</td>\n",
       "      <td>5</td>\n",
       "    </tr>\n",
       "    <tr>\n",
       "      <th>1</th>\n",
       "      <td>Dad</td>\n",
       "      <td>280.0</td>\n",
       "      <td>3</td>\n",
       "    </tr>\n",
       "    <tr>\n",
       "      <th>2</th>\n",
       "      <td>Michael</td>\n",
       "      <td>279.0</td>\n",
       "      <td>4</td>\n",
       "    </tr>\n",
       "    <tr>\n",
       "      <th>3</th>\n",
       "      <td>Dad</td>\n",
       "      <td>279.0</td>\n",
       "      <td>3</td>\n",
       "    </tr>\n",
       "    <tr>\n",
       "      <th>4</th>\n",
       "      <td>Danielle</td>\n",
       "      <td>279.0</td>\n",
       "      <td>4</td>\n",
       "    </tr>\n",
       "    <tr>\n",
       "      <th>...</th>\n",
       "      <td>...</td>\n",
       "      <td>...</td>\n",
       "      <td>...</td>\n",
       "    </tr>\n",
       "    <tr>\n",
       "      <th>177</th>\n",
       "      <td>Danielle</td>\n",
       "      <td>231.0</td>\n",
       "      <td>4</td>\n",
       "    </tr>\n",
       "    <tr>\n",
       "      <th>178</th>\n",
       "      <td>Michael</td>\n",
       "      <td>231.0</td>\n",
       "      <td>4</td>\n",
       "    </tr>\n",
       "    <tr>\n",
       "      <th>179</th>\n",
       "      <td>Michael</td>\n",
       "      <td>230.0</td>\n",
       "      <td>5</td>\n",
       "    </tr>\n",
       "    <tr>\n",
       "      <th>180</th>\n",
       "      <td>Danielle</td>\n",
       "      <td>230.0</td>\n",
       "      <td>4</td>\n",
       "    </tr>\n",
       "    <tr>\n",
       "      <th>181</th>\n",
       "      <td>Dad</td>\n",
       "      <td>230.0</td>\n",
       "      <td>3</td>\n",
       "    </tr>\n",
       "  </tbody>\n",
       "</table>\n",
       "<p>182 rows × 3 columns</p>\n",
       "</div>"
      ],
      "text/plain": [
       "       player  game_num score\n",
       "0    Danielle     280.0     5\n",
       "1         Dad     280.0     3\n",
       "2    Michael      279.0     4\n",
       "3         Dad     279.0     3\n",
       "4    Danielle     279.0     4\n",
       "..        ...       ...   ...\n",
       "177  Danielle     231.0     4\n",
       "178  Michael      231.0     4\n",
       "179  Michael      230.0     5\n",
       "180  Danielle     230.0     4\n",
       "181       Dad     230.0     3\n",
       "\n",
       "[182 rows x 3 columns]"
      ]
     },
     "execution_count": 66,
     "metadata": {},
     "output_type": "execute_result"
    }
   ],
   "source": [
    "wordledf # TADA! this should be everything needed to start modeling really"
   ]
  },
  {
   "cell_type": "markdown",
   "id": "2c72ed47-39a0-4ce7-8bc8-85cffe578d9d",
   "metadata": {},
   "source": [
    "# visualizations and extrapolations\n"
   ]
  },
  {
   "cell_type": "code",
   "execution_count": 48,
   "id": "382b0f00-1e99-4a55-9e1a-24c66ee41f6d",
   "metadata": {},
   "outputs": [
    {
     "data": {
      "text/html": [
       "<div>\n",
       "<style scoped>\n",
       "    .dataframe tbody tr th:only-of-type {\n",
       "        vertical-align: middle;\n",
       "    }\n",
       "\n",
       "    .dataframe tbody tr th {\n",
       "        vertical-align: top;\n",
       "    }\n",
       "\n",
       "    .dataframe thead th {\n",
       "        text-align: right;\n",
       "    }\n",
       "</style>\n",
       "<table border=\"1\" class=\"dataframe\">\n",
       "  <thead>\n",
       "    <tr style=\"text-align: right;\">\n",
       "      <th></th>\n",
       "      <th>player</th>\n",
       "      <th>game_num</th>\n",
       "      <th>score</th>\n",
       "    </tr>\n",
       "  </thead>\n",
       "  <tbody>\n",
       "  </tbody>\n",
       "</table>\n",
       "</div>"
      ],
      "text/plain": [
       "Empty DataFrame\n",
       "Columns: [player, game_num, score]\n",
       "Index: []"
      ]
     },
     "execution_count": 48,
     "metadata": {},
     "output_type": "execute_result"
    }
   ],
   "source": [
    "MichaelDF = wordledf[wordledf.player == 'Michael']\n",
    "MichaelDF"
   ]
  },
  {
   "cell_type": "code",
   "execution_count": 68,
   "id": "b6536a7b-d179-490a-8460-8aa922a6519c",
   "metadata": {},
   "outputs": [
    {
     "data": {
      "text/plain": [
       "0      False\n",
       "1      False\n",
       "2      False\n",
       "3      False\n",
       "4      False\n",
       "       ...  \n",
       "177    False\n",
       "178    False\n",
       "179    False\n",
       "180    False\n",
       "181    False\n",
       "Name: player, Length: 182, dtype: bool"
      ]
     },
     "execution_count": 68,
     "metadata": {},
     "output_type": "execute_result"
    }
   ],
   "source": [
    "wordledf.player == 'Michael'\n",
    "\n",
    "\n",
    "### thought this was a data type mismatch issue, BUTTTT it wound up being an extra space\n",
    "### after I typed Michael the first time....fixed thtoughout the module."
   ]
  },
  {
   "cell_type": "markdown",
   "id": "f9651f8d-e630-48ba-ba21-ccc6a832e967",
   "metadata": {},
   "source": [
    "###### the fuck\n"
   ]
  },
  {
   "cell_type": "code",
   "execution_count": 63,
   "id": "0d81dd9d-2b35-46f2-a304-721a602d5a45",
   "metadata": {},
   "outputs": [
    {
     "name": "stdout",
     "output_type": "stream",
     "text": [
      "<class 'pandas.core.frame.DataFrame'>\n",
      "RangeIndex: 182 entries, 0 to 181\n",
      "Data columns (total 3 columns):\n",
      " #   Column    Non-Null Count  Dtype \n",
      "---  ------    --------------  ----- \n",
      " 0   player    182 non-null    object\n",
      " 1   game_num  182 non-null    object\n",
      " 2   score     182 non-null    object\n",
      "dtypes: object(3)\n",
      "memory usage: 4.4+ KB\n"
     ]
    }
   ],
   "source": [
    "wordledf.info()"
   ]
  },
  {
   "cell_type": "code",
   "execution_count": 74,
   "id": "5b05ece5-12e6-4ee1-938a-ce627e735405",
   "metadata": {},
   "outputs": [],
   "source": [
    "wordledf.player = wordledf.player.astype('str')\n",
    "wordledf.game_num = wordledf.game_num.astype('int')\n",
    "wordledf.score = wordledf.score.astype('str')"
   ]
  },
  {
   "cell_type": "code",
   "execution_count": 69,
   "id": "1fc42ab5-7272-41e4-b372-29d53f9a8a21",
   "metadata": {},
   "outputs": [
    {
     "data": {
      "text/plain": [
       "Danielle    50\n",
       "Dad         48\n",
       "Michael     44\n",
       "Chris       40\n",
       "Name: player, dtype: int64"
      ]
     },
     "execution_count": 69,
     "metadata": {},
     "output_type": "execute_result"
    }
   ],
   "source": [
    "wordledf.player.value_counts()"
   ]
  },
  {
   "cell_type": "code",
   "execution_count": 91,
   "id": "1dd6657e-1f47-4fa4-b09c-22d120e858c4",
   "metadata": {},
   "outputs": [
    {
     "name": "stdout",
     "output_type": "stream",
     "text": [
      "    player  game_num score\n",
      "2  Michael       279     4\n",
      "7  Michael       278     5      player  game_num score\n",
      "0  Danielle       280     5\n",
      "4  Danielle       279     4   player  game_num score\n",
      "5  Chris       279     2\n",
      "6  Chris       278     3   player  game_num score\n",
      "1    Dad       280     3\n",
      "3    Dad       279     3\n"
     ]
    }
   ],
   "source": [
    "michaeldf = wordledf[wordledf.player == 'Michael']\n",
    "\n",
    "danielledf = wordledf[wordledf.player == 'Danielle']\n",
    "\n",
    "chrisdf = wordledf[wordledf.player == 'Chris']\n",
    "\n",
    "daddf = wordledf[wordledf.player == 'Dad']\n"
   ]
  },
  {
   "cell_type": "code",
   "execution_count": 92,
   "id": "7aa5ebd4-a4a4-40fb-ba77-6bbe810c4012",
   "metadata": {},
   "outputs": [],
   "source": [
    "wordledf['LOSS'] = ''"
   ]
  },
  {
   "cell_type": "code",
   "execution_count": 101,
   "id": "e2210b21-4afe-4820-9e25-34abfadbb11f",
   "metadata": {},
   "outputs": [
    {
     "data": {
      "text/html": [
       "<div>\n",
       "<style scoped>\n",
       "    .dataframe tbody tr th:only-of-type {\n",
       "        vertical-align: middle;\n",
       "    }\n",
       "\n",
       "    .dataframe tbody tr th {\n",
       "        vertical-align: top;\n",
       "    }\n",
       "\n",
       "    .dataframe thead th {\n",
       "        text-align: right;\n",
       "    }\n",
       "</style>\n",
       "<table border=\"1\" class=\"dataframe\">\n",
       "  <thead>\n",
       "    <tr style=\"text-align: right;\">\n",
       "      <th></th>\n",
       "      <th>player</th>\n",
       "      <th>game_num</th>\n",
       "      <th>score</th>\n",
       "      <th>LOSS</th>\n",
       "    </tr>\n",
       "  </thead>\n",
       "  <tbody>\n",
       "    <tr>\n",
       "      <th>11</th>\n",
       "      <td>Michael</td>\n",
       "      <td>277</td>\n",
       "      <td>X</td>\n",
       "      <td>1</td>\n",
       "    </tr>\n",
       "    <tr>\n",
       "      <th>50</th>\n",
       "      <td>Michael</td>\n",
       "      <td>265</td>\n",
       "      <td>X</td>\n",
       "      <td>1</td>\n",
       "    </tr>\n",
       "    <tr>\n",
       "      <th>63</th>\n",
       "      <td>Michael</td>\n",
       "      <td>262</td>\n",
       "      <td>X</td>\n",
       "      <td>1</td>\n",
       "    </tr>\n",
       "    <tr>\n",
       "      <th>106</th>\n",
       "      <td>Michael</td>\n",
       "      <td>251</td>\n",
       "      <td>X</td>\n",
       "      <td>1</td>\n",
       "    </tr>\n",
       "    <tr>\n",
       "      <th>140</th>\n",
       "      <td>Danielle</td>\n",
       "      <td>243</td>\n",
       "      <td>X</td>\n",
       "      <td>1</td>\n",
       "    </tr>\n",
       "  </tbody>\n",
       "</table>\n",
       "</div>"
      ],
      "text/plain": [
       "       player  game_num score LOSS\n",
       "11    Michael       277     X    1\n",
       "50    Michael       265     X    1\n",
       "63    Michael       262     X    1\n",
       "106   Michael       251     X    1\n",
       "140  Danielle       243     X    1"
      ]
     },
     "execution_count": 101,
     "metadata": {},
     "output_type": "execute_result"
    }
   ],
   "source": [
    "\n",
    "\n",
    "#wordledf[wordledf.score == 'X']\n",
    "#wordledf.loc[wordledf.score == 'X','LOSS'] = 1"
   ]
  },
  {
   "cell_type": "code",
   "execution_count": 95,
   "id": "b29cf127-d777-4df9-84b2-61d1ca19b3f9",
   "metadata": {},
   "outputs": [
    {
     "data": {
      "text/plain": [
       "4    56\n",
       "5    54\n",
       "3    43\n",
       "6    15\n",
       "2     8\n",
       "X     5\n",
       "x     1\n",
       "Name: score, dtype: int64"
      ]
     },
     "execution_count": 95,
     "metadata": {},
     "output_type": "execute_result"
    }
   ],
   "source": [
    "wordledf.score.value_counts()"
   ]
  },
  {
   "cell_type": "code",
   "execution_count": null,
   "id": "baa56761-c13c-4611-8219-976b62a61c26",
   "metadata": {},
   "outputs": [],
   "source": []
  }
 ],
 "metadata": {
  "kernelspec": {
   "display_name": "Python [conda env:metis] *",
   "language": "python",
   "name": "conda-env-metis-py"
  },
  "language_info": {
   "codemirror_mode": {
    "name": "ipython",
    "version": 3
   },
   "file_extension": ".py",
   "mimetype": "text/x-python",
   "name": "python",
   "nbconvert_exporter": "python",
   "pygments_lexer": "ipython3",
   "version": "3.8.10"
  }
 },
 "nbformat": 4,
 "nbformat_minor": 5
}
