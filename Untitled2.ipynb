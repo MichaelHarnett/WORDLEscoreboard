{
 "cells": [
  {
   "cell_type": "code",
   "execution_count": 1,
   "id": "1f539468-9760-4cff-9503-7037c8b2db21",
   "metadata": {},
   "outputs": [],
   "source": [
    "import numpy as np\n",
    "import pandas as pd"
   ]
  },
  {
   "cell_type": "code",
   "execution_count": 3,
   "id": "dfa4b441-08f1-4222-bd9e-42bfffa7c014",
   "metadata": {},
   "outputs": [],
   "source": [
    "dan_test = pd.read_csv('tables/danielledf.csv')\n",
    "dad_test = pd.read_csv('tables/daddf.csv')"
   ]
  },
  {
   "cell_type": "code",
   "execution_count": 4,
   "id": "34801fa8-b553-4dc1-b876-8e1fdccb95a0",
   "metadata": {},
   "outputs": [
    {
     "data": {
      "text/plain": [
       "71"
      ]
     },
     "execution_count": 4,
     "metadata": {},
     "output_type": "execute_result"
    }
   ],
   "source": [
    "len(dan_test)"
   ]
  },
  {
   "cell_type": "code",
   "execution_count": 5,
   "id": "c8115df2-078c-4a20-b4ed-3fb4b2b241d2",
   "metadata": {},
   "outputs": [
    {
     "data": {
      "text/plain": [
       "68"
      ]
     },
     "execution_count": 5,
     "metadata": {},
     "output_type": "execute_result"
    }
   ],
   "source": [
    "len(dad_test)"
   ]
  },
  {
   "cell_type": "code",
   "execution_count": 6,
   "id": "a975848d-bd98-46cf-84ee-75e3fc8ac5a4",
   "metadata": {},
   "outputs": [
    {
     "data": {
      "text/plain": [
       "[301,\n",
       " 300,\n",
       " 299,\n",
       " 298,\n",
       " 297,\n",
       " 296,\n",
       " 295,\n",
       " 294,\n",
       " 293,\n",
       " 292,\n",
       " 291,\n",
       " 290,\n",
       " 289,\n",
       " 288,\n",
       " 287,\n",
       " 286,\n",
       " 285,\n",
       " 284,\n",
       " 283,\n",
       " 282,\n",
       " 281,\n",
       " 280,\n",
       " 279,\n",
       " 278,\n",
       " 277,\n",
       " 276,\n",
       " 274,\n",
       " 273,\n",
       " 272,\n",
       " 271,\n",
       " 270,\n",
       " 269,\n",
       " 268,\n",
       " 267,\n",
       " 266,\n",
       " 265,\n",
       " 264,\n",
       " 263,\n",
       " 262,\n",
       " 261,\n",
       " 260,\n",
       " 259,\n",
       " 258,\n",
       " 257,\n",
       " 256,\n",
       " 255,\n",
       " 254,\n",
       " 253,\n",
       " 252,\n",
       " 251,\n",
       " 250,\n",
       " 249,\n",
       " 248,\n",
       " 247,\n",
       " 246,\n",
       " 245,\n",
       " 244,\n",
       " 243,\n",
       " 242,\n",
       " 241,\n",
       " 240,\n",
       " 239,\n",
       " 238,\n",
       " 237,\n",
       " 236,\n",
       " 235,\n",
       " 234,\n",
       " 233,\n",
       " 232,\n",
       " 231,\n",
       " 230]"
      ]
     },
     "execution_count": 6,
     "metadata": {},
     "output_type": "execute_result"
    }
   ],
   "source": [
    "list(dan_test.game_num)"
   ]
  },
  {
   "cell_type": "code",
   "execution_count": 31,
   "id": "64cc1759-94ad-4714-9610-3cec3afd9b96",
   "metadata": {},
   "outputs": [],
   "source": [
    "gamelist = sorted(list(dad_test.game_num))"
   ]
  },
  {
   "cell_type": "code",
   "execution_count": 34,
   "id": "41484f36-1e66-411f-9a7c-1a973ba3bac1",
   "metadata": {},
   "outputs": [
    {
     "name": "stdout",
     "output_type": "stream",
     "text": [
      "[231, 232, 236, 284]\n"
     ]
    }
   ],
   "source": [
    "# lastnum = []\n",
    "# i=0\n",
    "# for nums in gamelist:\n",
    "#     if i>1:\n",
    "#         if nums-1 != nums[i-1]:\n",
    "#             print(nums)\n",
    "#     i += 1 \n",
    "    \n",
    "# lastnum = []\n",
    "# i=0\n",
    "# for nums in gamelist:\n",
    "#     if i>=1:\n",
    "#         print(nums)\n",
    "#     i +=1\n",
    "    \n",
    "    \n",
    "\n",
    "missing_elemnts = [item for item in range(gamelist[0], gamelist[-1]+1) if item not in gamelist]\n",
    "print(missing_elemnts)"
   ]
  },
  {
   "cell_type": "code",
   "execution_count": 33,
   "id": "327ecb62-adc1-4d9a-948d-1b0395401757",
   "metadata": {},
   "outputs": [
    {
     "data": {
      "text/plain": [
       "[230,\n",
       " 233,\n",
       " 234,\n",
       " 235,\n",
       " 237,\n",
       " 238,\n",
       " 239,\n",
       " 240,\n",
       " 241,\n",
       " 242,\n",
       " 243,\n",
       " 244,\n",
       " 245,\n",
       " 246,\n",
       " 247,\n",
       " 248,\n",
       " 249,\n",
       " 250,\n",
       " 251,\n",
       " 252,\n",
       " 253,\n",
       " 254,\n",
       " 255,\n",
       " 256,\n",
       " 257,\n",
       " 258,\n",
       " 259,\n",
       " 260,\n",
       " 261,\n",
       " 262,\n",
       " 263,\n",
       " 264,\n",
       " 265,\n",
       " 266,\n",
       " 267,\n",
       " 268,\n",
       " 269,\n",
       " 270,\n",
       " 271,\n",
       " 272,\n",
       " 273,\n",
       " 274,\n",
       " 275,\n",
       " 276,\n",
       " 277,\n",
       " 278,\n",
       " 279,\n",
       " 280,\n",
       " 281,\n",
       " 282,\n",
       " 283,\n",
       " 285,\n",
       " 286,\n",
       " 287,\n",
       " 288,\n",
       " 289,\n",
       " 290,\n",
       " 291,\n",
       " 292,\n",
       " 293,\n",
       " 294,\n",
       " 295,\n",
       " 296,\n",
       " 297,\n",
       " 298,\n",
       " 299,\n",
       " 300,\n",
       " 301]"
      ]
     },
     "execution_count": 33,
     "metadata": {},
     "output_type": "execute_result"
    }
   ],
   "source": [
    "gamelist"
   ]
  },
  {
   "cell_type": "code",
   "execution_count": 47,
   "id": "f9669fe1-1924-47d0-b322-b5552a909f85",
   "metadata": {},
   "outputs": [],
   "source": [
    "michaeldf = pd.read_csv('tables/michaeldf.csv')\n",
    "danielledf = pd.read_csv('tables/danielledf.csv')\n",
    "chrisdf = pd.read_csv('tables/chrisdf.csv')\n",
    "daddf = pd.read_csv('tables/daddf.csv')"
   ]
  },
  {
   "cell_type": "code",
   "execution_count": 40,
   "id": "4f4b3400-2edd-4c05-8e87-a3ab1a8c5b7f",
   "metadata": {},
   "outputs": [],
   "source": [
    "michael_games = sorted(michaeldf.game_num)"
   ]
  },
  {
   "cell_type": "code",
   "execution_count": 44,
   "id": "9898ffcc-aa55-4c5a-884c-aceda54ac93c",
   "metadata": {},
   "outputs": [
    {
     "name": "stdout",
     "output_type": "stream",
     "text": [
      "[244, 266, 272, 273, 274, 275, 281, 287, 288, 289, 292, 295, 296, 297]\n"
     ]
    }
   ],
   "source": [
    "michael_missing = [item for item in range(michael_games[0], michael_games[-1]+1) if item not in michael_games]\n",
    "print(michael_missing)"
   ]
  },
  {
   "cell_type": "code",
   "execution_count": 48,
   "id": "7d28fca9-5105-48c0-a175-3883a338f00c",
   "metadata": {},
   "outputs": [],
   "source": [
    "michael_games = sorted(michaeldf.game_num)\n",
    "michael_missing = [item for item in range(michael_games[0], michael_games[-1]+1) if item not in michael_games]\n",
    "\n",
    "\n",
    "danielle_games = sorted(danielledf.game_num)\n",
    "danielle_missing = [item for item in range(danielle_games[0], danielle_games[-1]+1) if item not in danielle_games]\n",
    "\n",
    "\n",
    "chris_games = sorted(chrisdf.game_num)\n",
    "chris_missing = [item for item in range(chris_games[0], chris_games[-1]+1) if item not in chris_games]\n",
    "\n",
    "\n",
    "dad_games = sorted(daddf.game_num)\n",
    "dad_missing = [item for item in range(dad_games[0], dad_games[-1]+1) if item not in dad_games]\n"
   ]
  },
  {
   "cell_type": "code",
   "execution_count": 57,
   "id": "279d4d7d-1b8e-4c63-8216-19278d1a3a50",
   "metadata": {},
   "outputs": [
    {
     "name": "stdout",
     "output_type": "stream",
     "text": [
      "Michael's missing games: [244, 266, 272, 273, 274, 275, 281, 287, 288, 289, 292, 295, 296, 297]\n",
      "Danielle's missing games: [275]\n",
      "Chris' missing games: [268, 272, 275]\n",
      "Dad's missing games: [231, 232, 236, 284]\n"
     ]
    }
   ],
   "source": [
    "print(f'Michael\\'s missing games: {michael_missing}')\n",
    "print(f'Danielle\\'s missing games: {danielle_missing}')\n",
    "print(f'Chris\\' missing games: {chris_missing}')\n",
    "print(f'Dad\\'s missing games: {dad_missing}')"
   ]
  },
  {
   "cell_type": "code",
   "execution_count": 59,
   "id": "101b33aa-8beb-4aba-a0f2-a3e45576550b",
   "metadata": {},
   "outputs": [
    {
     "data": {
      "text/html": [
       "<div>\n",
       "<style scoped>\n",
       "    .dataframe tbody tr th:only-of-type {\n",
       "        vertical-align: middle;\n",
       "    }\n",
       "\n",
       "    .dataframe tbody tr th {\n",
       "        vertical-align: top;\n",
       "    }\n",
       "\n",
       "    .dataframe thead th {\n",
       "        text-align: right;\n",
       "    }\n",
       "</style>\n",
       "<table border=\"1\" class=\"dataframe\">\n",
       "  <thead>\n",
       "    <tr style=\"text-align: right;\">\n",
       "      <th></th>\n",
       "      <th>player</th>\n",
       "      <th>game_num</th>\n",
       "      <th>score</th>\n",
       "      <th>LOSS</th>\n",
       "    </tr>\n",
       "  </thead>\n",
       "  <tbody>\n",
       "    <tr>\n",
       "      <th>0</th>\n",
       "      <td>Michael</td>\n",
       "      <td>300</td>\n",
       "      <td>X</td>\n",
       "      <td>1.0</td>\n",
       "    </tr>\n",
       "    <tr>\n",
       "      <th>1</th>\n",
       "      <td>Michael</td>\n",
       "      <td>299</td>\n",
       "      <td>X</td>\n",
       "      <td>1.0</td>\n",
       "    </tr>\n",
       "  </tbody>\n",
       "</table>\n",
       "</div>"
      ],
      "text/plain": [
       "    player  game_num score  LOSS\n",
       "0  Michael       300     X   1.0\n",
       "1  Michael       299     X   1.0"
      ]
     },
     "execution_count": 59,
     "metadata": {},
     "output_type": "execute_result"
    }
   ],
   "source": [
    "michaeldf.head(2)"
   ]
  },
  {
   "cell_type": "code",
   "execution_count": 89,
   "id": "1d48ff65-bb67-46b2-aad2-1e6d5a690437",
   "metadata": {},
   "outputs": [],
   "source": [
    "michael1wins = len(michaeldf[michaeldf.score == '1'])\n",
    "michael2wins = len(michaeldf[michaeldf.score == '2'])\n",
    "michael3wins = len(michaeldf[michaeldf.score == '3'])\n",
    "michael4wins = len(michaeldf[michaeldf.score == '4'])\n",
    "michael5wins = len(michaeldf[michaeldf.score == '5'])\n",
    "michael6wins = len(michaeldf[michaeldf.score == '6'])\n",
    "michael_guesscount = []\n",
    "michael_guesscount.append(michael1wins)\n",
    "michael_guesscount.append(michael2wins)\n",
    "michael_guesscount.append(michael3wins)\n",
    "michael_guesscount.append(michael4wins)\n",
    "michael_guesscount.append(michael5wins)\n",
    "michael_guesscount.append(michael6wins)"
   ]
  },
  {
   "cell_type": "code",
   "execution_count": 90,
   "id": "87e048a0-d333-42a6-adb3-d0f1b04b4ee1",
   "metadata": {},
   "outputs": [
    {
     "data": {
      "text/plain": [
       "[0, 2, 9, 12, 18, 10]"
      ]
     },
     "execution_count": 90,
     "metadata": {},
     "output_type": "execute_result"
    }
   ],
   "source": [
    "michael_guesscount"
   ]
  },
  {
   "cell_type": "code",
   "execution_count": 68,
   "id": "f7c1d1c2-6a01-474d-be07-35a890eabd7f",
   "metadata": {},
   "outputs": [],
   "source": [
    "import matplotlib.pyplot as plt"
   ]
  },
  {
   "cell_type": "code",
   "execution_count": 76,
   "id": "019eee77-af85-445f-9f05-87fb549c9575",
   "metadata": {},
   "outputs": [],
   "source": [
    "michaelwindf = pd.read_csv('tables/michaelwindf.csv')"
   ]
  },
  {
   "cell_type": "code",
   "execution_count": 120,
   "id": "0940b095-2f38-4c40-a022-5b9599e7a695",
   "metadata": {},
   "outputs": [],
   "source": [
    "x_range = [1, 2,'3','4','5','6']\n"
   ]
  },
  {
   "cell_type": "code",
   "execution_count": 85,
   "id": "79c25664-51be-4040-ab10-35024a81c50e",
   "metadata": {},
   "outputs": [
    {
     "data": {
      "text/plain": [
       "<AxesSubplot:>"
      ]
     },
     "execution_count": 85,
     "metadata": {},
     "output_type": "execute_result"
    },
    {
     "data": {
      "image/png": "[encoded data removed]",
      "text/plain": [
       "<Figure size 432x288 with 1 Axes>"
      ]
     },
     "metadata": {
      "needs_background": "light"
     },
     "output_type": "display_data"
    }
   ],
   "source": [
    "michaelwindf.score.value_counts().plot(kind='bar')"
   ]
  },
  {
   "cell_type": "code",
   "execution_count": 118,
   "id": "f04d28e2-8c9c-467e-9c46-154a0f0b0fe5",
   "metadata": {},
   "outputs": [
    {
     "data": {
      "text/plain": [
       "<BarContainer object of 6 artists>"
      ]
     },
     "execution_count": 118,
     "metadata": {},
     "output_type": "execute_result"
    },
    {
     "data": {
      "image/png": "[encoded data removed]",
      "text/plain": [
       "<Figure size 432x288 with 1 Axes>"
      ]
     },
     "metadata": {
      "needs_background": "light"
     },
     "output_type": "display_data"
    }
   ],
   "source": [
    "ax = plt.gca()\n",
    "ax.invert_yaxis()\n",
    "\n",
    "plt.barh(x_range, michael_guesscount)"
   ]
  },
  {
   "cell_type": "code",
   "execution_count": 130,
   "id": "598dd610-0cdd-44ce-b797-9b078fb0db0e",
   "metadata": {},
   "outputs": [
    {
     "ename": "ValueError",
     "evalue": "shape mismatch: objects cannot be broadcast to a single shape",
     "output_type": "error",
     "traceback": [
      "\u001b[0;31m---------------------------------------------------------------------------\u001b[0m",
      "\u001b[0;31mValueError\u001b[0m                                Traceback (most recent call last)",
      "\u001b[0;32m/var/folders/xl/ftndz_9j3hn5ybffb6t5q42m0000gn/T/ipykernel_2491/4111679577.py\u001b[0m in \u001b[0;36m<module>\u001b[0;34m\u001b[0m\n\u001b[1;32m      2\u001b[0m \u001b[0mtester\u001b[0m\u001b[0;34m.\u001b[0m\u001b[0minvert_yaxis\u001b[0m\u001b[0;34m(\u001b[0m\u001b[0;34m)\u001b[0m\u001b[0;34m\u001b[0m\u001b[0;34m\u001b[0m\u001b[0m\n\u001b[1;32m      3\u001b[0m \u001b[0;34m\u001b[0m\u001b[0m\n\u001b[0;32m----> 4\u001b[0;31m \u001b[0mplt\u001b[0m\u001b[0;34m.\u001b[0m\u001b[0mbarh\u001b[0m\u001b[0;34m(\u001b[0m\u001b[0mx_range\u001b[0m\u001b[0;34m,\u001b[0m \u001b[0mmichaelwindf\u001b[0m\u001b[0;34m.\u001b[0m\u001b[0mscore\u001b[0m\u001b[0;34m.\u001b[0m\u001b[0mvalue_counts\u001b[0m\u001b[0;34m(\u001b[0m\u001b[0;34m)\u001b[0m\u001b[0;34m)\u001b[0m\u001b[0;34m\u001b[0m\u001b[0;34m\u001b[0m\u001b[0m\n\u001b[0m",
      "\u001b[0;32m~/opt/anaconda3/envs/metis/lib/python3.8/site-packages/matplotlib/pyplot.py\u001b[0m in \u001b[0;36mbarh\u001b[0;34m(y, width, height, left, align, **kwargs)\u001b[0m\n\u001b[1;32m   2664\u001b[0m \u001b[0;34m@\u001b[0m\u001b[0m_copy_docstring_and_deprecators\u001b[0m\u001b[0;34m(\u001b[0m\u001b[0mAxes\u001b[0m\u001b[0;34m.\u001b[0m\u001b[0mbarh\u001b[0m\u001b[0;34m)\u001b[0m\u001b[0;34m\u001b[0m\u001b[0;34m\u001b[0m\u001b[0m\n\u001b[1;32m   2665\u001b[0m \u001b[0;32mdef\u001b[0m \u001b[0mbarh\u001b[0m\u001b[0;34m(\u001b[0m\u001b[0my\u001b[0m\u001b[0;34m,\u001b[0m \u001b[0mwidth\u001b[0m\u001b[0;34m,\u001b[0m \u001b[0mheight\u001b[0m\u001b[0;34m=\u001b[0m\u001b[0;36m0.8\u001b[0m\u001b[0;34m,\u001b[0m \u001b[0mleft\u001b[0m\u001b[0;34m=\u001b[0m\u001b[0;32mNone\u001b[0m\u001b[0;34m,\u001b[0m \u001b[0;34m*\u001b[0m\u001b[0;34m,\u001b[0m \u001b[0malign\u001b[0m\u001b[0;34m=\u001b[0m\u001b[0;34m'center'\u001b[0m\u001b[0;34m,\u001b[0m \u001b[0;34m**\u001b[0m\u001b[0mkwargs\u001b[0m\u001b[0;34m)\u001b[0m\u001b[0;34m:\u001b[0m\u001b[0;34m\u001b[0m\u001b[0;34m\u001b[0m\u001b[0m\n\u001b[0;32m-> 2666\u001b[0;31m     return gca().barh(\n\u001b[0m\u001b[1;32m   2667\u001b[0m         y, width, height=height, left=left, align=align, **kwargs)\n\u001b[1;32m   2668\u001b[0m \u001b[0;34m\u001b[0m\u001b[0m\n",
      "\u001b[0;32m~/opt/anaconda3/envs/metis/lib/python3.8/site-packages/matplotlib/axes/_axes.py\u001b[0m in \u001b[0;36mbarh\u001b[0;34m(self, y, width, height, left, align, **kwargs)\u001b[0m\n\u001b[1;32m   2511\u001b[0m         \"\"\"\n\u001b[1;32m   2512\u001b[0m         \u001b[0mkwargs\u001b[0m\u001b[0;34m.\u001b[0m\u001b[0msetdefault\u001b[0m\u001b[0;34m(\u001b[0m\u001b[0;34m'orientation'\u001b[0m\u001b[0;34m,\u001b[0m \u001b[0;34m'horizontal'\u001b[0m\u001b[0;34m)\u001b[0m\u001b[0;34m\u001b[0m\u001b[0;34m\u001b[0m\u001b[0m\n\u001b[0;32m-> 2513\u001b[0;31m         patches = self.bar(x=left, height=height, width=width, bottom=y,\n\u001b[0m\u001b[1;32m   2514\u001b[0m                            align=align, **kwargs)\n\u001b[1;32m   2515\u001b[0m         \u001b[0;32mreturn\u001b[0m \u001b[0mpatches\u001b[0m\u001b[0;34m\u001b[0m\u001b[0;34m\u001b[0m\u001b[0m\n",
      "\u001b[0;32m~/opt/anaconda3/envs/metis/lib/python3.8/site-packages/matplotlib/__init__.py\u001b[0m in \u001b[0;36minner\u001b[0;34m(ax, data, *args, **kwargs)\u001b[0m\n\u001b[1;32m   1359\u001b[0m     \u001b[0;32mdef\u001b[0m \u001b[0minner\u001b[0m\u001b[0;34m(\u001b[0m\u001b[0max\u001b[0m\u001b[0;34m,\u001b[0m \u001b[0;34m*\u001b[0m\u001b[0margs\u001b[0m\u001b[0;34m,\u001b[0m \u001b[0mdata\u001b[0m\u001b[0;34m=\u001b[0m\u001b[0;32mNone\u001b[0m\u001b[0;34m,\u001b[0m \u001b[0;34m**\u001b[0m\u001b[0mkwargs\u001b[0m\u001b[0;34m)\u001b[0m\u001b[0;34m:\u001b[0m\u001b[0;34m\u001b[0m\u001b[0;34m\u001b[0m\u001b[0m\n\u001b[1;32m   1360\u001b[0m         \u001b[0;32mif\u001b[0m \u001b[0mdata\u001b[0m \u001b[0;32mis\u001b[0m \u001b[0;32mNone\u001b[0m\u001b[0;34m:\u001b[0m\u001b[0;34m\u001b[0m\u001b[0;34m\u001b[0m\u001b[0m\n\u001b[0;32m-> 1361\u001b[0;31m             \u001b[0;32mreturn\u001b[0m \u001b[0mfunc\u001b[0m\u001b[0;34m(\u001b[0m\u001b[0max\u001b[0m\u001b[0;34m,\u001b[0m \u001b[0;34m*\u001b[0m\u001b[0mmap\u001b[0m\u001b[0;34m(\u001b[0m\u001b[0msanitize_sequence\u001b[0m\u001b[0;34m,\u001b[0m \u001b[0margs\u001b[0m\u001b[0;34m)\u001b[0m\u001b[0;34m,\u001b[0m \u001b[0;34m**\u001b[0m\u001b[0mkwargs\u001b[0m\u001b[0;34m)\u001b[0m\u001b[0;34m\u001b[0m\u001b[0;34m\u001b[0m\u001b[0m\n\u001b[0m\u001b[1;32m   1362\u001b[0m \u001b[0;34m\u001b[0m\u001b[0m\n\u001b[1;32m   1363\u001b[0m         \u001b[0mbound\u001b[0m \u001b[0;34m=\u001b[0m \u001b[0mnew_sig\u001b[0m\u001b[0;34m.\u001b[0m\u001b[0mbind\u001b[0m\u001b[0;34m(\u001b[0m\u001b[0max\u001b[0m\u001b[0;34m,\u001b[0m \u001b[0;34m*\u001b[0m\u001b[0margs\u001b[0m\u001b[0;34m,\u001b[0m \u001b[0;34m**\u001b[0m\u001b[0mkwargs\u001b[0m\u001b[0;34m)\u001b[0m\u001b[0;34m\u001b[0m\u001b[0;34m\u001b[0m\u001b[0m\n",
      "\u001b[0;32m~/opt/anaconda3/envs/metis/lib/python3.8/site-packages/matplotlib/axes/_axes.py\u001b[0m in \u001b[0;36mbar\u001b[0;34m(self, x, height, width, bottom, align, **kwargs)\u001b[0m\n\u001b[1;32m   2302\u001b[0m                 \u001b[0myerr\u001b[0m \u001b[0;34m=\u001b[0m \u001b[0mself\u001b[0m\u001b[0;34m.\u001b[0m\u001b[0m_convert_dx\u001b[0m\u001b[0;34m(\u001b[0m\u001b[0myerr\u001b[0m\u001b[0;34m,\u001b[0m \u001b[0my0\u001b[0m\u001b[0;34m,\u001b[0m \u001b[0my\u001b[0m\u001b[0;34m,\u001b[0m \u001b[0mself\u001b[0m\u001b[0;34m.\u001b[0m\u001b[0mconvert_yunits\u001b[0m\u001b[0;34m)\u001b[0m\u001b[0;34m\u001b[0m\u001b[0;34m\u001b[0m\u001b[0m\n\u001b[1;32m   2303\u001b[0m \u001b[0;34m\u001b[0m\u001b[0m\n\u001b[0;32m-> 2304\u001b[0;31m         x, height, width, y, linewidth, hatch = np.broadcast_arrays(\n\u001b[0m\u001b[1;32m   2305\u001b[0m             \u001b[0;31m# Make args iterable too.\u001b[0m\u001b[0;34m\u001b[0m\u001b[0;34m\u001b[0m\u001b[0;34m\u001b[0m\u001b[0m\n\u001b[1;32m   2306\u001b[0m             np.atleast_1d(x), height, width, y, linewidth, hatch)\n",
      "\u001b[0;32m<__array_function__ internals>\u001b[0m in \u001b[0;36mbroadcast_arrays\u001b[0;34m(*args, **kwargs)\u001b[0m\n",
      "\u001b[0;32m~/opt/anaconda3/envs/metis/lib/python3.8/site-packages/numpy/lib/stride_tricks.py\u001b[0m in \u001b[0;36mbroadcast_arrays\u001b[0;34m(subok, *args)\u001b[0m\n\u001b[1;32m    256\u001b[0m     \u001b[0margs\u001b[0m \u001b[0;34m=\u001b[0m \u001b[0;34m[\u001b[0m\u001b[0mnp\u001b[0m\u001b[0;34m.\u001b[0m\u001b[0marray\u001b[0m\u001b[0;34m(\u001b[0m\u001b[0m_m\u001b[0m\u001b[0;34m,\u001b[0m \u001b[0mcopy\u001b[0m\u001b[0;34m=\u001b[0m\u001b[0;32mFalse\u001b[0m\u001b[0;34m,\u001b[0m \u001b[0msubok\u001b[0m\u001b[0;34m=\u001b[0m\u001b[0msubok\u001b[0m\u001b[0;34m)\u001b[0m \u001b[0;32mfor\u001b[0m \u001b[0m_m\u001b[0m \u001b[0;32min\u001b[0m \u001b[0margs\u001b[0m\u001b[0;34m]\u001b[0m\u001b[0;34m\u001b[0m\u001b[0;34m\u001b[0m\u001b[0m\n\u001b[1;32m    257\u001b[0m \u001b[0;34m\u001b[0m\u001b[0m\n\u001b[0;32m--> 258\u001b[0;31m     \u001b[0mshape\u001b[0m \u001b[0;34m=\u001b[0m \u001b[0m_broadcast_shape\u001b[0m\u001b[0;34m(\u001b[0m\u001b[0;34m*\u001b[0m\u001b[0margs\u001b[0m\u001b[0;34m)\u001b[0m\u001b[0;34m\u001b[0m\u001b[0;34m\u001b[0m\u001b[0m\n\u001b[0m\u001b[1;32m    259\u001b[0m \u001b[0;34m\u001b[0m\u001b[0m\n\u001b[1;32m    260\u001b[0m     \u001b[0;32mif\u001b[0m \u001b[0mall\u001b[0m\u001b[0;34m(\u001b[0m\u001b[0marray\u001b[0m\u001b[0;34m.\u001b[0m\u001b[0mshape\u001b[0m \u001b[0;34m==\u001b[0m \u001b[0mshape\u001b[0m \u001b[0;32mfor\u001b[0m \u001b[0marray\u001b[0m \u001b[0;32min\u001b[0m \u001b[0margs\u001b[0m\u001b[0;34m)\u001b[0m\u001b[0;34m:\u001b[0m\u001b[0;34m\u001b[0m\u001b[0;34m\u001b[0m\u001b[0m\n",
      "\u001b[0;32m~/opt/anaconda3/envs/metis/lib/python3.8/site-packages/numpy/lib/stride_tricks.py\u001b[0m in \u001b[0;36m_broadcast_shape\u001b[0;34m(*args)\u001b[0m\n\u001b[1;32m    187\u001b[0m     \u001b[0;31m# use the old-iterator because np.nditer does not handle size 0 arrays\u001b[0m\u001b[0;34m\u001b[0m\u001b[0;34m\u001b[0m\u001b[0;34m\u001b[0m\u001b[0m\n\u001b[1;32m    188\u001b[0m     \u001b[0;31m# consistently\u001b[0m\u001b[0;34m\u001b[0m\u001b[0;34m\u001b[0m\u001b[0;34m\u001b[0m\u001b[0m\n\u001b[0;32m--> 189\u001b[0;31m     \u001b[0mb\u001b[0m \u001b[0;34m=\u001b[0m \u001b[0mnp\u001b[0m\u001b[0;34m.\u001b[0m\u001b[0mbroadcast\u001b[0m\u001b[0;34m(\u001b[0m\u001b[0;34m*\u001b[0m\u001b[0margs\u001b[0m\u001b[0;34m[\u001b[0m\u001b[0;34m:\u001b[0m\u001b[0;36m32\u001b[0m\u001b[0;34m]\u001b[0m\u001b[0;34m)\u001b[0m\u001b[0;34m\u001b[0m\u001b[0;34m\u001b[0m\u001b[0m\n\u001b[0m\u001b[1;32m    190\u001b[0m     \u001b[0;31m# unfortunately, it cannot handle 32 or more arguments directly\u001b[0m\u001b[0;34m\u001b[0m\u001b[0;34m\u001b[0m\u001b[0;34m\u001b[0m\u001b[0m\n\u001b[1;32m    191\u001b[0m     \u001b[0;32mfor\u001b[0m \u001b[0mpos\u001b[0m \u001b[0;32min\u001b[0m \u001b[0mrange\u001b[0m\u001b[0;34m(\u001b[0m\u001b[0;36m32\u001b[0m\u001b[0;34m,\u001b[0m \u001b[0mlen\u001b[0m\u001b[0;34m(\u001b[0m\u001b[0margs\u001b[0m\u001b[0;34m)\u001b[0m\u001b[0;34m,\u001b[0m \u001b[0;36m31\u001b[0m\u001b[0;34m)\u001b[0m\u001b[0;34m:\u001b[0m\u001b[0;34m\u001b[0m\u001b[0;34m\u001b[0m\u001b[0m\n",
      "\u001b[0;31mValueError\u001b[0m: shape mismatch: objects cannot be broadcast to a single shape"
     ]
    },
    {
     "data": {
      "image/png": "[encoded data removed]",
      "text/plain": [
       "<Figure size 432x288 with 1 Axes>"
      ]
     },
     "metadata": {
      "needs_background": "light"
     },
     "output_type": "display_data"
    }
   ],
   "source": [
    "tester = plt.gca()\n",
    "tester.invert_yaxis()\n",
    "\n",
    "plt.barh(x_range, michaelwindf.score.value_counts())"
   ]
  },
  {
   "cell_type": "code",
   "execution_count": 126,
   "id": "5a571c32-15d5-4f56-a902-9f9eba5eaa9b",
   "metadata": {},
   "outputs": [
    {
     "data": {
      "text/plain": [
       "5    18\n",
       "4    12\n",
       "6    10\n",
       "3     9\n",
       "2     2\n",
       "Name: score, dtype: int64"
      ]
     },
     "execution_count": 126,
     "metadata": {},
     "output_type": "execute_result"
    }
   ],
   "source": [
    "michaelwindf.score.value_counts()"
   ]
  },
  {
   "cell_type": "code",
   "execution_count": 158,
   "id": "6600fc63-d98d-41ed-98fe-1c09c5f0ece4",
   "metadata": {},
   "outputs": [],
   "source": [
    "michael1wins = len(michaeldf[michaeldf.score == '1'])\n",
    "michael2wins = len(michaeldf[michaeldf.score == '2'])\n",
    "michael3wins = len(michaeldf[michaeldf.score == '3'])\n",
    "michael4wins = len(michaeldf[michaeldf.score == '4'])\n",
    "michael5wins = len(michaeldf[michaeldf.score == '5'])\n",
    "michael6wins = len(michaeldf[michaeldf.score == '6'])\n",
    "michael_guesscount = []\n",
    "michael_guesscount.append(michael1wins)\n",
    "michael_guesscount.append(michael2wins)\n",
    "michael_guesscount.append(michael3wins)\n",
    "michael_guesscount.append(michael4wins)\n",
    "michael_guesscount.append(michael5wins)\n",
    "michael_guesscount.append(michael6wins)\n",
    "\n",
    "\n",
    "dad1wins = len(daddf[daddf.score == '1'])\n",
    "dad2wins = len(daddf[daddf.score == '2'])\n",
    "dad3wins = len(daddf[daddf.score == '3'])\n",
    "dad4wins = len(daddf[daddf.score == '4'])\n",
    "dad5wins = len(daddf[daddf.score == '5'])\n",
    "dad6wins = len(daddf[daddf.score == '6'])\n",
    "dad_guesscount = []\n",
    "dad_guesscount.append(dad1wins)\n",
    "dad_guesscount.append(dad2wins)\n",
    "dad_guesscount.append(dad3wins)\n",
    "dad_guesscount.append(dad4wins)\n",
    "dad_guesscount.append(dad5wins)\n",
    "dad_guesscount.append(dad6wins)\n",
    "\n",
    "\n",
    "\n",
    "danielle1wins = len(danielledf[danielledf.score == '1'])\n",
    "danielle2wins = len(danielledf[danielledf.score == '2'])\n",
    "danielle3wins = len(danielledf[danielledf.score == '3'])\n",
    "danielle4wins = len(danielledf[danielledf.score == '4'])\n",
    "danielle5wins = len(danielledf[danielledf.score == '5'])\n",
    "danielle6wins = len(danielledf[danielledf.score == '6'])\n",
    "danielle_guesscount = []\n",
    "danielle_guesscount.append(danielle1wins)\n",
    "danielle_guesscount.append(danielle2wins)\n",
    "danielle_guesscount.append(danielle3wins)\n",
    "danielle_guesscount.append(danielle4wins)\n",
    "danielle_guesscount.append(danielle5wins)\n",
    "danielle_guesscount.append(danielle6wins)\n",
    "\n",
    "\n",
    "chris1wins = len(chrisdf[chrisdf.score == '1'])\n",
    "chris2wins = len(chrisdf[chrisdf.score == '2'])\n",
    "chris3wins = len(chrisdf[chrisdf.score == '3'])\n",
    "chris4wins = len(chrisdf[chrisdf.score == '4'])\n",
    "chris5wins = len(chrisdf[chrisdf.score == '5'])\n",
    "chris6wins = len(chrisdf[chrisdf.score == '6'])\n",
    "chris_guesscount = []\n",
    "chris_guesscount.append(chris1wins)\n",
    "chris_guesscount.append(chris2wins)\n",
    "chris_guesscount.append(chris3wins)\n",
    "chris_guesscount.append(chris4wins)\n",
    "chris_guesscount.append(chris5wins)\n",
    "chris_guesscount.append(chris6wins)"
   ]
  },
  {
   "cell_type": "code",
   "execution_count": 159,
   "id": "a25dd653-9aee-47a1-9eb1-9912c35d1619",
   "metadata": {},
   "outputs": [
    {
     "data": {
      "text/plain": [
       "<BarContainer object of 6 artists>"
      ]
     },
     "execution_count": 159,
     "metadata": {},
     "output_type": "execute_result"
    },
    {
     "data": {
      "image/png": "[encoded data removed]",
      "text/plain": [
       "<Figure size 432x288 with 1 Axes>"
      ]
     },
     "metadata": {
      "needs_background": "light"
     },
     "output_type": "display_data"
    }
   ],
   "source": [
    "michael_guesschart = plt.gca()\n",
    "michael_guesschart.invert_yaxis()\n",
    "\n",
    "michael_guesschart.barh(x_range, michael_guesscount)\n",
    "\n"
   ]
  },
  {
   "cell_type": "code",
   "execution_count": 160,
   "id": "d3155c31-e49e-49b9-b883-e143f340c032",
   "metadata": {},
   "outputs": [
    {
     "data": {
      "image/png": "[encoded data removed]",
      "text/plain": [
       "<Figure size 432x288 with 1 Axes>"
      ]
     },
     "metadata": {
      "needs_background": "light"
     },
     "output_type": "display_data"
    }
   ],
   "source": [
    "\n",
    "danielle_guesschart = plt.gca()\n",
    "danielle_guesschart.invert_yaxis()\n",
    "\n",
    "danielle_graph = plt.barh(x_range, danielle_guesscount)\n",
    "\n",
    "\n"
   ]
  },
  {
   "cell_type": "code",
   "execution_count": 165,
   "id": "e7153e61-1b32-4195-8678-2fe088328db5",
   "metadata": {},
   "outputs": [
    {
     "data": {
      "image/png": "[encoded data removed]",
      "text/plain": [
       "<Figure size 432x288 with 1 Axes>"
      ]
     },
     "execution_count": 165,
     "metadata": {},
     "output_type": "execute_result"
    }
   ],
   "source": [
    "michael_guesschart.figure"
   ]
  },
  {
   "cell_type": "code",
   "execution_count": 153,
   "id": "07525934-5904-464a-8fcb-46378d8df2ed",
   "metadata": {},
   "outputs": [
    {
     "ename": "AttributeError",
     "evalue": "'AxesSubplot' object has no attribute 'plt'",
     "output_type": "error",
     "traceback": [
      "\u001b[0;31m---------------------------------------------------------------------------\u001b[0m",
      "\u001b[0;31mAttributeError\u001b[0m                            Traceback (most recent call last)",
      "\u001b[0;32m/var/folders/xl/ftndz_9j3hn5ybffb6t5q42m0000gn/T/ipykernel_2491/2443353504.py\u001b[0m in \u001b[0;36m<module>\u001b[0;34m\u001b[0m\n\u001b[0;32m----> 1\u001b[0;31m \u001b[0mdanielle_guesschart\u001b[0m\u001b[0;34m.\u001b[0m\u001b[0mplt\u001b[0m\u001b[0;34m.\u001b[0m\u001b[0mshow\u001b[0m\u001b[0;34m(\u001b[0m\u001b[0;34m)\u001b[0m\u001b[0;34m\u001b[0m\u001b[0;34m\u001b[0m\u001b[0m\n\u001b[0m",
      "\u001b[0;31mAttributeError\u001b[0m: 'AxesSubplot' object has no attribute 'plt'"
     ]
    }
   ],
   "source": [
    "danielle_guesschart.plt.show()"
   ]
  },
  {
   "cell_type": "code",
   "execution_count": 168,
   "id": "97d2261f-825a-48ba-bd7c-89885a595bbb",
   "metadata": {},
   "outputs": [
    {
     "data": {
      "text/plain": [
       "str"
      ]
     },
     "execution_count": 168,
     "metadata": {},
     "output_type": "execute_result"
    }
   ],
   "source": [
    "type(x_range[0])"
   ]
  },
  {
   "cell_type": "code",
   "execution_count": 171,
   "id": "e16dbbd4-c8db-4c69-b3b8-5aafd22e58a0",
   "metadata": {},
   "outputs": [
    {
     "data": {
      "text/plain": [
       "int"
      ]
     },
     "execution_count": 171,
     "metadata": {},
     "output_type": "execute_result"
    }
   ],
   "source": [
    "type(danielle_guesscount[0])"
   ]
  },
  {
   "cell_type": "code",
   "execution_count": null,
   "id": "49e1a598-bae4-4cbe-8a51-f2184ff99f51",
   "metadata": {},
   "outputs": [],
   "source": []
  }
 ],
 "metadata": {
  "kernelspec": {
   "display_name": "Python [conda env:metis] *",
   "language": "python",
   "name": "conda-env-metis-py"
  },
  "language_info": {
   "codemirror_mode": {
    "name": "ipython",
    "version": 3
   },
   "file_extension": ".py",
   "mimetype": "text/x-python",
   "name": "python",
   "nbconvert_exporter": "python",
   "pygments_lexer": "ipython3",
   "version": "3.8.10"
  }
 },
 "nbformat": 4,
 "nbformat_minor": 5
}
