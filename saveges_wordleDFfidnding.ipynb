{
 "cells": [
  {
   "cell_type": "code",
   "execution_count": 15,
   "id": "b645ccaa-6966-4ff6-8a99-0976d78ba2a2",
   "metadata": {},
   "outputs": [],
   "source": [
    "import pandas as pd\n",
    "import numpy as np\n",
    "import os\n",
    "\n",
    "\n",
    "import sqlalchemy as db\n",
    "from sqlalchemy import create_engine, MetaData, inspect"
   ]
  },
  {
   "cell_type": "code",
   "execution_count": 16,
   "id": "a35fc498-57ed-485b-80a1-3a07a21fbe6b",
   "metadata": {},
   "outputs": [],
   "source": [
    "engine = db.create_engine('sqlite:////Users/michaelharnett/Library/Messages/chat.db')\n",
    "connection = engine.connect()\n",
    "metadata = db.MetaData()"
   ]
  },
  {
   "cell_type": "code",
   "execution_count": 17,
   "id": "7acd6d6b-55e6-4d28-ae7f-e651a14bdbe3",
   "metadata": {},
   "outputs": [
    {
     "data": {
      "text/html": [
       "<div>\n",
       "<style scoped>\n",
       "    .dataframe tbody tr th:only-of-type {\n",
       "        vertical-align: middle;\n",
       "    }\n",
       "\n",
       "    .dataframe tbody tr th {\n",
       "        vertical-align: top;\n",
       "    }\n",
       "\n",
       "    .dataframe thead th {\n",
       "        text-align: right;\n",
       "    }\n",
       "</style>\n",
       "<table border=\"1\" class=\"dataframe\">\n",
       "  <thead>\n",
       "    <tr style=\"text-align: right;\">\n",
       "      <th></th>\n",
       "      <th>ROWID</th>\n",
       "      <th>IsFromMe</th>\n",
       "      <th>FromPhoneNumber</th>\n",
       "      <th>TextDate</th>\n",
       "      <th>MessageText</th>\n",
       "      <th>RoomName</th>\n",
       "    </tr>\n",
       "  </thead>\n",
       "  <tbody>\n",
       "    <tr>\n",
       "      <th>0</th>\n",
       "      <td>40878</td>\n",
       "      <td>1</td>\n",
       "      <td>E:michaelcharnett@gmail.com</td>\n",
       "      <td>2022-05-01 20:35:23</td>\n",
       "      <td>Wordle 316 4/6\\n\\n⬛⬛🟩⬛⬛\\n⬛⬛🟩⬛⬛\\n🟩🟩🟩⬛⬛\\n🟩🟩🟩🟩🟩</td>\n",
       "      <td>SAVAGES 🍃❄️🎉💊🍾🥂</td>\n",
       "    </tr>\n",
       "    <tr>\n",
       "      <th>1</th>\n",
       "      <td>40736</td>\n",
       "      <td>0</td>\n",
       "      <td>+12017248296</td>\n",
       "      <td>2022-04-30 16:42:50</td>\n",
       "      <td>jealous</td>\n",
       "      <td>SAVAGES 🍃❄️🎉💊🍾🥂</td>\n",
       "    </tr>\n",
       "    <tr>\n",
       "      <th>2</th>\n",
       "      <td>40733</td>\n",
       "      <td>0</td>\n",
       "      <td>+12017554735</td>\n",
       "      <td>2022-04-30 15:51:49</td>\n",
       "      <td>Wordle 315 3/6\\n\\n⬛⬛🟨🟩⬛\\n⬛🟨🟨🟩⬛\\n🟩🟩🟩🟩🟩</td>\n",
       "      <td>SAVAGES 🍃❄️🎉💊🍾🥂</td>\n",
       "    </tr>\n",
       "    <tr>\n",
       "      <th>3</th>\n",
       "      <td>40727</td>\n",
       "      <td>0</td>\n",
       "      <td>+18456083263</td>\n",
       "      <td>2022-04-30 14:33:14</td>\n",
       "      <td>Loved “If you can prove it’s your money you ar...</td>\n",
       "      <td>SAVAGES 🍃❄️🎉💊🍾🥂</td>\n",
       "    </tr>\n",
       "  </tbody>\n",
       "</table>\n",
       "</div>"
      ],
      "text/plain": [
       "   ROWID  IsFromMe              FromPhoneNumber             TextDate  \\\n",
       "0  40878         1  E:michaelcharnett@gmail.com  2022-05-01 20:35:23   \n",
       "1  40736         0                 +12017248296  2022-04-30 16:42:50   \n",
       "2  40733         0                 +12017554735  2022-04-30 15:51:49   \n",
       "3  40727         0                 +18456083263  2022-04-30 14:33:14   \n",
       "\n",
       "                                         MessageText         RoomName  \n",
       "0       Wordle 316 4/6\\n\\n⬛⬛🟩⬛⬛\\n⬛⬛🟩⬛⬛\\n🟩🟩🟩⬛⬛\\n🟩🟩🟩🟩🟩  SAVAGES 🍃❄️🎉💊🍾🥂  \n",
       "1                                            jealous  SAVAGES 🍃❄️🎉💊🍾🥂  \n",
       "2              Wordle 315 3/6\\n\\n⬛⬛🟨🟩⬛\\n⬛🟨🟨🟩⬛\\n🟩🟩🟩🟩🟩  SAVAGES 🍃❄️🎉💊🍾🥂  \n",
       "3  Loved “If you can prove it’s your money you ar...  SAVAGES 🍃❄️🎉💊🍾🥂  "
      ]
     },
     "execution_count": 17,
     "metadata": {},
     "output_type": "execute_result"
    }
   ],
   "source": [
    "savagesdf = pd.read_sql(\"select distinct m.rowid ,m.is_from_me IsFromMe ,case when m.is_from_me = 1 then m.account else h.id end as FromPhoneNumber ,datetime((m.date / 1000000000) + 978307200, 'unixepoch', 'localtime') as TextDate, m.text MessageText,c.display_name RoomName from message as m left join handle as h on m.handle_id = h.rowid left join chat as c on m.cache_roomnames = c.room_name left join chat_handle_join as ch on c.rowid = ch.chat_id left join handle as h2 on ch.handle_id = h2.rowid where RoomName LIKE 'Savages%' order by m.date desc;\", engine)\n",
    "savagesdf.head(4)"
   ]
  },
  {
   "cell_type": "code",
   "execution_count": 18,
   "id": "b21735b5-b5cd-451c-95e5-851c03f9434b",
   "metadata": {},
   "outputs": [
    {
     "data": {
      "text/html": [
       "<div>\n",
       "<style scoped>\n",
       "    .dataframe tbody tr th:only-of-type {\n",
       "        vertical-align: middle;\n",
       "    }\n",
       "\n",
       "    .dataframe tbody tr th {\n",
       "        vertical-align: top;\n",
       "    }\n",
       "\n",
       "    .dataframe thead th {\n",
       "        text-align: right;\n",
       "    }\n",
       "</style>\n",
       "<table border=\"1\" class=\"dataframe\">\n",
       "  <thead>\n",
       "    <tr style=\"text-align: right;\">\n",
       "      <th></th>\n",
       "      <th>player</th>\n",
       "      <th>date</th>\n",
       "      <th>message</th>\n",
       "    </tr>\n",
       "  </thead>\n",
       "  <tbody>\n",
       "    <tr>\n",
       "      <th>0</th>\n",
       "      <td>E:michaelcharnett@gmail.com</td>\n",
       "      <td>2022-05-01 20:35:23</td>\n",
       "      <td>Wordle 316 4/6\\n\\n⬛⬛🟩⬛⬛\\n⬛⬛🟩⬛⬛\\n🟩🟩🟩⬛⬛\\n🟩🟩🟩🟩🟩</td>\n",
       "    </tr>\n",
       "    <tr>\n",
       "      <th>1</th>\n",
       "      <td>+12017248296</td>\n",
       "      <td>2022-04-30 16:42:50</td>\n",
       "      <td>jealous</td>\n",
       "    </tr>\n",
       "    <tr>\n",
       "      <th>2</th>\n",
       "      <td>+12017554735</td>\n",
       "      <td>2022-04-30 15:51:49</td>\n",
       "      <td>Wordle 315 3/6\\n\\n⬛⬛🟨🟩⬛\\n⬛🟨🟨🟩⬛\\n🟩🟩🟩🟩🟩</td>\n",
       "    </tr>\n",
       "    <tr>\n",
       "      <th>3</th>\n",
       "      <td>+18456083263</td>\n",
       "      <td>2022-04-30 14:33:14</td>\n",
       "      <td>Loved “If you can prove it’s your money you ar...</td>\n",
       "    </tr>\n",
       "  </tbody>\n",
       "</table>\n",
       "</div>"
      ],
      "text/plain": [
       "                        player                 date  \\\n",
       "0  E:michaelcharnett@gmail.com  2022-05-01 20:35:23   \n",
       "1                 +12017248296  2022-04-30 16:42:50   \n",
       "2                 +12017554735  2022-04-30 15:51:49   \n",
       "3                 +18456083263  2022-04-30 14:33:14   \n",
       "\n",
       "                                             message  \n",
       "0       Wordle 316 4/6\\n\\n⬛⬛🟩⬛⬛\\n⬛⬛🟩⬛⬛\\n🟩🟩🟩⬛⬛\\n🟩🟩🟩🟩🟩  \n",
       "1                                            jealous  \n",
       "2              Wordle 315 3/6\\n\\n⬛⬛🟨🟩⬛\\n⬛🟨🟨🟩⬛\\n🟩🟩🟩🟩🟩  \n",
       "3  Loved “If you can prove it’s your money you ar...  "
      ]
     },
     "execution_count": 18,
     "metadata": {},
     "output_type": "execute_result"
    }
   ],
   "source": [
    "savagesdf = savagesdf[['FromPhoneNumber','TextDate','MessageText']] # taking only the fields I need\n",
    "savagesdf = savagesdf.rename(columns = {'FromPhoneNumber':'player', 'TextDate':'date', 'MessageText':'message'}) #fixing names\n",
    "\n",
    "savagesdf.head(4)"
   ]
  },
  {
   "cell_type": "code",
   "execution_count": 19,
   "id": "0bbb6c05-068d-43b8-b630-406b1b6dbd5a",
   "metadata": {},
   "outputs": [
    {
     "data": {
      "text/plain": [
       "+12017248296                   2794\n",
       "+12017447544                   2313\n",
       "+18456083263                   1704\n",
       "+12017554735                   1510\n",
       "E:michaelcharnett@gmail.com    1362\n",
       "+12012706619                    651\n",
       "e:michaelcharnett@gmail.com       1\n",
       "Name: player, dtype: int64"
      ]
     },
     "execution_count": 19,
     "metadata": {},
     "output_type": "execute_result"
    }
   ],
   "source": [
    "savagesdf.player.value_counts()"
   ]
  },
  {
   "cell_type": "code",
   "execution_count": 6,
   "id": "cdffd397-3655-4ac9-b365-75cd8315b109",
   "metadata": {},
   "outputs": [
    {
     "data": {
      "text/html": [
       "<div>\n",
       "<style scoped>\n",
       "    .dataframe tbody tr th:only-of-type {\n",
       "        vertical-align: middle;\n",
       "    }\n",
       "\n",
       "    .dataframe tbody tr th {\n",
       "        vertical-align: top;\n",
       "    }\n",
       "\n",
       "    .dataframe thead th {\n",
       "        text-align: right;\n",
       "    }\n",
       "</style>\n",
       "<table border=\"1\" class=\"dataframe\">\n",
       "  <thead>\n",
       "    <tr style=\"text-align: right;\">\n",
       "      <th></th>\n",
       "      <th>player</th>\n",
       "      <th>date</th>\n",
       "      <th>message</th>\n",
       "    </tr>\n",
       "  </thead>\n",
       "  <tbody>\n",
       "    <tr>\n",
       "      <th>10325</th>\n",
       "      <td>e:michaelcharnett@gmail.com</td>\n",
       "      <td>2021-07-10 17:12:54</td>\n",
       "      <td>Emphasized an image</td>\n",
       "    </tr>\n",
       "  </tbody>\n",
       "</table>\n",
       "</div>"
      ],
      "text/plain": [
       "                            player                 date              message\n",
       "10325  e:michaelcharnett@gmail.com  2021-07-10 17:12:54  Emphasized an image"
      ]
     },
     "execution_count": 6,
     "metadata": {},
     "output_type": "execute_result"
    }
   ],
   "source": [
    "# curious, my email shows up twice, one with an 'E' one wiht an 'e' ...i did not see this in the family chat\n",
    "# I am thinking this is because of using my laptop? it is only one message, and a reaction, but I should build\n",
    "# in checks for both in case\n",
    "\n",
    "savagesdf[savagesdf.player == 'e:michaelcharnett@gmail.com']"
   ]
  },
  {
   "cell_type": "code",
   "execution_count": 20,
   "id": "1cffaa47-d0da-44cf-9f9c-aebd7e5df0f2",
   "metadata": {},
   "outputs": [],
   "source": [
    "savagesdf.loc[savagesdf.player == '+12017248296', 'player'] = 'kell'\n",
    "savagesdf.loc[savagesdf.player == '+12017447544', 'player'] = 'd'\n",
    "savagesdf.loc[savagesdf.player == '+18456083263', 'player'] = 'drie'\n",
    "savagesdf.loc[savagesdf.player == '+12017554735', 'player'] = 'jose'\n",
    "savagesdf.loc[savagesdf.player == '+12012706619', 'player'] = 'nick'\n",
    "savagesdf.loc[savagesdf.player == 'E:michaelcharnett@gmail.com', 'player'] = 'michael'\n",
    "savagesdf.loc[savagesdf.player == 'e:michaelcharnett@gmail.com', 'player'] = 'michael'"
   ]
  },
  {
   "cell_type": "code",
   "execution_count": 21,
   "id": "de60b5a4-d552-4de4-b413-13475770fc2c",
   "metadata": {},
   "outputs": [
    {
     "data": {
      "text/html": [
       "<div>\n",
       "<style scoped>\n",
       "    .dataframe tbody tr th:only-of-type {\n",
       "        vertical-align: middle;\n",
       "    }\n",
       "\n",
       "    .dataframe tbody tr th {\n",
       "        vertical-align: top;\n",
       "    }\n",
       "\n",
       "    .dataframe thead th {\n",
       "        text-align: right;\n",
       "    }\n",
       "</style>\n",
       "<table border=\"1\" class=\"dataframe\">\n",
       "  <thead>\n",
       "    <tr style=\"text-align: right;\">\n",
       "      <th></th>\n",
       "      <th>player</th>\n",
       "      <th>date</th>\n",
       "      <th>message</th>\n",
       "    </tr>\n",
       "  </thead>\n",
       "  <tbody>\n",
       "    <tr>\n",
       "      <th>0</th>\n",
       "      <td>michael</td>\n",
       "      <td>2022-05-01 20:35:23</td>\n",
       "      <td>Wordle 316 4/6\\n\\n⬛⬛🟩⬛⬛\\n⬛⬛🟩⬛⬛\\n🟩🟩🟩⬛⬛\\n🟩🟩🟩🟩🟩</td>\n",
       "    </tr>\n",
       "    <tr>\n",
       "      <th>1</th>\n",
       "      <td>kell</td>\n",
       "      <td>2022-04-30 16:42:50</td>\n",
       "      <td>jealous</td>\n",
       "    </tr>\n",
       "    <tr>\n",
       "      <th>2</th>\n",
       "      <td>jose</td>\n",
       "      <td>2022-04-30 15:51:49</td>\n",
       "      <td>Wordle 315 3/6\\n\\n⬛⬛🟨🟩⬛\\n⬛🟨🟨🟩⬛\\n🟩🟩🟩🟩🟩</td>\n",
       "    </tr>\n",
       "    <tr>\n",
       "      <th>3</th>\n",
       "      <td>drie</td>\n",
       "      <td>2022-04-30 14:33:14</td>\n",
       "      <td>Loved “If you can prove it’s your money you ar...</td>\n",
       "    </tr>\n",
       "    <tr>\n",
       "      <th>4</th>\n",
       "      <td>drie</td>\n",
       "      <td>2022-04-30 14:33:09</td>\n",
       "      <td>LIKE YOU STOLE from me so I need that back 😂☠️</td>\n",
       "    </tr>\n",
       "  </tbody>\n",
       "</table>\n",
       "</div>"
      ],
      "text/plain": [
       "    player                 date  \\\n",
       "0  michael  2022-05-01 20:35:23   \n",
       "1     kell  2022-04-30 16:42:50   \n",
       "2     jose  2022-04-30 15:51:49   \n",
       "3     drie  2022-04-30 14:33:14   \n",
       "4     drie  2022-04-30 14:33:09   \n",
       "\n",
       "                                             message  \n",
       "0       Wordle 316 4/6\\n\\n⬛⬛🟩⬛⬛\\n⬛⬛🟩⬛⬛\\n🟩🟩🟩⬛⬛\\n🟩🟩🟩🟩🟩  \n",
       "1                                            jealous  \n",
       "2              Wordle 315 3/6\\n\\n⬛⬛🟨🟩⬛\\n⬛🟨🟨🟩⬛\\n🟩🟩🟩🟩🟩  \n",
       "3  Loved “If you can prove it’s your money you ar...  \n",
       "4     LIKE YOU STOLE from me so I need that back 😂☠️  "
      ]
     },
     "execution_count": 21,
     "metadata": {},
     "output_type": "execute_result"
    }
   ],
   "source": [
    "savagesdf.head(5)"
   ]
  },
  {
   "cell_type": "code",
   "execution_count": 22,
   "id": "d9ce0516-fbc3-4134-9d98-2267d097e576",
   "metadata": {},
   "outputs": [
    {
     "name": "stdout",
     "output_type": "stream",
     "text": [
      "<class 'pandas.core.frame.DataFrame'>\n",
      "RangeIndex: 10335 entries, 0 to 10334\n",
      "Data columns (total 3 columns):\n",
      " #   Column   Non-Null Count  Dtype \n",
      "---  ------   --------------  ----- \n",
      " 0   player   10335 non-null  object\n",
      " 1   date     10335 non-null  object\n",
      " 2   message  10331 non-null  object\n",
      "dtypes: object(3)\n",
      "memory usage: 242.4+ KB\n"
     ]
    }
   ],
   "source": [
    "savagesdf.info()"
   ]
  },
  {
   "cell_type": "code",
   "execution_count": 23,
   "id": "e55c2de7-8d3b-4f19-b4a6-664ed4c859ea",
   "metadata": {},
   "outputs": [],
   "source": [
    "savagesdf.date = pd.to_datetime(savagesdf.date)"
   ]
  },
  {
   "cell_type": "code",
   "execution_count": 24,
   "id": "d7ea8786-21b2-4db0-88a0-bc8380e16a18",
   "metadata": {},
   "outputs": [
    {
     "name": "stdout",
     "output_type": "stream",
     "text": [
      "<class 'pandas.core.frame.DataFrame'>\n",
      "RangeIndex: 10335 entries, 0 to 10334\n",
      "Data columns (total 3 columns):\n",
      " #   Column   Non-Null Count  Dtype         \n",
      "---  ------   --------------  -----         \n",
      " 0   player   10335 non-null  object        \n",
      " 1   date     10335 non-null  datetime64[ns]\n",
      " 2   message  10331 non-null  object        \n",
      "dtypes: datetime64[ns](1), object(2)\n",
      "memory usage: 242.4+ KB\n"
     ]
    }
   ],
   "source": [
    "savagesdf.info()"
   ]
  },
  {
   "cell_type": "code",
   "execution_count": 25,
   "id": "737f511b-3516-46e9-b60a-5578192313e6",
   "metadata": {},
   "outputs": [
    {
     "data": {
      "text/html": [
       "<div>\n",
       "<style scoped>\n",
       "    .dataframe tbody tr th:only-of-type {\n",
       "        vertical-align: middle;\n",
       "    }\n",
       "\n",
       "    .dataframe tbody tr th {\n",
       "        vertical-align: top;\n",
       "    }\n",
       "\n",
       "    .dataframe thead th {\n",
       "        text-align: right;\n",
       "    }\n",
       "</style>\n",
       "<table border=\"1\" class=\"dataframe\">\n",
       "  <thead>\n",
       "    <tr style=\"text-align: right;\">\n",
       "      <th></th>\n",
       "      <th>player</th>\n",
       "      <th>date</th>\n",
       "      <th>message</th>\n",
       "    </tr>\n",
       "  </thead>\n",
       "  <tbody>\n",
       "    <tr>\n",
       "      <th>0</th>\n",
       "      <td>Michael Michaelson</td>\n",
       "      <td>2022-04-24 17:16:35</td>\n",
       "      <td>How’s everyone’s weekend going</td>\n",
       "    </tr>\n",
       "    <tr>\n",
       "      <th>1</th>\n",
       "      <td>Michael Michaelson</td>\n",
       "      <td>2022-04-24 15:20:56</td>\n",
       "      <td>What’s up savages</td>\n",
       "    </tr>\n",
       "    <tr>\n",
       "      <th>2</th>\n",
       "      <td>Michael Michaelson</td>\n",
       "      <td>2022-04-24 13:53:47</td>\n",
       "      <td>Wordle 309 4/6\\n\\n⬛🟨⬛⬛⬛\\n⬛⬛🟩⬛🟩\\n⬛⬛🟨🟨⬛\\n🟩🟩🟩🟩🟩</td>\n",
       "    </tr>\n",
       "    <tr>\n",
       "      <th>3</th>\n",
       "      <td>Killa Kels</td>\n",
       "      <td>2022-04-24 13:53:33</td>\n",
       "      <td>Laughed at an image</td>\n",
       "    </tr>\n",
       "    <tr>\n",
       "      <th>4</th>\n",
       "      <td>Hoesay</td>\n",
       "      <td>2022-04-24 13:53:08</td>\n",
       "      <td>￼</td>\n",
       "    </tr>\n",
       "    <tr>\n",
       "      <th>...</th>\n",
       "      <td>...</td>\n",
       "      <td>...</td>\n",
       "      <td>...</td>\n",
       "    </tr>\n",
       "    <tr>\n",
       "      <th>1395</th>\n",
       "      <td>DeAnimal</td>\n",
       "      <td>2022-03-09 10:36:16</td>\n",
       "      <td>Ew</td>\n",
       "    </tr>\n",
       "    <tr>\n",
       "      <th>1396</th>\n",
       "      <td>Killa Kels</td>\n",
       "      <td>2022-03-09 10:34:09</td>\n",
       "      <td>its gonna snow</td>\n",
       "    </tr>\n",
       "    <tr>\n",
       "      <th>1397</th>\n",
       "      <td>Killa Kels</td>\n",
       "      <td>2022-03-09 10:33:44</td>\n",
       "      <td>wait what</td>\n",
       "    </tr>\n",
       "    <tr>\n",
       "      <th>1398</th>\n",
       "      <td>Drie</td>\n",
       "      <td>2022-03-09 08:59:57</td>\n",
       "      <td>Are we supposed to get</td>\n",
       "    </tr>\n",
       "    <tr>\n",
       "      <th>1399</th>\n",
       "      <td>Drie</td>\n",
       "      <td>2022-03-09 07:52:09</td>\n",
       "      <td>How much snow</td>\n",
       "    </tr>\n",
       "  </tbody>\n",
       "</table>\n",
       "<p>1400 rows × 3 columns</p>\n",
       "</div>"
      ],
      "text/plain": [
       "                  player                date  \\\n",
       "0     Michael Michaelson 2022-04-24 17:16:35   \n",
       "1     Michael Michaelson 2022-04-24 15:20:56   \n",
       "2     Michael Michaelson 2022-04-24 13:53:47   \n",
       "3             Killa Kels 2022-04-24 13:53:33   \n",
       "4                 Hoesay 2022-04-24 13:53:08   \n",
       "...                  ...                 ...   \n",
       "1395            DeAnimal 2022-03-09 10:36:16   \n",
       "1396          Killa Kels 2022-03-09 10:34:09   \n",
       "1397          Killa Kels 2022-03-09 10:33:44   \n",
       "1398                Drie 2022-03-09 08:59:57   \n",
       "1399                Drie 2022-03-09 07:52:09   \n",
       "\n",
       "                                           message  \n",
       "0                  How’s everyone’s weekend going   \n",
       "1                               What’s up savages   \n",
       "2     Wordle 309 4/6\\n\\n⬛🟨⬛⬛⬛\\n⬛⬛🟩⬛🟩\\n⬛⬛🟨🟨⬛\\n🟩🟩🟩🟩🟩  \n",
       "3                              Laughed at an image  \n",
       "4                                                ￼  \n",
       "...                                            ...  \n",
       "1395                                            Ew  \n",
       "1396                                its gonna snow  \n",
       "1397                                     wait what  \n",
       "1398                        Are we supposed to get  \n",
       "1399                                How much snow   \n",
       "\n",
       "[1400 rows x 3 columns]"
      ]
     },
     "execution_count": 25,
     "metadata": {},
     "output_type": "execute_result"
    }
   ],
   "source": [
    "savagesdf[savagesdf.date > '2022-03-09']"
   ]
  },
  {
   "cell_type": "code",
   "execution_count": 28,
   "id": "7e933928-7909-409c-b000-883be19d41a9",
   "metadata": {},
   "outputs": [],
   "source": [
    "### depricated\n",
    "\n",
    "# # Creating columns\n",
    "# savagesdf['wordle_check'] = ''\n",
    "# savagesdf['game_num'] = ''\n",
    "# savagesdf['score'] = ''\n",
    "\n",
    "# # fixing indexes\n",
    "# savagesdf = savagesdf.dropna()\n",
    "# savagesdf = savagesdf.reset_index()\n",
    "# savagesdf =savagesdf.drop(columns = ['index'])\n",
    "\n",
    "# #updating values\n",
    "# for i in range(1,len(savagesdf)):\n",
    "#     savagesdf.loc[i,'wordle_check'] = savagesdf.loc[i,'message'][:6]\n",
    "#     savagesdf.loc[i,'game_num'] = savagesdf.loc[i,'message'][7:10]\n",
    "#     savagesdf.loc[i,'score'] = savagesdf.loc[i,'message'][11:14]\n",
    "    \n",
    "\n"
   ]
  },
  {
   "cell_type": "code",
   "execution_count": 33,
   "id": "8df9531a-3fc5-4829-b343-7fe448face62",
   "metadata": {},
   "outputs": [
    {
     "ename": "IndexError",
     "evalue": "string index out of range",
     "output_type": "error",
     "traceback": [
      "\u001b[0;31m---------------------------------------------------------------------------\u001b[0m",
      "\u001b[0;31mIndexError\u001b[0m                                Traceback (most recent call last)",
      "\u001b[0;32m/var/folders/xl/ftndz_9j3hn5ybffb6t5q42m0000gn/T/ipykernel_5749/3711310244.py\u001b[0m in \u001b[0;36m<module>\u001b[0;34m\u001b[0m\n\u001b[1;32m     16\u001b[0m \u001b[0;34m\u001b[0m\u001b[0m\n\u001b[1;32m     17\u001b[0m \u001b[0;32mfor\u001b[0m \u001b[0mi\u001b[0m \u001b[0;32min\u001b[0m \u001b[0mrange\u001b[0m\u001b[0;34m(\u001b[0m\u001b[0mlen\u001b[0m\u001b[0;34m(\u001b[0m\u001b[0msavages_wordledf\u001b[0m\u001b[0;34m)\u001b[0m\u001b[0;34m)\u001b[0m\u001b[0;34m:\u001b[0m\u001b[0;34m\u001b[0m\u001b[0;34m\u001b[0m\u001b[0m\n\u001b[0;32m---> 18\u001b[0;31m     \u001b[0msavages_wordledf\u001b[0m\u001b[0;34m.\u001b[0m\u001b[0mloc\u001b[0m\u001b[0;34m[\u001b[0m\u001b[0mi\u001b[0m\u001b[0;34m,\u001b[0m \u001b[0;34m'score'\u001b[0m\u001b[0;34m]\u001b[0m \u001b[0;34m=\u001b[0m \u001b[0msavages_wordledf\u001b[0m\u001b[0;34m.\u001b[0m\u001b[0mloc\u001b[0m\u001b[0;34m[\u001b[0m\u001b[0mi\u001b[0m\u001b[0;34m,\u001b[0m \u001b[0;34m'score'\u001b[0m\u001b[0;34m]\u001b[0m\u001b[0;34m[\u001b[0m\u001b[0;36m0\u001b[0m\u001b[0;34m]\u001b[0m\u001b[0;34m\u001b[0m\u001b[0;34m\u001b[0m\u001b[0m\n\u001b[0m",
      "\u001b[0;31mIndexError\u001b[0m: string index out of range"
     ]
    }
   ],
   "source": [
    "#### depricated\n",
    "\n",
    "\n",
    "# # creating wordledf, df of just wordle messages\n",
    "# savages_wordledf = savagesdf[savagesdf.wordle_check == 'Wordle']\n",
    "# savages_wordledf = savages_wordledf.drop(columns = ['message','wordle_check'])\n",
    "\n",
    "\n",
    "\n",
    "# # changing scores to remove the denominator, a they're all out of 6\n",
    "# savages_wordledf = savages_wordledf.reset_index()\n",
    "# savages_wordledf = savages_wordledf.drop(columns = ['index'])   ##for some reason, it works if I keep resetting index\n",
    "\n",
    "# # there was a blank space in nick's first entry, he must have started a text with 'wordle' ON 2/7\n",
    "\n",
    "\n",
    "\n",
    "# for i in range(len(savages_wordledf)):\n",
    "#     savages_wordledf.loc[i, 'score'] = savages_wordledf.loc[i, 'score'][0]"
   ]
  },
  {
   "cell_type": "code",
   "execution_count": 32,
   "id": "707142b6-73a6-46b6-9a4a-45e5c41b947a",
   "metadata": {},
   "outputs": [
    {
     "data": {
      "text/html": [
       "<div>\n",
       "<style scoped>\n",
       "    .dataframe tbody tr th:only-of-type {\n",
       "        vertical-align: middle;\n",
       "    }\n",
       "\n",
       "    .dataframe tbody tr th {\n",
       "        vertical-align: top;\n",
       "    }\n",
       "\n",
       "    .dataframe thead th {\n",
       "        text-align: right;\n",
       "    }\n",
       "</style>\n",
       "<table border=\"1\" class=\"dataframe\">\n",
       "  <thead>\n",
       "    <tr style=\"text-align: right;\">\n",
       "      <th></th>\n",
       "      <th>player</th>\n",
       "      <th>date</th>\n",
       "      <th>game_num</th>\n",
       "      <th>score</th>\n",
       "    </tr>\n",
       "  </thead>\n",
       "  <tbody>\n",
       "    <tr>\n",
       "      <th>0</th>\n",
       "      <td>Michael Michaelson</td>\n",
       "      <td>2022-04-24 13:53:47</td>\n",
       "      <td>309</td>\n",
       "      <td>4</td>\n",
       "    </tr>\n",
       "    <tr>\n",
       "      <th>1</th>\n",
       "      <td>Killa Kels</td>\n",
       "      <td>2022-04-24 07:38:58</td>\n",
       "      <td>309</td>\n",
       "      <td>5</td>\n",
       "    </tr>\n",
       "    <tr>\n",
       "      <th>2</th>\n",
       "      <td>Nick Cosby</td>\n",
       "      <td>2022-04-23 18:00:53</td>\n",
       "      <td>308</td>\n",
       "      <td>5</td>\n",
       "    </tr>\n",
       "    <tr>\n",
       "      <th>3</th>\n",
       "      <td>Hoesay</td>\n",
       "      <td>2022-04-23 15:58:55</td>\n",
       "      <td>308</td>\n",
       "      <td>4</td>\n",
       "    </tr>\n",
       "    <tr>\n",
       "      <th>4</th>\n",
       "      <td>Michael Michaelson</td>\n",
       "      <td>2022-04-23 15:58:53</td>\n",
       "      <td>308</td>\n",
       "      <td>3</td>\n",
       "    </tr>\n",
       "    <tr>\n",
       "      <th>...</th>\n",
       "      <td>...</td>\n",
       "      <td>...</td>\n",
       "      <td>...</td>\n",
       "      <td>...</td>\n",
       "    </tr>\n",
       "    <tr>\n",
       "      <th>173</th>\n",
       "      <td>Killa Kels</td>\n",
       "      <td>2022-02-11 07:30:40</td>\n",
       "      <td>237</td>\n",
       "      <td>6</td>\n",
       "    </tr>\n",
       "    <tr>\n",
       "      <th>174</th>\n",
       "      <td>Hoesay</td>\n",
       "      <td>2022-02-10 13:13:20</td>\n",
       "      <td>236</td>\n",
       "      <td>3</td>\n",
       "    </tr>\n",
       "    <tr>\n",
       "      <th>175</th>\n",
       "      <td>Killa Kels</td>\n",
       "      <td>2022-02-08 14:13:48</td>\n",
       "      <td>234</td>\n",
       "      <td>6</td>\n",
       "    </tr>\n",
       "    <tr>\n",
       "      <th>176</th>\n",
       "      <td>Michael Michaelson</td>\n",
       "      <td>2022-02-08 13:46:58</td>\n",
       "      <td>234</td>\n",
       "      <td>5</td>\n",
       "    </tr>\n",
       "    <tr>\n",
       "      <th>177</th>\n",
       "      <td>Nick Cosby</td>\n",
       "      <td>2022-02-07 13:43:26</td>\n",
       "      <td></td>\n",
       "      <td></td>\n",
       "    </tr>\n",
       "  </tbody>\n",
       "</table>\n",
       "<p>178 rows × 4 columns</p>\n",
       "</div>"
      ],
      "text/plain": [
       "                 player                date game_num score\n",
       "0    Michael Michaelson 2022-04-24 13:53:47      309     4\n",
       "1            Killa Kels 2022-04-24 07:38:58      309     5\n",
       "2            Nick Cosby 2022-04-23 18:00:53      308     5\n",
       "3                Hoesay 2022-04-23 15:58:55      308     4\n",
       "4    Michael Michaelson 2022-04-23 15:58:53      308     3\n",
       "..                  ...                 ...      ...   ...\n",
       "173          Killa Kels 2022-02-11 07:30:40      237     6\n",
       "174              Hoesay 2022-02-10 13:13:20      236     3\n",
       "175          Killa Kels 2022-02-08 14:13:48      234     6\n",
       "176  Michael Michaelson 2022-02-08 13:46:58      234     5\n",
       "177          Nick Cosby 2022-02-07 13:43:26               \n",
       "\n",
       "[178 rows x 4 columns]"
      ]
     },
     "execution_count": 32,
     "metadata": {},
     "output_type": "execute_result"
    }
   ],
   "source": [
    "savages_wordledf"
   ]
  },
  {
   "cell_type": "code",
   "execution_count": 35,
   "id": "7317de7a-6622-4e73-8e95-4e7f85a5bcaa",
   "metadata": {},
   "outputs": [
    {
     "data": {
      "text/plain": [
       "''"
      ]
     },
     "execution_count": 35,
     "metadata": {},
     "output_type": "execute_result"
    }
   ],
   "source": [
    "savages_wordledf.iloc[177]['game_num']"
   ]
  },
  {
   "cell_type": "code",
   "execution_count": 36,
   "id": "ec563c5b-0bf0-49ee-98b1-1f3438f4198e",
   "metadata": {},
   "outputs": [
    {
     "data": {
      "text/plain": [
       "283    4\n",
       "261    4\n",
       "293    4\n",
       "294    4\n",
       "278    4\n",
       "      ..\n",
       "270    1\n",
       "272    1\n",
       "273    1\n",
       "274    1\n",
       "       1\n",
       "Name: game_num, Length: 65, dtype: int64"
      ]
     },
     "execution_count": 36,
     "metadata": {},
     "output_type": "execute_result"
    }
   ],
   "source": [
    "savages_wordledf.game_num.value_counts()"
   ]
  },
  {
   "cell_type": "code",
   "execution_count": 37,
   "id": "59cdb987-14f4-464d-b169-e65e363a1087",
   "metadata": {},
   "outputs": [
    {
     "data": {
      "text/html": [
       "<div>\n",
       "<style scoped>\n",
       "    .dataframe tbody tr th:only-of-type {\n",
       "        vertical-align: middle;\n",
       "    }\n",
       "\n",
       "    .dataframe tbody tr th {\n",
       "        vertical-align: top;\n",
       "    }\n",
       "\n",
       "    .dataframe thead th {\n",
       "        text-align: right;\n",
       "    }\n",
       "</style>\n",
       "<table border=\"1\" class=\"dataframe\">\n",
       "  <thead>\n",
       "    <tr style=\"text-align: right;\">\n",
       "      <th></th>\n",
       "      <th>player</th>\n",
       "      <th>date</th>\n",
       "      <th>game_num</th>\n",
       "      <th>score</th>\n",
       "    </tr>\n",
       "  </thead>\n",
       "  <tbody>\n",
       "    <tr>\n",
       "      <th>0</th>\n",
       "      <td>Michael Michaelson</td>\n",
       "      <td>2022-04-24 13:53:47</td>\n",
       "      <td>309</td>\n",
       "      <td>4</td>\n",
       "    </tr>\n",
       "    <tr>\n",
       "      <th>1</th>\n",
       "      <td>Killa Kels</td>\n",
       "      <td>2022-04-24 07:38:58</td>\n",
       "      <td>309</td>\n",
       "      <td>5</td>\n",
       "    </tr>\n",
       "    <tr>\n",
       "      <th>2</th>\n",
       "      <td>Nick Cosby</td>\n",
       "      <td>2022-04-23 18:00:53</td>\n",
       "      <td>308</td>\n",
       "      <td>5</td>\n",
       "    </tr>\n",
       "    <tr>\n",
       "      <th>3</th>\n",
       "      <td>Hoesay</td>\n",
       "      <td>2022-04-23 15:58:55</td>\n",
       "      <td>308</td>\n",
       "      <td>4</td>\n",
       "    </tr>\n",
       "    <tr>\n",
       "      <th>4</th>\n",
       "      <td>Michael Michaelson</td>\n",
       "      <td>2022-04-23 15:58:53</td>\n",
       "      <td>308</td>\n",
       "      <td>3</td>\n",
       "    </tr>\n",
       "    <tr>\n",
       "      <th>...</th>\n",
       "      <td>...</td>\n",
       "      <td>...</td>\n",
       "      <td>...</td>\n",
       "      <td>...</td>\n",
       "    </tr>\n",
       "    <tr>\n",
       "      <th>172</th>\n",
       "      <td>Hoesay</td>\n",
       "      <td>2022-02-11 08:28:22</td>\n",
       "      <td>237</td>\n",
       "      <td>5</td>\n",
       "    </tr>\n",
       "    <tr>\n",
       "      <th>173</th>\n",
       "      <td>Killa Kels</td>\n",
       "      <td>2022-02-11 07:30:40</td>\n",
       "      <td>237</td>\n",
       "      <td>6</td>\n",
       "    </tr>\n",
       "    <tr>\n",
       "      <th>174</th>\n",
       "      <td>Hoesay</td>\n",
       "      <td>2022-02-10 13:13:20</td>\n",
       "      <td>236</td>\n",
       "      <td>3</td>\n",
       "    </tr>\n",
       "    <tr>\n",
       "      <th>175</th>\n",
       "      <td>Killa Kels</td>\n",
       "      <td>2022-02-08 14:13:48</td>\n",
       "      <td>234</td>\n",
       "      <td>6</td>\n",
       "    </tr>\n",
       "    <tr>\n",
       "      <th>176</th>\n",
       "      <td>Michael Michaelson</td>\n",
       "      <td>2022-02-08 13:46:58</td>\n",
       "      <td>234</td>\n",
       "      <td>5</td>\n",
       "    </tr>\n",
       "  </tbody>\n",
       "</table>\n",
       "<p>177 rows × 4 columns</p>\n",
       "</div>"
      ],
      "text/plain": [
       "                 player                date game_num score\n",
       "0    Michael Michaelson 2022-04-24 13:53:47      309     4\n",
       "1            Killa Kels 2022-04-24 07:38:58      309     5\n",
       "2            Nick Cosby 2022-04-23 18:00:53      308     5\n",
       "3                Hoesay 2022-04-23 15:58:55      308     4\n",
       "4    Michael Michaelson 2022-04-23 15:58:53      308     3\n",
       "..                  ...                 ...      ...   ...\n",
       "172              Hoesay 2022-02-11 08:28:22      237     5\n",
       "173          Killa Kels 2022-02-11 07:30:40      237     6\n",
       "174              Hoesay 2022-02-10 13:13:20      236     3\n",
       "175          Killa Kels 2022-02-08 14:13:48      234     6\n",
       "176  Michael Michaelson 2022-02-08 13:46:58      234     5\n",
       "\n",
       "[177 rows x 4 columns]"
      ]
     },
     "execution_count": 37,
     "metadata": {},
     "output_type": "execute_result"
    }
   ],
   "source": [
    "savages_wordledf[savages_wordledf.game_num != '']"
   ]
  },
  {
   "cell_type": "markdown",
   "id": "2174aac2-9914-4486-912a-08a23c1822aa",
   "metadata": {},
   "source": [
    "# there was a blank space in nick's first entry, he must have started a text with 'wordle' ON 2/7\n",
    "\n",
    "clearly there are fringe cases I needto account for"
   ]
  },
  {
   "cell_type": "code",
   "execution_count": 48,
   "id": "9249e86b-84e0-4d0b-9b57-4c7542337ad7",
   "metadata": {},
   "outputs": [],
   "source": [
    "tempy = savagesdf[savagesdf.player == 'Nick Cosby']\n"
   ]
  },
  {
   "cell_type": "code",
   "execution_count": 51,
   "id": "1ae9d59f-343c-497c-adb2-698a189e1a96",
   "metadata": {},
   "outputs": [
    {
     "data": {
      "text/html": [
       "<div>\n",
       "<style scoped>\n",
       "    .dataframe tbody tr th:only-of-type {\n",
       "        vertical-align: middle;\n",
       "    }\n",
       "\n",
       "    .dataframe tbody tr th {\n",
       "        vertical-align: top;\n",
       "    }\n",
       "\n",
       "    .dataframe thead th {\n",
       "        text-align: right;\n",
       "    }\n",
       "</style>\n",
       "<table border=\"1\" class=\"dataframe\">\n",
       "  <thead>\n",
       "    <tr style=\"text-align: right;\">\n",
       "      <th></th>\n",
       "      <th>player</th>\n",
       "      <th>date</th>\n",
       "      <th>message</th>\n",
       "      <th>wordle_check</th>\n",
       "      <th>game_num</th>\n",
       "      <th>score</th>\n",
       "    </tr>\n",
       "  </thead>\n",
       "  <tbody>\n",
       "    <tr>\n",
       "      <th>2454</th>\n",
       "      <td>Nick Cosby</td>\n",
       "      <td>2022-02-07 13:43:26</td>\n",
       "      <td>Wordle?</td>\n",
       "      <td>Wordle</td>\n",
       "      <td></td>\n",
       "      <td></td>\n",
       "    </tr>\n",
       "    <tr>\n",
       "      <th>2503</th>\n",
       "      <td>Nick Cosby</td>\n",
       "      <td>2022-02-07 10:45:56</td>\n",
       "      <td>Do we</td>\n",
       "      <td>Do we</td>\n",
       "      <td></td>\n",
       "      <td></td>\n",
       "    </tr>\n",
       "    <tr>\n",
       "      <th>2553</th>\n",
       "      <td>Nick Cosby</td>\n",
       "      <td>2022-02-06 22:54:52</td>\n",
       "      <td>Sunday scaries are REAL</td>\n",
       "      <td>Sunday</td>\n",
       "      <td>sca</td>\n",
       "      <td>ies</td>\n",
       "    </tr>\n",
       "    <tr>\n",
       "      <th>2569</th>\n",
       "      <td>Nick Cosby</td>\n",
       "      <td>2022-02-06 12:38:05</td>\n",
       "      <td>Lmao</td>\n",
       "      <td>Lmao</td>\n",
       "      <td></td>\n",
       "      <td></td>\n",
       "    </tr>\n",
       "    <tr>\n",
       "      <th>2581</th>\n",
       "      <td>Nick Cosby</td>\n",
       "      <td>2022-02-04 16:26:48</td>\n",
       "      <td>That’s why Steve and Sean are fraternal not id...</td>\n",
       "      <td>That’s</td>\n",
       "      <td>why</td>\n",
       "      <td>Ste</td>\n",
       "    </tr>\n",
       "    <tr>\n",
       "      <th>...</th>\n",
       "      <td>...</td>\n",
       "      <td>...</td>\n",
       "      <td>...</td>\n",
       "      <td>...</td>\n",
       "      <td>...</td>\n",
       "      <td>...</td>\n",
       "    </tr>\n",
       "    <tr>\n",
       "      <th>9970</th>\n",
       "      <td>Nick Cosby</td>\n",
       "      <td>2021-07-20 08:13:14</td>\n",
       "      <td>Chilll that happened because of the delta vari...</td>\n",
       "      <td>Chilll</td>\n",
       "      <td>tha</td>\n",
       "      <td>ha</td>\n",
       "    </tr>\n",
       "    <tr>\n",
       "      <th>9983</th>\n",
       "      <td>Nick Cosby</td>\n",
       "      <td>2021-07-19 14:52:26</td>\n",
       "      <td>I was using the bathroom bored as fuck</td>\n",
       "      <td>I was</td>\n",
       "      <td>sin</td>\n",
       "      <td>th</td>\n",
       "    </tr>\n",
       "    <tr>\n",
       "      <th>9986</th>\n",
       "      <td>Nick Cosby</td>\n",
       "      <td>2021-07-19 14:26:27</td>\n",
       "      <td>It’s mad complicated</td>\n",
       "      <td>It’s</td>\n",
       "      <td>mad</td>\n",
       "      <td>com</td>\n",
       "    </tr>\n",
       "    <tr>\n",
       "      <th>9989</th>\n",
       "      <td>Nick Cosby</td>\n",
       "      <td>2021-07-19 14:05:57</td>\n",
       "      <td>At 1 pm they tell you the word\\n\\nThen they sa...</td>\n",
       "      <td>At 1 p</td>\n",
       "      <td>th</td>\n",
       "      <td>y t</td>\n",
       "    </tr>\n",
       "    <tr>\n",
       "      <th>10055</th>\n",
       "      <td>Nick Cosby</td>\n",
       "      <td>2021-07-13 12:21:14</td>\n",
       "      <td>Lmao</td>\n",
       "      <td>Lmao</td>\n",
       "      <td></td>\n",
       "      <td></td>\n",
       "    </tr>\n",
       "  </tbody>\n",
       "</table>\n",
       "<p>474 rows × 6 columns</p>\n",
       "</div>"
      ],
      "text/plain": [
       "           player                date  \\\n",
       "2454   Nick Cosby 2022-02-07 13:43:26   \n",
       "2503   Nick Cosby 2022-02-07 10:45:56   \n",
       "2553   Nick Cosby 2022-02-06 22:54:52   \n",
       "2569   Nick Cosby 2022-02-06 12:38:05   \n",
       "2581   Nick Cosby 2022-02-04 16:26:48   \n",
       "...           ...                 ...   \n",
       "9970   Nick Cosby 2021-07-20 08:13:14   \n",
       "9983   Nick Cosby 2021-07-19 14:52:26   \n",
       "9986   Nick Cosby 2021-07-19 14:26:27   \n",
       "9989   Nick Cosby 2021-07-19 14:05:57   \n",
       "10055  Nick Cosby 2021-07-13 12:21:14   \n",
       "\n",
       "                                                 message wordle_check  \\\n",
       "2454                                             Wordle?       Wordle   \n",
       "2503                                               Do we        Do we   \n",
       "2553                             Sunday scaries are REAL       Sunday   \n",
       "2569                                                Lmao         Lmao   \n",
       "2581   That’s why Steve and Sean are fraternal not id...       That’s   \n",
       "...                                                  ...          ...   \n",
       "9970   Chilll that happened because of the delta vari...       Chilll   \n",
       "9983              I was using the bathroom bored as fuck       I was    \n",
       "9986                               It’s mad complicated          It’s   \n",
       "9989   At 1 pm they tell you the word\\n\\nThen they sa...       At 1 p   \n",
       "10055                                               Lmao         Lmao   \n",
       "\n",
       "      game_num score  \n",
       "2454                  \n",
       "2503                  \n",
       "2553       sca   ies  \n",
       "2569                  \n",
       "2581       why   Ste  \n",
       "...        ...   ...  \n",
       "9970       tha    ha  \n",
       "9983       sin    th  \n",
       "9986       mad   com  \n",
       "9989        th   y t  \n",
       "10055                 \n",
       "\n",
       "[474 rows x 6 columns]"
      ]
     },
     "execution_count": 51,
     "metadata": {},
     "output_type": "execute_result"
    }
   ],
   "source": [
    "tempy[tempy.date < '2022-02-08']"
   ]
  },
  {
   "cell_type": "code",
   "execution_count": 13,
   "id": "ff9a1dfe-497b-4591-baba-c7169c4513b7",
   "metadata": {},
   "outputs": [],
   "source": [
    "\n",
    "# Creating columns\n",
    "savagesdf['wordle_check'] = ''\n",
    "savagesdf['game_num'] = ''\n",
    "savagesdf['score'] = ''\n",
    "\n",
    "# fixing indexes\n",
    "savagesdf = savagesdf.dropna()\n",
    "savagesdf = savagesdf.reset_index()\n",
    "savagesdf =savagesdf.drop(columns = ['index'])\n",
    "\n",
    "#updating values\n",
    "for i in range(1,len(savagesdf)):\n",
    "    savagesdf.loc[i,'wordle_check'] = savagesdf.loc[i,'message'][:6]\n",
    "    savagesdf.loc[i,'game_num'] = savagesdf.loc[i,'message'][7:10]\n",
    "    savagesdf.loc[i,'score'] = savagesdf.loc[i,'message'][11:14]\n",
    "    \n",
    "\n",
    "\n",
    "# creating wordledf, df of just wordle messages\n",
    "savages_wordledf = savagesdf[savagesdf.wordle_check == 'Wordle']\n",
    "savages_wordledf = savages_wordledf.drop(columns = ['message','wordle_check'])\n",
    "\n",
    "\n",
    "\n",
    "# changing scores to remove the denominator, a they're all out of 6\n",
    "savages_wordledf = savages_wordledf.reset_index()\n",
    "savages_wordledf = savages_wordledf.drop(columns = ['index'])   ##for some reason, it works if I keep resetting index\n",
    "\n",
    "# there was a blank space in nick's first entry, he must have started a text with 'wordle' ON 2/7\n",
    "savages_wordledf = savages_wordledf[savages_wordledf.game_num != '']\n",
    "\n",
    "\n",
    "for i in range(len(savages_wordledf)):\n",
    "    savages_wordledf.loc[i, 'score'] = savages_wordledf.loc[i, 'score'][0]"
   ]
  },
  {
   "cell_type": "code",
   "execution_count": 14,
   "id": "6f3306a7-ec34-451f-99fd-aa30fc608498",
   "metadata": {},
   "outputs": [
    {
     "data": {
      "text/html": [
       "<div>\n",
       "<style scoped>\n",
       "    .dataframe tbody tr th:only-of-type {\n",
       "        vertical-align: middle;\n",
       "    }\n",
       "\n",
       "    .dataframe tbody tr th {\n",
       "        vertical-align: top;\n",
       "    }\n",
       "\n",
       "    .dataframe thead th {\n",
       "        text-align: right;\n",
       "    }\n",
       "</style>\n",
       "<table border=\"1\" class=\"dataframe\">\n",
       "  <thead>\n",
       "    <tr style=\"text-align: right;\">\n",
       "      <th></th>\n",
       "      <th>player</th>\n",
       "      <th>date</th>\n",
       "      <th>game_num</th>\n",
       "      <th>score</th>\n",
       "    </tr>\n",
       "  </thead>\n",
       "  <tbody>\n",
       "    <tr>\n",
       "      <th>0</th>\n",
       "      <td>jose</td>\n",
       "      <td>2022-04-30 15:51:49</td>\n",
       "      <td>315</td>\n",
       "      <td>3</td>\n",
       "    </tr>\n",
       "    <tr>\n",
       "      <th>1</th>\n",
       "      <td>kell</td>\n",
       "      <td>2022-04-30 13:10:06</td>\n",
       "      <td>315</td>\n",
       "      <td>X</td>\n",
       "    </tr>\n",
       "    <tr>\n",
       "      <th>2</th>\n",
       "      <td>michael</td>\n",
       "      <td>2022-04-29 08:46:58</td>\n",
       "      <td>314</td>\n",
       "      <td>5</td>\n",
       "    </tr>\n",
       "    <tr>\n",
       "      <th>3</th>\n",
       "      <td>kell</td>\n",
       "      <td>2022-04-29 08:44:08</td>\n",
       "      <td>314</td>\n",
       "      <td>3</td>\n",
       "    </tr>\n",
       "    <tr>\n",
       "      <th>4</th>\n",
       "      <td>jose</td>\n",
       "      <td>2022-04-29 08:34:34</td>\n",
       "      <td>314</td>\n",
       "      <td>2</td>\n",
       "    </tr>\n",
       "    <tr>\n",
       "      <th>...</th>\n",
       "      <td>...</td>\n",
       "      <td>...</td>\n",
       "      <td>...</td>\n",
       "      <td>...</td>\n",
       "    </tr>\n",
       "    <tr>\n",
       "      <th>192</th>\n",
       "      <td>jose</td>\n",
       "      <td>2022-02-11 08:30:17</td>\n",
       "      <td>237</td>\n",
       "      <td>5</td>\n",
       "    </tr>\n",
       "    <tr>\n",
       "      <th>193</th>\n",
       "      <td>kell</td>\n",
       "      <td>2022-02-11 08:14:40</td>\n",
       "      <td>237</td>\n",
       "      <td>6</td>\n",
       "    </tr>\n",
       "    <tr>\n",
       "      <th>194</th>\n",
       "      <td>jose</td>\n",
       "      <td>2022-02-10 23:28:52</td>\n",
       "      <td>236</td>\n",
       "      <td>3</td>\n",
       "    </tr>\n",
       "    <tr>\n",
       "      <th>195</th>\n",
       "      <td>kell</td>\n",
       "      <td>2022-02-08 14:35:00</td>\n",
       "      <td>234</td>\n",
       "      <td>6</td>\n",
       "    </tr>\n",
       "    <tr>\n",
       "      <th>196</th>\n",
       "      <td>michael</td>\n",
       "      <td>2022-02-08 14:20:48</td>\n",
       "      <td>234</td>\n",
       "      <td>5</td>\n",
       "    </tr>\n",
       "  </tbody>\n",
       "</table>\n",
       "<p>197 rows × 4 columns</p>\n",
       "</div>"
      ],
      "text/plain": [
       "      player                date game_num score\n",
       "0       jose 2022-04-30 15:51:49      315     3\n",
       "1       kell 2022-04-30 13:10:06      315     X\n",
       "2    michael 2022-04-29 08:46:58      314     5\n",
       "3       kell 2022-04-29 08:44:08      314     3\n",
       "4       jose 2022-04-29 08:34:34      314     2\n",
       "..       ...                 ...      ...   ...\n",
       "192     jose 2022-02-11 08:30:17      237     5\n",
       "193     kell 2022-02-11 08:14:40      237     6\n",
       "194     jose 2022-02-10 23:28:52      236     3\n",
       "195     kell 2022-02-08 14:35:00      234     6\n",
       "196  michael 2022-02-08 14:20:48      234     5\n",
       "\n",
       "[197 rows x 4 columns]"
      ]
     },
     "execution_count": 14,
     "metadata": {},
     "output_type": "execute_result"
    }
   ],
   "source": [
    "savages_wordledf"
   ]
  },
  {
   "cell_type": "code",
   "execution_count": 30,
   "id": "49e6bd92-636c-4c64-9a4b-f76abd3d0ecc",
   "metadata": {},
   "outputs": [],
   "source": [
    "# changing data types\n",
    "savages_wordledf.player = savages_wordledf.player.astype('str')\n",
    "savages_wordledf.game_num = savages_wordledf.game_num.astype('int')\n",
    "savages_wordledf.score = savages_wordledf.score.astype('str')"
   ]
  },
  {
   "cell_type": "code",
   "execution_count": 46,
   "id": "56fec614-f8e9-49bc-a4c3-b7f2a6eef90a",
   "metadata": {},
   "outputs": [],
   "source": [
    "#individualized tables\n",
    "michaelSAVdf = savages_wordledf[savages_wordledf.player == 'michael']\n",
    "kelldf = savages_wordledf[savages_wordledf.player == 'kell']\n",
    "#ddf = savages_wordledf[savages_wordledf.player == 'd'] # realized not playing\n",
    "#driedf = savages_wordledf[savages_wordledf.player == 'drie'] # realized not playing \n",
    "nickdf = savages_wordledf[savages_wordledf.player == 'nick']\n",
    "josedf = savages_wordledf[savages_wordledf.player == 'jose']\n",
    "\n",
    "\n",
    "# ordering the tables\n",
    "michaelSAVdf = michaelSAVdf.sort_values(by='game_num', ascending = False)\n",
    "kelldf = kelldf.sort_values(by='game_num', ascending = False)\n",
    "#ddf = ddf.sort_values(by='game_num', ascending = False)    #not playing\n",
    "#driedf = driedf.sort_values(by='game_num', ascending = False)    #not playing\n",
    "josedf = josedf.sort_values(by='game_num', ascending = False)\n",
    "# nick sent a copule of cheat texts, all before 3/8 so tailoring his to look only after that\n",
    "nickdf = nickdf.sort_values(by='game_num', ascending = False)\n",
    "nickdf = nickdf[nickdf.date > '2022-03-09']\n",
    "\n",
    "\n",
    "# making a df of just wins to compare against\n",
    "michaelSAVwindf = michaelSAVdf[michaelSAVdf['score'].astype(str).str.isnumeric()]\n",
    "kellwindf = kelldf[kelldf['score'].astype(str).str.isnumeric()]\n",
    "josewindf = josedf[josedf['score'].astype(str).str.isnumeric()]\n",
    "nickwindf = nickdf[nickdf['score'].astype(str).str.isnumeric()]\n"
   ]
  },
  {
   "cell_type": "code",
   "execution_count": 34,
   "id": "2c65ea1f-f000-4ccb-9c1e-d9d31f0c14d4",
   "metadata": {},
   "outputs": [
    {
     "data": {
      "text/plain": [
       "32"
      ]
     },
     "execution_count": 34,
     "metadata": {},
     "output_type": "execute_result"
    }
   ],
   "source": [
    "len(michaelSAVwindf)"
   ]
  },
  {
   "cell_type": "code",
   "execution_count": 35,
   "id": "2dd9f132-451b-4c75-854f-7a6c0165ce6f",
   "metadata": {},
   "outputs": [
    {
     "data": {
      "text/plain": [
       "57"
      ]
     },
     "execution_count": 35,
     "metadata": {},
     "output_type": "execute_result"
    }
   ],
   "source": [
    "len(kellwindf)"
   ]
  },
  {
   "cell_type": "code",
   "execution_count": 36,
   "id": "b7ff1cce-0ea2-4f52-a330-8747e675a335",
   "metadata": {},
   "outputs": [
    {
     "data": {
      "text/plain": [
       "48"
      ]
     },
     "execution_count": 36,
     "metadata": {},
     "output_type": "execute_result"
    }
   ],
   "source": [
    "len(josewindf)"
   ]
  },
  {
   "cell_type": "code",
   "execution_count": 47,
   "id": "dd5b318a-bd74-4563-825c-43a582afc84e",
   "metadata": {},
   "outputs": [
    {
     "data": {
      "text/plain": [
       "26"
      ]
     },
     "execution_count": 47,
     "metadata": {},
     "output_type": "execute_result"
    }
   ],
   "source": [
    "len(nickwindf)"
   ]
  },
  {
   "cell_type": "code",
   "execution_count": 48,
   "id": "d7a53344-67f6-4669-b886-48530832ae18",
   "metadata": {},
   "outputs": [
    {
     "data": {
      "text/plain": [
       "5    12\n",
       "4     6\n",
       "6     5\n",
       "1     1\n",
       "3     1\n",
       "2     1\n",
       "Name: score, dtype: int64"
      ]
     },
     "execution_count": 48,
     "metadata": {},
     "output_type": "execute_result"
    }
   ],
   "source": [
    "nickwindf.score.value_counts()"
   ]
  },
  {
   "cell_type": "code",
   "execution_count": 51,
   "id": "fdecca7e-3cec-4d4e-bc03-026482d5dd5b",
   "metadata": {},
   "outputs": [],
   "source": [
    "michaelSAVdf.to_csv('tables/michaelSAVdf.csv', index = False)"
   ]
  },
  {
   "cell_type": "code",
   "execution_count": 52,
   "id": "b6be06ce-5055-4182-bd26-b5b492858701",
   "metadata": {},
   "outputs": [],
   "source": [
    "\n",
    "    guess_range = ['6', '5', '4', '3', '2', '1']\n",
    "\n",
    "    #michael\n",
    "    michaelSAVdf.score = michaelSAVdf.score.astype('str')\n",
    "    michaelSAV1wins = len(michaelSAVdf[michaelSAVdf.score == '1'])\n",
    "    michaelSAV2wins = len(michaelSAVdf[michaelSAVdf.score == '2'])\n",
    "    michaelSAV3wins = len(michaelSAVdf[michaelSAVdf.score == '3'])\n",
    "    michaelSAV4wins = len(michaelSAVdf[michaelSAVdf.score == '4'])\n",
    "    michaelSAV5wins = len(michaelSAVdf[michaelSAVdf.score == '5'])\n",
    "    michaelSAV6wins = len(michaelSAVdf[michaelSAVdf.score == '6'])\n",
    "    michaelSAV_guesscount = []\n",
    "    michaelSAV_guesscount.append(michaelSAV1wins)\n",
    "    michaelSAV_guesscount.append(michaelSAV2wins)\n",
    "    michaelSAV_guesscount.append(michaelSAV3wins)\n",
    "    michaelSAV_guesscount.append(michaelSAV4wins)\n",
    "    michaelSAV_guesscount.append(michaelSAV5wins)\n",
    "    michaelSAV_guesscount.append(michaelSAV6wins)\n",
    "    michaelSAV_guesscount = michaelSAV_guesscount[::-1]\n",
    "\n",
    "    #kell\n",
    "    kelldf.score = kelldf.score.astype('str')\n",
    "    kell1wins = len(kelldf[kelldf.score == '1'])\n",
    "    kell2wins = len(kelldf[kelldf.score == '2'])\n",
    "    kell3wins = len(kelldf[kelldf.score == '3'])\n",
    "    kell4wins = len(kelldf[kelldf.score == '4'])\n",
    "    kell5wins = len(kelldf[kelldf.score == '5'])\n",
    "    kell6wins = len(kelldf[kelldf.score == '6'])\n",
    "    kell_guesscount = []\n",
    "    kell_guesscount.append(kell1wins)\n",
    "    kell_guesscount.append(kell2wins)\n",
    "    kell_guesscount.append(kell3wins)\n",
    "    kell_guesscount.append(kell4wins)\n",
    "    kell_guesscount.append(kell5wins)\n",
    "    kell_guesscount.append(kell6wins)\n",
    "    kell_guesscount = kell_guesscount[::-1]\n",
    "\n",
    "\n",
    "    #nick\n",
    "    nickdf.score = nickdf.score.astype('str')\n",
    "    nick1wins = len(nickdf[nickdf.score == '1'])\n",
    "    nick2wins = len(nickdf[nickdf.score == '2'])\n",
    "    nick3wins = len(nickdf[nickdf.score == '3'])\n",
    "    nick4wins = len(nickdf[nickdf.score == '4'])\n",
    "    nick5wins = len(nickdf[nickdf.score == '5'])\n",
    "    nick6wins = len(nickdf[nickdf.score == '6'])\n",
    "    nick_guesscount = []\n",
    "    nick_guesscount.append(nick1wins)\n",
    "    nick_guesscount.append(nick2wins)\n",
    "    nick_guesscount.append(nick3wins)\n",
    "    nick_guesscount.append(nick4wins)\n",
    "    nick_guesscount.append(nick5wins)\n",
    "    nick_guesscount.append(nick6wins)\n",
    "    nick_guesscount = nick_guesscount[::-1]\n",
    "\n",
    "\n",
    "    #jose\n",
    "    josedf.score = josedf.score.astype('str')\n",
    "    jose1wins = len(josedf[josedf.score == '1'])\n",
    "    jose2wins = len(josedf[josedf.score == '2'])\n",
    "    jose3wins = len(josedf[josedf.score == '3'])\n",
    "    jose4wins = len(josedf[josedf.score == '4'])\n",
    "    jose5wins = len(josedf[josedf.score == '5'])\n",
    "    jose6wins = len(josedf[josedf.score == '6'])\n",
    "    jose_guesscount = []\n",
    "    jose_guesscount.append(jose1wins)\n",
    "    jose_guesscount.append(jose2wins)\n",
    "    jose_guesscount.append(jose3wins)\n",
    "    jose_guesscount.append(jose4wins)\n",
    "    jose_guesscount.append(jose5wins)\n",
    "    jose_guesscount.append(jose6wins)\n",
    "    jose_guesscount = jose_guesscount[::-1]\n",
    "\n"
   ]
  },
  {
   "cell_type": "code",
   "execution_count": 53,
   "id": "bdfc99e7-9e29-4ea1-802f-2ea1841e7d4e",
   "metadata": {},
   "outputs": [],
   "source": [
    "jose_guesscount2 = (jose_guesscount[::-1])\n",
    "jose_guesscount2.insert(0, 'HOEsay')"
   ]
  },
  {
   "cell_type": "code",
   "execution_count": 54,
   "id": "a899686f-3e8d-4ad5-b1d1-4d745a0dedd3",
   "metadata": {},
   "outputs": [
    {
     "data": {
      "text/plain": [
       "['HOEsay', 0, 3, 13, 17, 10, 5]"
      ]
     },
     "execution_count": 54,
     "metadata": {},
     "output_type": "execute_result"
    }
   ],
   "source": [
    "jose_guesscount2"
   ]
  },
  {
   "cell_type": "code",
   "execution_count": 58,
   "id": "3b29f1aa-9a73-41cc-90b3-f3190db8c072",
   "metadata": {},
   "outputs": [],
   "source": [
    "michaelSAV_guesscount2 = (michaelSAV_guesscount[::-1])\n",
    "michaelSAV_guesscount2.insert(0, 'Michael Michaelson')\n",
    "\n",
    "kell_guesscount2 = (kell_guesscount[::-1])\n",
    "kell_guesscount2.insert(0, 'Killa Kells')\n",
    "\n",
    "nick_guesscount2 = (nick_guesscount[::-1])\n",
    "nick_guesscount2.insert(0, 'Nick Cosby')\n",
    "\n",
    "jose_guesscount2 = (jose_guesscount[::-1])\n",
    "jose_guesscount2.insert(0, 'HOEsay')"
   ]
  },
  {
   "cell_type": "code",
   "execution_count": 59,
   "id": "f71cc9a7-4af5-4585-96e2-7d54b6dda222",
   "metadata": {},
   "outputs": [
    {
     "ename": "NameError",
     "evalue": "name 'grouped_xlabels' is not defined",
     "output_type": "error",
     "traceback": [
      "\u001b[0;31m---------------------------------------------------------------------------\u001b[0m",
      "\u001b[0;31mNameError\u001b[0m                                 Traceback (most recent call last)",
      "\u001b[0;32m/var/folders/xl/ftndz_9j3hn5ybffb6t5q42m0000gn/T/ipykernel_5989/2865693145.py\u001b[0m in \u001b[0;36m<module>\u001b[0;34m\u001b[0m\n\u001b[1;32m      2\u001b[0m                            \u001b[0;34m(\u001b[0m\u001b[0mkell_guesscount2\u001b[0m\u001b[0;34m)\u001b[0m\u001b[0;34m,\u001b[0m\u001b[0;34m\u001b[0m\u001b[0;34m\u001b[0m\u001b[0m\n\u001b[1;32m      3\u001b[0m                            \u001b[0;34m(\u001b[0m\u001b[0mnick_guesscount2\u001b[0m\u001b[0;34m)\u001b[0m\u001b[0;34m,\u001b[0m\u001b[0;34m\u001b[0m\u001b[0;34m\u001b[0m\u001b[0m\n\u001b[0;32m----> 4\u001b[0;31m                            (jose_guesscount2)], columns = grouped_xlabels)\n\u001b[0m\u001b[1;32m      5\u001b[0m \u001b[0;34m\u001b[0m\u001b[0m\n",
      "\u001b[0;31mNameError\u001b[0m: name 'grouped_xlabels' is not defined"
     ]
    }
   ],
   "source": [
    "sav_windf = pd.DataFrame([(michaelSAV_guesscount2),\n",
    "                           (kell_guesscount2),\n",
    "                           (nick_guesscount2),\n",
    "                           (jose_guesscount2)], columns = grouped_xlabels)\n",
    "\n"
   ]
  },
  {
   "cell_type": "markdown",
   "id": "db68e9b4-5aac-4437-a2eb-7970c37b366b",
   "metadata": {},
   "source": [
    "# seeing how to best display text counts on app"
   ]
  },
  {
   "cell_type": "code",
   "execution_count": 62,
   "id": "deb8f812-f053-45a8-a642-7e40eb1105bc",
   "metadata": {},
   "outputs": [
    {
     "data": {
      "text/plain": [
       "kell       2732\n",
       "d          2305\n",
       "drie       1675\n",
       "jose       1459\n",
       "michael    1305\n",
       "nick        632\n",
       "Name: player, dtype: int64"
      ]
     },
     "execution_count": 62,
     "metadata": {},
     "output_type": "execute_result"
    }
   ],
   "source": [
    "savagesdf.player.value_counts()"
   ]
  },
  {
   "cell_type": "code",
   "execution_count": 83,
   "id": "12840fd6-f57f-49f5-b028-e560504cd02e",
   "metadata": {},
   "outputs": [],
   "source": [
    "textdf = pd.DataFrame(savagesdf.player.value_counts())\n",
    "textdf.rename(columns = {'player':'texts'}, inplace = True)\n",
    "textdf.sort_values('texts', inplace = True)"
   ]
  },
  {
   "cell_type": "code",
   "execution_count": 74,
   "id": "c1bdec06-feae-430b-8849-db97ce810633",
   "metadata": {},
   "outputs": [
    {
     "data": {
      "text/plain": [
       "Index(['kell', 'd', 'drie', 'jose', 'michael', 'nick'], dtype='object')"
      ]
     },
     "execution_count": 74,
     "metadata": {},
     "output_type": "execute_result"
    }
   ],
   "source": [
    "textdf.index"
   ]
  },
  {
   "cell_type": "code",
   "execution_count": 64,
   "id": "e5f44e2a-b3e2-4aa2-84f5-314c515d9976",
   "metadata": {},
   "outputs": [],
   "source": [
    "import pandas as pd\n",
    "import numpy as np\n",
    "import streamlit as st\n",
    "import plotly.express as px\n",
    "import plotly.graph_objs as go\n",
    "import matplotlib.pyplot as plt\n",
    "from plotly import tools\n",
    "from plotly.subplots import make_subplots"
   ]
  },
  {
   "cell_type": "code",
   "execution_count": 113,
   "id": "aba5ac66-7b69-4bf2-b544-8a46e8ec9303",
   "metadata": {},
   "outputs": [
    {
     "ename": "ValueError",
     "evalue": "\n    Invalid value of type 'builtins.str' received for the 'color' property of bar.marker\n        Received value: 'Sunset'\n\n    The 'color' property is a color and may be specified as:\n      - A hex string (e.g. '#ff0000')\n      - An rgb/rgba string (e.g. 'rgb(255,0,0)')\n      - An hsl/hsla string (e.g. 'hsl(0,100%,50%)')\n      - An hsv/hsva string (e.g. 'hsv(0,100%,100%)')\n      - A named CSS color:\n            aliceblue, antiquewhite, aqua, aquamarine, azure,\n            beige, bisque, black, blanchedalmond, blue,\n            blueviolet, brown, burlywood, cadetblue,\n            chartreuse, chocolate, coral, cornflowerblue,\n            cornsilk, crimson, cyan, darkblue, darkcyan,\n            darkgoldenrod, darkgray, darkgrey, darkgreen,\n            darkkhaki, darkmagenta, darkolivegreen, darkorange,\n            darkorchid, darkred, darksalmon, darkseagreen,\n            darkslateblue, darkslategray, darkslategrey,\n            darkturquoise, darkviolet, deeppink, deepskyblue,\n            dimgray, dimgrey, dodgerblue, firebrick,\n            floralwhite, forestgreen, fuchsia, gainsboro,\n            ghostwhite, gold, goldenrod, gray, grey, green,\n            greenyellow, honeydew, hotpink, indianred, indigo,\n            ivory, khaki, lavender, lavenderblush, lawngreen,\n            lemonchiffon, lightblue, lightcoral, lightcyan,\n            lightgoldenrodyellow, lightgray, lightgrey,\n            lightgreen, lightpink, lightsalmon, lightseagreen,\n            lightskyblue, lightslategray, lightslategrey,\n            lightsteelblue, lightyellow, lime, limegreen,\n            linen, magenta, maroon, mediumaquamarine,\n            mediumblue, mediumorchid, mediumpurple,\n            mediumseagreen, mediumslateblue, mediumspringgreen,\n            mediumturquoise, mediumvioletred, midnightblue,\n            mintcream, mistyrose, moccasin, navajowhite, navy,\n            oldlace, olive, olivedrab, orange, orangered,\n            orchid, palegoldenrod, palegreen, paleturquoise,\n            palevioletred, papayawhip, peachpuff, peru, pink,\n            plum, powderblue, purple, red, rosybrown,\n            royalblue, rebeccapurple, saddlebrown, salmon,\n            sandybrown, seagreen, seashell, sienna, silver,\n            skyblue, slateblue, slategray, slategrey, snow,\n            springgreen, steelblue, tan, teal, thistle, tomato,\n            turquoise, violet, wheat, white, whitesmoke,\n            yellow, yellowgreen\n      - A number that will be interpreted as a color\n        according to bar.marker.colorscale\n      - A list or array of any of the above",
     "output_type": "error",
     "traceback": [
      "\u001b[0;31m---------------------------------------------------------------------------\u001b[0m",
      "\u001b[0;31mValueError\u001b[0m                                Traceback (most recent call last)",
      "\u001b[0;32m/var/folders/xl/ftndz_9j3hn5ybffb6t5q42m0000gn/T/ipykernel_5989/1711179119.py\u001b[0m in \u001b[0;36m<module>\u001b[0;34m\u001b[0m\n\u001b[1;32m      8\u001b[0m                                   'yanchor':'top'},\n\u001b[1;32m      9\u001b[0m                         title_font_size = 40)\n\u001b[0;32m---> 10\u001b[0;31m \u001b[0mtext_graph\u001b[0m\u001b[0;34m.\u001b[0m\u001b[0mupdate_traces\u001b[0m\u001b[0;34m(\u001b[0m\u001b[0mmarker\u001b[0m \u001b[0;34m=\u001b[0m \u001b[0;34m{\u001b[0m\u001b[0;34m'color'\u001b[0m\u001b[0;34m:\u001b[0m \u001b[0;34m'Sunset'\u001b[0m\u001b[0;34m}\u001b[0m\u001b[0;34m)\u001b[0m\u001b[0;34m\u001b[0m\u001b[0;34m\u001b[0m\u001b[0m\n\u001b[0m\u001b[1;32m     11\u001b[0m \u001b[0;34m\u001b[0m\u001b[0m\n",
      "\u001b[0;32m~/opt/anaconda3/envs/metis/lib/python3.8/site-packages/plotly/basedatatypes.py\u001b[0m in \u001b[0;36mupdate_traces\u001b[0;34m(self, patch, selector, row, col, secondary_y, overwrite, **kwargs)\u001b[0m\n\u001b[1;32m   1374\u001b[0m             \u001b[0mselector\u001b[0m\u001b[0;34m=\u001b[0m\u001b[0mselector\u001b[0m\u001b[0;34m,\u001b[0m \u001b[0mrow\u001b[0m\u001b[0;34m=\u001b[0m\u001b[0mrow\u001b[0m\u001b[0;34m,\u001b[0m \u001b[0mcol\u001b[0m\u001b[0;34m=\u001b[0m\u001b[0mcol\u001b[0m\u001b[0;34m,\u001b[0m \u001b[0msecondary_y\u001b[0m\u001b[0;34m=\u001b[0m\u001b[0msecondary_y\u001b[0m\u001b[0;34m\u001b[0m\u001b[0;34m\u001b[0m\u001b[0m\n\u001b[1;32m   1375\u001b[0m         ):\n\u001b[0;32m-> 1376\u001b[0;31m             \u001b[0mtrace\u001b[0m\u001b[0;34m.\u001b[0m\u001b[0mupdate\u001b[0m\u001b[0;34m(\u001b[0m\u001b[0mpatch\u001b[0m\u001b[0;34m,\u001b[0m \u001b[0moverwrite\u001b[0m\u001b[0;34m=\u001b[0m\u001b[0moverwrite\u001b[0m\u001b[0;34m,\u001b[0m \u001b[0;34m**\u001b[0m\u001b[0mkwargs\u001b[0m\u001b[0;34m)\u001b[0m\u001b[0;34m\u001b[0m\u001b[0;34m\u001b[0m\u001b[0m\n\u001b[0m\u001b[1;32m   1377\u001b[0m         \u001b[0;32mreturn\u001b[0m \u001b[0mself\u001b[0m\u001b[0;34m\u001b[0m\u001b[0;34m\u001b[0m\u001b[0m\n\u001b[1;32m   1378\u001b[0m \u001b[0;34m\u001b[0m\u001b[0m\n",
      "\u001b[0;32m~/opt/anaconda3/envs/metis/lib/python3.8/site-packages/plotly/basedatatypes.py\u001b[0m in \u001b[0;36mupdate\u001b[0;34m(self, dict1, overwrite, **kwargs)\u001b[0m\n\u001b[1;32m   5080\u001b[0m             \u001b[0;32mwith\u001b[0m \u001b[0mself\u001b[0m\u001b[0;34m.\u001b[0m\u001b[0mfigure\u001b[0m\u001b[0;34m.\u001b[0m\u001b[0mbatch_update\u001b[0m\u001b[0;34m(\u001b[0m\u001b[0;34m)\u001b[0m\u001b[0;34m:\u001b[0m\u001b[0;34m\u001b[0m\u001b[0;34m\u001b[0m\u001b[0m\n\u001b[1;32m   5081\u001b[0m                 \u001b[0mBaseFigure\u001b[0m\u001b[0;34m.\u001b[0m\u001b[0m_perform_update\u001b[0m\u001b[0;34m(\u001b[0m\u001b[0mself\u001b[0m\u001b[0;34m,\u001b[0m \u001b[0mdict1\u001b[0m\u001b[0;34m,\u001b[0m \u001b[0moverwrite\u001b[0m\u001b[0;34m=\u001b[0m\u001b[0moverwrite\u001b[0m\u001b[0;34m)\u001b[0m\u001b[0;34m\u001b[0m\u001b[0;34m\u001b[0m\u001b[0m\n\u001b[0;32m-> 5082\u001b[0;31m                 \u001b[0mBaseFigure\u001b[0m\u001b[0;34m.\u001b[0m\u001b[0m_perform_update\u001b[0m\u001b[0;34m(\u001b[0m\u001b[0mself\u001b[0m\u001b[0;34m,\u001b[0m \u001b[0mkwargs\u001b[0m\u001b[0;34m,\u001b[0m \u001b[0moverwrite\u001b[0m\u001b[0;34m=\u001b[0m\u001b[0moverwrite\u001b[0m\u001b[0;34m)\u001b[0m\u001b[0;34m\u001b[0m\u001b[0;34m\u001b[0m\u001b[0m\n\u001b[0m\u001b[1;32m   5083\u001b[0m         \u001b[0;32melse\u001b[0m\u001b[0;34m:\u001b[0m\u001b[0;34m\u001b[0m\u001b[0;34m\u001b[0m\u001b[0m\n\u001b[1;32m   5084\u001b[0m             \u001b[0mBaseFigure\u001b[0m\u001b[0;34m.\u001b[0m\u001b[0m_perform_update\u001b[0m\u001b[0;34m(\u001b[0m\u001b[0mself\u001b[0m\u001b[0;34m,\u001b[0m \u001b[0mdict1\u001b[0m\u001b[0;34m,\u001b[0m \u001b[0moverwrite\u001b[0m\u001b[0;34m=\u001b[0m\u001b[0moverwrite\u001b[0m\u001b[0;34m)\u001b[0m\u001b[0;34m\u001b[0m\u001b[0;34m\u001b[0m\u001b[0m\n",
      "\u001b[0;32m~/opt/anaconda3/envs/metis/lib/python3.8/site-packages/plotly/basedatatypes.py\u001b[0m in \u001b[0;36m_perform_update\u001b[0;34m(plotly_obj, update_obj, overwrite)\u001b[0m\n\u001b[1;32m   3898\u001b[0m                     \u001b[0;31m# Update compound objects recursively\u001b[0m\u001b[0;34m\u001b[0m\u001b[0;34m\u001b[0m\u001b[0;34m\u001b[0m\u001b[0m\n\u001b[1;32m   3899\u001b[0m                     \u001b[0;31m# plotly_obj[key].update(val)\u001b[0m\u001b[0;34m\u001b[0m\u001b[0;34m\u001b[0m\u001b[0;34m\u001b[0m\u001b[0m\n\u001b[0;32m-> 3900\u001b[0;31m                     \u001b[0mBaseFigure\u001b[0m\u001b[0;34m.\u001b[0m\u001b[0m_perform_update\u001b[0m\u001b[0;34m(\u001b[0m\u001b[0mplotly_obj\u001b[0m\u001b[0;34m[\u001b[0m\u001b[0mkey\u001b[0m\u001b[0;34m]\u001b[0m\u001b[0;34m,\u001b[0m \u001b[0mval\u001b[0m\u001b[0;34m)\u001b[0m\u001b[0;34m\u001b[0m\u001b[0;34m\u001b[0m\u001b[0m\n\u001b[0m\u001b[1;32m   3901\u001b[0m                 \u001b[0;32melif\u001b[0m \u001b[0misinstance\u001b[0m\u001b[0;34m(\u001b[0m\u001b[0mvalidator\u001b[0m\u001b[0;34m,\u001b[0m \u001b[0mCompoundArrayValidator\u001b[0m\u001b[0;34m)\u001b[0m\u001b[0;34m:\u001b[0m\u001b[0;34m\u001b[0m\u001b[0;34m\u001b[0m\u001b[0m\n\u001b[1;32m   3902\u001b[0m                     \u001b[0;32mif\u001b[0m \u001b[0mplotly_obj\u001b[0m\u001b[0;34m[\u001b[0m\u001b[0mkey\u001b[0m\u001b[0;34m]\u001b[0m\u001b[0;34m:\u001b[0m\u001b[0;34m\u001b[0m\u001b[0;34m\u001b[0m\u001b[0m\n",
      "\u001b[0;32m~/opt/anaconda3/envs/metis/lib/python3.8/site-packages/plotly/basedatatypes.py\u001b[0m in \u001b[0;36m_perform_update\u001b[0;34m(plotly_obj, update_obj, overwrite)\u001b[0m\n\u001b[1;32m   3919\u001b[0m                 \u001b[0;32melse\u001b[0m\u001b[0;34m:\u001b[0m\u001b[0;34m\u001b[0m\u001b[0;34m\u001b[0m\u001b[0m\n\u001b[1;32m   3920\u001b[0m                     \u001b[0;31m# Assign non-compound value\u001b[0m\u001b[0;34m\u001b[0m\u001b[0;34m\u001b[0m\u001b[0;34m\u001b[0m\u001b[0m\n\u001b[0;32m-> 3921\u001b[0;31m                     \u001b[0mplotly_obj\u001b[0m\u001b[0;34m[\u001b[0m\u001b[0mkey\u001b[0m\u001b[0;34m]\u001b[0m \u001b[0;34m=\u001b[0m \u001b[0mval\u001b[0m\u001b[0;34m\u001b[0m\u001b[0;34m\u001b[0m\u001b[0m\n\u001b[0m\u001b[1;32m   3922\u001b[0m \u001b[0;34m\u001b[0m\u001b[0m\n\u001b[1;32m   3923\u001b[0m         \u001b[0;32melif\u001b[0m \u001b[0misinstance\u001b[0m\u001b[0;34m(\u001b[0m\u001b[0mplotly_obj\u001b[0m\u001b[0;34m,\u001b[0m \u001b[0mtuple\u001b[0m\u001b[0;34m)\u001b[0m\u001b[0;34m:\u001b[0m\u001b[0;34m\u001b[0m\u001b[0;34m\u001b[0m\u001b[0m\n",
      "\u001b[0;32m~/opt/anaconda3/envs/metis/lib/python3.8/site-packages/plotly/basedatatypes.py\u001b[0m in \u001b[0;36m__setitem__\u001b[0;34m(self, prop, value)\u001b[0m\n\u001b[1;32m   4817\u001b[0m                 \u001b[0;31m# ### Handle simple property ###\u001b[0m\u001b[0;34m\u001b[0m\u001b[0;34m\u001b[0m\u001b[0;34m\u001b[0m\u001b[0m\n\u001b[1;32m   4818\u001b[0m                 \u001b[0;32melse\u001b[0m\u001b[0;34m:\u001b[0m\u001b[0;34m\u001b[0m\u001b[0;34m\u001b[0m\u001b[0m\n\u001b[0;32m-> 4819\u001b[0;31m                     \u001b[0mself\u001b[0m\u001b[0;34m.\u001b[0m\u001b[0m_set_prop\u001b[0m\u001b[0;34m(\u001b[0m\u001b[0mprop\u001b[0m\u001b[0;34m,\u001b[0m \u001b[0mvalue\u001b[0m\u001b[0;34m)\u001b[0m\u001b[0;34m\u001b[0m\u001b[0;34m\u001b[0m\u001b[0m\n\u001b[0m\u001b[1;32m   4820\u001b[0m             \u001b[0;32melse\u001b[0m\u001b[0;34m:\u001b[0m\u001b[0;34m\u001b[0m\u001b[0;34m\u001b[0m\u001b[0m\n\u001b[1;32m   4821\u001b[0m                 \u001b[0;31m# Make sure properties dict is initialized\u001b[0m\u001b[0;34m\u001b[0m\u001b[0;34m\u001b[0m\u001b[0;34m\u001b[0m\u001b[0m\n",
      "\u001b[0;32m~/opt/anaconda3/envs/metis/lib/python3.8/site-packages/plotly/basedatatypes.py\u001b[0m in \u001b[0;36m_set_prop\u001b[0;34m(self, prop, val)\u001b[0m\n\u001b[1;32m   5161\u001b[0m                 \u001b[0;32mreturn\u001b[0m\u001b[0;34m\u001b[0m\u001b[0;34m\u001b[0m\u001b[0m\n\u001b[1;32m   5162\u001b[0m             \u001b[0;32melse\u001b[0m\u001b[0;34m:\u001b[0m\u001b[0;34m\u001b[0m\u001b[0;34m\u001b[0m\u001b[0m\n\u001b[0;32m-> 5163\u001b[0;31m                 \u001b[0;32mraise\u001b[0m \u001b[0merr\u001b[0m\u001b[0;34m\u001b[0m\u001b[0;34m\u001b[0m\u001b[0m\n\u001b[0m\u001b[1;32m   5164\u001b[0m \u001b[0;34m\u001b[0m\u001b[0m\n\u001b[1;32m   5165\u001b[0m         \u001b[0;31m# val is None\u001b[0m\u001b[0;34m\u001b[0m\u001b[0;34m\u001b[0m\u001b[0;34m\u001b[0m\u001b[0m\n",
      "\u001b[0;32m~/opt/anaconda3/envs/metis/lib/python3.8/site-packages/plotly/basedatatypes.py\u001b[0m in \u001b[0;36m_set_prop\u001b[0;34m(self, prop, val)\u001b[0m\n\u001b[1;32m   5156\u001b[0m \u001b[0;34m\u001b[0m\u001b[0m\n\u001b[1;32m   5157\u001b[0m         \u001b[0;32mtry\u001b[0m\u001b[0;34m:\u001b[0m\u001b[0;34m\u001b[0m\u001b[0;34m\u001b[0m\u001b[0m\n\u001b[0;32m-> 5158\u001b[0;31m             \u001b[0mval\u001b[0m \u001b[0;34m=\u001b[0m \u001b[0mvalidator\u001b[0m\u001b[0;34m.\u001b[0m\u001b[0mvalidate_coerce\u001b[0m\u001b[0;34m(\u001b[0m\u001b[0mval\u001b[0m\u001b[0;34m)\u001b[0m\u001b[0;34m\u001b[0m\u001b[0;34m\u001b[0m\u001b[0m\n\u001b[0m\u001b[1;32m   5159\u001b[0m         \u001b[0;32mexcept\u001b[0m \u001b[0mValueError\u001b[0m \u001b[0;32mas\u001b[0m \u001b[0merr\u001b[0m\u001b[0;34m:\u001b[0m\u001b[0;34m\u001b[0m\u001b[0;34m\u001b[0m\u001b[0m\n\u001b[1;32m   5160\u001b[0m             \u001b[0;32mif\u001b[0m \u001b[0mself\u001b[0m\u001b[0;34m.\u001b[0m\u001b[0m_skip_invalid\u001b[0m\u001b[0;34m:\u001b[0m\u001b[0;34m\u001b[0m\u001b[0;34m\u001b[0m\u001b[0m\n",
      "\u001b[0;32m~/opt/anaconda3/envs/metis/lib/python3.8/site-packages/_plotly_utils/basevalidators.py\u001b[0m in \u001b[0;36mvalidate_coerce\u001b[0;34m(self, v, should_raise)\u001b[0m\n\u001b[1;32m   1367\u001b[0m             \u001b[0mvalidated_v\u001b[0m \u001b[0;34m=\u001b[0m \u001b[0mself\u001b[0m\u001b[0;34m.\u001b[0m\u001b[0mvc_scalar\u001b[0m\u001b[0;34m(\u001b[0m\u001b[0mv\u001b[0m\u001b[0;34m)\u001b[0m\u001b[0;34m\u001b[0m\u001b[0;34m\u001b[0m\u001b[0m\n\u001b[1;32m   1368\u001b[0m             \u001b[0;32mif\u001b[0m \u001b[0mvalidated_v\u001b[0m \u001b[0;32mis\u001b[0m \u001b[0;32mNone\u001b[0m \u001b[0;32mand\u001b[0m \u001b[0mshould_raise\u001b[0m\u001b[0;34m:\u001b[0m\u001b[0;34m\u001b[0m\u001b[0;34m\u001b[0m\u001b[0m\n\u001b[0;32m-> 1369\u001b[0;31m                 \u001b[0mself\u001b[0m\u001b[0;34m.\u001b[0m\u001b[0mraise_invalid_val\u001b[0m\u001b[0;34m(\u001b[0m\u001b[0mv\u001b[0m\u001b[0;34m)\u001b[0m\u001b[0;34m\u001b[0m\u001b[0;34m\u001b[0m\u001b[0m\n\u001b[0m\u001b[1;32m   1370\u001b[0m \u001b[0;34m\u001b[0m\u001b[0m\n\u001b[1;32m   1371\u001b[0m             \u001b[0mv\u001b[0m \u001b[0;34m=\u001b[0m \u001b[0mvalidated_v\u001b[0m\u001b[0;34m\u001b[0m\u001b[0;34m\u001b[0m\u001b[0m\n",
      "\u001b[0;32m~/opt/anaconda3/envs/metis/lib/python3.8/site-packages/_plotly_utils/basevalidators.py\u001b[0m in \u001b[0;36mraise_invalid_val\u001b[0;34m(self, v, inds)\u001b[0m\n\u001b[1;32m    288\u001b[0m                 \u001b[0mname\u001b[0m \u001b[0;34m+=\u001b[0m \u001b[0;34m\"[\"\u001b[0m \u001b[0;34m+\u001b[0m \u001b[0mstr\u001b[0m\u001b[0;34m(\u001b[0m\u001b[0mi\u001b[0m\u001b[0;34m)\u001b[0m \u001b[0;34m+\u001b[0m \u001b[0;34m\"]\"\u001b[0m\u001b[0;34m\u001b[0m\u001b[0;34m\u001b[0m\u001b[0m\n\u001b[1;32m    289\u001b[0m \u001b[0;34m\u001b[0m\u001b[0m\n\u001b[0;32m--> 290\u001b[0;31m         raise ValueError(\n\u001b[0m\u001b[1;32m    291\u001b[0m             \"\"\"\n\u001b[1;32m    292\u001b[0m     \u001b[0mInvalid\u001b[0m \u001b[0mvalue\u001b[0m \u001b[0mof\u001b[0m \u001b[0mtype\u001b[0m \u001b[0;34m{\u001b[0m\u001b[0mtyp\u001b[0m\u001b[0;34m}\u001b[0m \u001b[0mreceived\u001b[0m \u001b[0;32mfor\u001b[0m \u001b[0mthe\u001b[0m \u001b[0;34m'{name}'\u001b[0m \u001b[0mproperty\u001b[0m \u001b[0mof\u001b[0m \u001b[0;34m{\u001b[0m\u001b[0mpname\u001b[0m\u001b[0;34m}\u001b[0m\u001b[0;34m\u001b[0m\u001b[0;34m\u001b[0m\u001b[0m\n",
      "\u001b[0;31mValueError\u001b[0m: \n    Invalid value of type 'builtins.str' received for the 'color' property of bar.marker\n        Received value: 'Sunset'\n\n    The 'color' property is a color and may be specified as:\n      - A hex string (e.g. '#ff0000')\n      - An rgb/rgba string (e.g. 'rgb(255,0,0)')\n      - An hsl/hsla string (e.g. 'hsl(0,100%,50%)')\n      - An hsv/hsva string (e.g. 'hsv(0,100%,100%)')\n      - A named CSS color:\n            aliceblue, antiquewhite, aqua, aquamarine, azure,\n            beige, bisque, black, blanchedalmond, blue,\n            blueviolet, brown, burlywood, cadetblue,\n            chartreuse, chocolate, coral, cornflowerblue,\n            cornsilk, crimson, cyan, darkblue, darkcyan,\n            darkgoldenrod, darkgray, darkgrey, darkgreen,\n            darkkhaki, darkmagenta, darkolivegreen, darkorange,\n            darkorchid, darkred, darksalmon, darkseagreen,\n            darkslateblue, darkslategray, darkslategrey,\n            darkturquoise, darkviolet, deeppink, deepskyblue,\n            dimgray, dimgrey, dodgerblue, firebrick,\n            floralwhite, forestgreen, fuchsia, gainsboro,\n            ghostwhite, gold, goldenrod, gray, grey, green,\n            greenyellow, honeydew, hotpink, indianred, indigo,\n            ivory, khaki, lavender, lavenderblush, lawngreen,\n            lemonchiffon, lightblue, lightcoral, lightcyan,\n            lightgoldenrodyellow, lightgray, lightgrey,\n            lightgreen, lightpink, lightsalmon, lightseagreen,\n            lightskyblue, lightslategray, lightslategrey,\n            lightsteelblue, lightyellow, lime, limegreen,\n            linen, magenta, maroon, mediumaquamarine,\n            mediumblue, mediumorchid, mediumpurple,\n            mediumseagreen, mediumslateblue, mediumspringgreen,\n            mediumturquoise, mediumvioletred, midnightblue,\n            mintcream, mistyrose, moccasin, navajowhite, navy,\n            oldlace, olive, olivedrab, orange, orangered,\n            orchid, palegoldenrod, palegreen, paleturquoise,\n            palevioletred, papayawhip, peachpuff, peru, pink,\n            plum, powderblue, purple, red, rosybrown,\n            royalblue, rebeccapurple, saddlebrown, salmon,\n            sandybrown, seagreen, seashell, sienna, silver,\n            skyblue, slateblue, slategray, slategrey, snow,\n            springgreen, steelblue, tan, teal, thistle, tomato,\n            turquoise, violet, wheat, white, whitesmoke,\n            yellow, yellowgreen\n      - A number that will be interpreted as a color\n        according to bar.marker.colorscale\n      - A list or array of any of the above"
     ]
    }
   ],
   "source": [
    "text_graph = px.bar(x = textdf.texts, y = textdf.index, orientation = 'h',\n",
    "                   labels = {'x':'Number of Texts', 'y':'Savage'}, text = textdf.texts,\n",
    "                   color_discrete_sequence= px.colors.diverging.Picnic)\n",
    "text_graph.update_layout(title = {'text':'Number of Texts Sent',\n",
    "                                  'y': .92,\n",
    "                                  'x': .5,\n",
    "                                  'xanchor':'center',\n",
    "                                  'yanchor':'top'},\n",
    "                        title_font_size = 40)\n",
    "text_graph.update_traces(marker = {'color': 'Sunset'})\n",
    "\n"
   ]
  },
  {
   "cell_type": "code",
   "execution_count": 91,
   "id": "0408f865-72da-479d-baaf-fd6389197e0b",
   "metadata": {},
   "outputs": [
    {
     "data": {
      "application/vnd.plotly.v1+json": {
       "config": {
        "plotlyServerURL": "https://plot.ly"
       },
       "data": [
        {
         "alignmentgroup": "True",
         "hovertemplate": "Number of Texts=%{x}<br>Savage=%{y}<br>text=%{text}<extra></extra>",
         "legendgroup": "",
         "marker": {
          "color": "#636efa",
          "pattern": {
           "shape": ""
          }
         },
         "name": "",
         "offsetgroup": "",
         "orientation": "h",
         "showlegend": false,
         "text": [
          "632",
          "1305",
          "1459",
          "1675",
          "2305",
          "2732"
         ],
         "textposition": "auto",
         "type": "bar",
         "x": [
          632,
          1305,
          1459,
          1675,
          2305,
          2732
         ],
         "xaxis": "x",
         "y": [
          "nick",
          "michael",
          "jose",
          "drie",
          "d",
          "kell"
         ],
         "yaxis": "y"
        }
       ],
       "layout": {
        "autosize": true,
        "barmode": "relative",
        "legend": {
         "tracegroupgap": 0
        },
        "margin": {
         "t": 60
        },
        "template": {
         "data": {
          "bar": [
           {
            "error_x": {
             "color": "#2a3f5f"
            },
            "error_y": {
             "color": "#2a3f5f"
            },
            "marker": {
             "line": {
              "color": "#E5ECF6",
              "width": 0.5
             },
             "pattern": {
              "fillmode": "overlay",
              "size": 10,
              "solidity": 0.2
             }
            },
            "type": "bar"
           }
          ],
          "barpolar": [
           {
            "marker": {
             "line": {
              "color": "#E5ECF6",
              "width": 0.5
             },
             "pattern": {
              "fillmode": "overlay",
              "size": 10,
              "solidity": 0.2
             }
            },
            "type": "barpolar"
           }
          ],
          "carpet": [
           {
            "aaxis": {
             "endlinecolor": "#2a3f5f",
             "gridcolor": "white",
             "linecolor": "white",
             "minorgridcolor": "white",
             "startlinecolor": "#2a3f5f"
            },
            "baxis": {
             "endlinecolor": "#2a3f5f",
             "gridcolor": "white",
             "linecolor": "white",
             "minorgridcolor": "white",
             "startlinecolor": "#2a3f5f"
            },
            "type": "carpet"
           }
          ],
          "choropleth": [
           {
            "colorbar": {
             "outlinewidth": 0,
             "ticks": ""
            },
            "type": "choropleth"
           }
          ],
          "contour": [
           {
            "colorbar": {
             "outlinewidth": 0,
             "ticks": ""
            },
            "colorscale": [
             [
              0,
              "#0d0887"
             ],
             [
              0.1111111111111111,
              "#46039f"
             ],
             [
              0.2222222222222222,
              "#7201a8"
             ],
             [
              0.3333333333333333,
              "#9c179e"
             ],
             [
              0.4444444444444444,
              "#bd3786"
             ],
             [
              0.5555555555555556,
              "#d8576b"
             ],
             [
              0.6666666666666666,
              "#ed7953"
             ],
             [
              0.7777777777777778,
              "#fb9f3a"
             ],
             [
              0.8888888888888888,
              "#fdca26"
             ],
             [
              1,
              "#f0f921"
             ]
            ],
            "type": "contour"
           }
          ],
          "contourcarpet": [
           {
            "colorbar": {
             "outlinewidth": 0,
             "ticks": ""
            },
            "type": "contourcarpet"
           }
          ],
          "heatmap": [
           {
            "colorbar": {
             "outlinewidth": 0,
             "ticks": ""
            },
            "colorscale": [
             [
              0,
              "#0d0887"
             ],
             [
              0.1111111111111111,
              "#46039f"
             ],
             [
              0.2222222222222222,
              "#7201a8"
             ],
             [
              0.3333333333333333,
              "#9c179e"
             ],
             [
              0.4444444444444444,
              "#bd3786"
             ],
             [
              0.5555555555555556,
              "#d8576b"
             ],
             [
              0.6666666666666666,
              "#ed7953"
             ],
             [
              0.7777777777777778,
              "#fb9f3a"
             ],
             [
              0.8888888888888888,
              "#fdca26"
             ],
             [
              1,
              "#f0f921"
             ]
            ],
            "type": "heatmap"
           }
          ],
          "heatmapgl": [
           {
            "colorbar": {
             "outlinewidth": 0,
             "ticks": ""
            },
            "colorscale": [
             [
              0,
              "#0d0887"
             ],
             [
              0.1111111111111111,
              "#46039f"
             ],
             [
              0.2222222222222222,
              "#7201a8"
             ],
             [
              0.3333333333333333,
              "#9c179e"
             ],
             [
              0.4444444444444444,
              "#bd3786"
             ],
             [
              0.5555555555555556,
              "#d8576b"
             ],
             [
              0.6666666666666666,
              "#ed7953"
             ],
             [
              0.7777777777777778,
              "#fb9f3a"
             ],
             [
              0.8888888888888888,
              "#fdca26"
             ],
             [
              1,
              "#f0f921"
             ]
            ],
            "type": "heatmapgl"
           }
          ],
          "histogram": [
           {
            "marker": {
             "pattern": {
              "fillmode": "overlay",
              "size": 10,
              "solidity": 0.2
             }
            },
            "type": "histogram"
           }
          ],
          "histogram2d": [
           {
            "colorbar": {
             "outlinewidth": 0,
             "ticks": ""
            },
            "colorscale": [
             [
              0,
              "#0d0887"
             ],
             [
              0.1111111111111111,
              "#46039f"
             ],
             [
              0.2222222222222222,
              "#7201a8"
             ],
             [
              0.3333333333333333,
              "#9c179e"
             ],
             [
              0.4444444444444444,
              "#bd3786"
             ],
             [
              0.5555555555555556,
              "#d8576b"
             ],
             [
              0.6666666666666666,
              "#ed7953"
             ],
             [
              0.7777777777777778,
              "#fb9f3a"
             ],
             [
              0.8888888888888888,
              "#fdca26"
             ],
             [
              1,
              "#f0f921"
             ]
            ],
            "type": "histogram2d"
           }
          ],
          "histogram2dcontour": [
           {
            "colorbar": {
             "outlinewidth": 0,
             "ticks": ""
            },
            "colorscale": [
             [
              0,
              "#0d0887"
             ],
             [
              0.1111111111111111,
              "#46039f"
             ],
             [
              0.2222222222222222,
              "#7201a8"
             ],
             [
              0.3333333333333333,
              "#9c179e"
             ],
             [
              0.4444444444444444,
              "#bd3786"
             ],
             [
              0.5555555555555556,
              "#d8576b"
             ],
             [
              0.6666666666666666,
              "#ed7953"
             ],
             [
              0.7777777777777778,
              "#fb9f3a"
             ],
             [
              0.8888888888888888,
              "#fdca26"
             ],
             [
              1,
              "#f0f921"
             ]
            ],
            "type": "histogram2dcontour"
           }
          ],
          "mesh3d": [
           {
            "colorbar": {
             "outlinewidth": 0,
             "ticks": ""
            },
            "type": "mesh3d"
           }
          ],
          "parcoords": [
           {
            "line": {
             "colorbar": {
              "outlinewidth": 0,
              "ticks": ""
             }
            },
            "type": "parcoords"
           }
          ],
          "pie": [
           {
            "automargin": true,
            "type": "pie"
           }
          ],
          "scatter": [
           {
            "marker": {
             "colorbar": {
              "outlinewidth": 0,
              "ticks": ""
             }
            },
            "type": "scatter"
           }
          ],
          "scatter3d": [
           {
            "line": {
             "colorbar": {
              "outlinewidth": 0,
              "ticks": ""
             }
            },
            "marker": {
             "colorbar": {
              "outlinewidth": 0,
              "ticks": ""
             }
            },
            "type": "scatter3d"
           }
          ],
          "scattercarpet": [
           {
            "marker": {
             "colorbar": {
              "outlinewidth": 0,
              "ticks": ""
             }
            },
            "type": "scattercarpet"
           }
          ],
          "scattergeo": [
           {
            "marker": {
             "colorbar": {
              "outlinewidth": 0,
              "ticks": ""
             }
            },
            "type": "scattergeo"
           }
          ],
          "scattergl": [
           {
            "marker": {
             "colorbar": {
              "outlinewidth": 0,
              "ticks": ""
             }
            },
            "type": "scattergl"
           }
          ],
          "scattermapbox": [
           {
            "marker": {
             "colorbar": {
              "outlinewidth": 0,
              "ticks": ""
             }
            },
            "type": "scattermapbox"
           }
          ],
          "scatterpolar": [
           {
            "marker": {
             "colorbar": {
              "outlinewidth": 0,
              "ticks": ""
             }
            },
            "type": "scatterpolar"
           }
          ],
          "scatterpolargl": [
           {
            "marker": {
             "colorbar": {
              "outlinewidth": 0,
              "ticks": ""
             }
            },
            "type": "scatterpolargl"
           }
          ],
          "scatterternary": [
           {
            "marker": {
             "colorbar": {
              "outlinewidth": 0,
              "ticks": ""
             }
            },
            "type": "scatterternary"
           }
          ],
          "surface": [
           {
            "colorbar": {
             "outlinewidth": 0,
             "ticks": ""
            },
            "colorscale": [
             [
              0,
              "#0d0887"
             ],
             [
              0.1111111111111111,
              "#46039f"
             ],
             [
              0.2222222222222222,
              "#7201a8"
             ],
             [
              0.3333333333333333,
              "#9c179e"
             ],
             [
              0.4444444444444444,
              "#bd3786"
             ],
             [
              0.5555555555555556,
              "#d8576b"
             ],
             [
              0.6666666666666666,
              "#ed7953"
             ],
             [
              0.7777777777777778,
              "#fb9f3a"
             ],
             [
              0.8888888888888888,
              "#fdca26"
             ],
             [
              1,
              "#f0f921"
             ]
            ],
            "type": "surface"
           }
          ],
          "table": [
           {
            "cells": {
             "fill": {
              "color": "#EBF0F8"
             },
             "line": {
              "color": "white"
             }
            },
            "header": {
             "fill": {
              "color": "#C8D4E3"
             },
             "line": {
              "color": "white"
             }
            },
            "type": "table"
           }
          ]
         },
         "layout": {
          "annotationdefaults": {
           "arrowcolor": "#2a3f5f",
           "arrowhead": 0,
           "arrowwidth": 1
          },
          "autotypenumbers": "strict",
          "coloraxis": {
           "colorbar": {
            "outlinewidth": 0,
            "ticks": ""
           }
          },
          "colorscale": {
           "diverging": [
            [
             0,
             "#8e0152"
            ],
            [
             0.1,
             "#c51b7d"
            ],
            [
             0.2,
             "#de77ae"
            ],
            [
             0.3,
             "#f1b6da"
            ],
            [
             0.4,
             "#fde0ef"
            ],
            [
             0.5,
             "#f7f7f7"
            ],
            [
             0.6,
             "#e6f5d0"
            ],
            [
             0.7,
             "#b8e186"
            ],
            [
             0.8,
             "#7fbc41"
            ],
            [
             0.9,
             "#4d9221"
            ],
            [
             1,
             "#276419"
            ]
           ],
           "sequential": [
            [
             0,
             "#0d0887"
            ],
            [
             0.1111111111111111,
             "#46039f"
            ],
            [
             0.2222222222222222,
             "#7201a8"
            ],
            [
             0.3333333333333333,
             "#9c179e"
            ],
            [
             0.4444444444444444,
             "#bd3786"
            ],
            [
             0.5555555555555556,
             "#d8576b"
            ],
            [
             0.6666666666666666,
             "#ed7953"
            ],
            [
             0.7777777777777778,
             "#fb9f3a"
            ],
            [
             0.8888888888888888,
             "#fdca26"
            ],
            [
             1,
             "#f0f921"
            ]
           ],
           "sequentialminus": [
            [
             0,
             "#0d0887"
            ],
            [
             0.1111111111111111,
             "#46039f"
            ],
            [
             0.2222222222222222,
             "#7201a8"
            ],
            [
             0.3333333333333333,
             "#9c179e"
            ],
            [
             0.4444444444444444,
             "#bd3786"
            ],
            [
             0.5555555555555556,
             "#d8576b"
            ],
            [
             0.6666666666666666,
             "#ed7953"
            ],
            [
             0.7777777777777778,
             "#fb9f3a"
            ],
            [
             0.8888888888888888,
             "#fdca26"
            ],
            [
             1,
             "#f0f921"
            ]
           ]
          },
          "colorway": [
           "#636efa",
           "#EF553B",
           "#00cc96",
           "#ab63fa",
           "#FFA15A",
           "#19d3f3",
           "#FF6692",
           "#B6E880",
           "#FF97FF",
           "#FECB52"
          ],
          "font": {
           "color": "#2a3f5f"
          },
          "geo": {
           "bgcolor": "white",
           "lakecolor": "white",
           "landcolor": "#E5ECF6",
           "showlakes": true,
           "showland": true,
           "subunitcolor": "white"
          },
          "hoverlabel": {
           "align": "left"
          },
          "hovermode": "closest",
          "mapbox": {
           "style": "light"
          },
          "paper_bgcolor": "white",
          "plot_bgcolor": "#E5ECF6",
          "polar": {
           "angularaxis": {
            "gridcolor": "white",
            "linecolor": "white",
            "ticks": ""
           },
           "bgcolor": "#E5ECF6",
           "radialaxis": {
            "gridcolor": "white",
            "linecolor": "white",
            "ticks": ""
           }
          },
          "scene": {
           "xaxis": {
            "backgroundcolor": "#E5ECF6",
            "gridcolor": "white",
            "gridwidth": 2,
            "linecolor": "white",
            "showbackground": true,
            "ticks": "",
            "zerolinecolor": "white"
           },
           "yaxis": {
            "backgroundcolor": "#E5ECF6",
            "gridcolor": "white",
            "gridwidth": 2,
            "linecolor": "white",
            "showbackground": true,
            "ticks": "",
            "zerolinecolor": "white"
           },
           "zaxis": {
            "backgroundcolor": "#E5ECF6",
            "gridcolor": "white",
            "gridwidth": 2,
            "linecolor": "white",
            "showbackground": true,
            "ticks": "",
            "zerolinecolor": "white"
           }
          },
          "shapedefaults": {
           "line": {
            "color": "#2a3f5f"
           }
          },
          "ternary": {
           "aaxis": {
            "gridcolor": "white",
            "linecolor": "white",
            "ticks": ""
           },
           "baxis": {
            "gridcolor": "white",
            "linecolor": "white",
            "ticks": ""
           },
           "bgcolor": "#E5ECF6",
           "caxis": {
            "gridcolor": "white",
            "linecolor": "white",
            "ticks": ""
           }
          },
          "title": {
           "x": 0.05
          },
          "xaxis": {
           "automargin": true,
           "gridcolor": "white",
           "linecolor": "white",
           "ticks": "",
           "title": {
            "standoff": 15
           },
           "zerolinecolor": "white",
           "zerolinewidth": 2
          },
          "yaxis": {
           "automargin": true,
           "gridcolor": "white",
           "linecolor": "white",
           "ticks": "",
           "title": {
            "standoff": 15
           },
           "zerolinecolor": "white",
           "zerolinewidth": 2
          }
         }
        },
        "xaxis": {
         "anchor": "y",
         "autorange": true,
         "domain": [
          0,
          1
         ],
         "range": [
          0,
          2875.7894736842104
         ],
         "title": {
          "text": "Number of Texts"
         },
         "type": "linear"
        },
        "yaxis": {
         "anchor": "x",
         "autorange": true,
         "domain": [
          0,
          1
         ],
         "range": [
          -0.5,
          5.5
         ],
         "title": {
          "text": "Savage"
         },
         "type": "category"
        }
       }
      },
      "image/png": "[encoded data removed]",
      "text/html": [
       "<div>                            <div id=\"618cb82c-2593-4fcf-ba05-54ec51dff73d\" class=\"plotly-graph-div\" style=\"height:525px; width:100%;\"></div>            <script type=\"text/javascript\">                require([\"plotly\"], function(Plotly) {                    window.PLOTLYENV=window.PLOTLYENV || {};                                    if (document.getElementById(\"618cb82c-2593-4fcf-ba05-54ec51dff73d\")) {                    Plotly.newPlot(                        \"618cb82c-2593-4fcf-ba05-54ec51dff73d\",                        [{\"alignmentgroup\":\"True\",\"hovertemplate\":\"Number of Texts=%{x}<br>Savage=%{y}<br>text=%{text}<extra></extra>\",\"legendgroup\":\"\",\"marker\":{\"color\":\"#636efa\",\"pattern\":{\"shape\":\"\"}},\"name\":\"\",\"offsetgroup\":\"\",\"orientation\":\"h\",\"showlegend\":false,\"text\":[\"632\",\"1305\",\"1459\",\"1675\",\"2305\",\"2732\"],\"textposition\":\"auto\",\"type\":\"bar\",\"x\":[632,1305,1459,1675,2305,2732],\"xaxis\":\"x\",\"y\":[\"nick\",\"michael\",\"jose\",\"drie\",\"d\",\"kell\"],\"yaxis\":\"y\"}],                        {\"barmode\":\"relative\",\"legend\":{\"tracegroupgap\":0},\"margin\":{\"t\":60},\"template\":{\"data\":{\"bar\":[{\"error_x\":{\"color\":\"#2a3f5f\"},\"error_y\":{\"color\":\"#2a3f5f\"},\"marker\":{\"line\":{\"color\":\"#E5ECF6\",\"width\":0.5},\"pattern\":{\"fillmode\":\"overlay\",\"size\":10,\"solidity\":0.2}},\"type\":\"bar\"}],\"barpolar\":[{\"marker\":{\"line\":{\"color\":\"#E5ECF6\",\"width\":0.5},\"pattern\":{\"fillmode\":\"overlay\",\"size\":10,\"solidity\":0.2}},\"type\":\"barpolar\"}],\"carpet\":[{\"aaxis\":{\"endlinecolor\":\"#2a3f5f\",\"gridcolor\":\"white\",\"linecolor\":\"white\",\"minorgridcolor\":\"white\",\"startlinecolor\":\"#2a3f5f\"},\"baxis\":{\"endlinecolor\":\"#2a3f5f\",\"gridcolor\":\"white\",\"linecolor\":\"white\",\"minorgridcolor\":\"white\",\"startlinecolor\":\"#2a3f5f\"},\"type\":\"carpet\"}],\"choropleth\":[{\"colorbar\":{\"outlinewidth\":0,\"ticks\":\"\"},\"type\":\"choropleth\"}],\"contour\":[{\"colorbar\":{\"outlinewidth\":0,\"ticks\":\"\"},\"colorscale\":[[0.0,\"#0d0887\"],[0.1111111111111111,\"#46039f\"],[0.2222222222222222,\"#7201a8\"],[0.3333333333333333,\"#9c179e\"],[0.4444444444444444,\"#bd3786\"],[0.5555555555555556,\"#d8576b\"],[0.6666666666666666,\"#ed7953\"],[0.7777777777777778,\"#fb9f3a\"],[0.8888888888888888,\"#fdca26\"],[1.0,\"#f0f921\"]],\"type\":\"contour\"}],\"contourcarpet\":[{\"colorbar\":{\"outlinewidth\":0,\"ticks\":\"\"},\"type\":\"contourcarpet\"}],\"heatmap\":[{\"colorbar\":{\"outlinewidth\":0,\"ticks\":\"\"},\"colorscale\":[[0.0,\"#0d0887\"],[0.1111111111111111,\"#46039f\"],[0.2222222222222222,\"#7201a8\"],[0.3333333333333333,\"#9c179e\"],[0.4444444444444444,\"#bd3786\"],[0.5555555555555556,\"#d8576b\"],[0.6666666666666666,\"#ed7953\"],[0.7777777777777778,\"#fb9f3a\"],[0.8888888888888888,\"#fdca26\"],[1.0,\"#f0f921\"]],\"type\":\"heatmap\"}],\"heatmapgl\":[{\"colorbar\":{\"outlinewidth\":0,\"ticks\":\"\"},\"colorscale\":[[0.0,\"#0d0887\"],[0.1111111111111111,\"#46039f\"],[0.2222222222222222,\"#7201a8\"],[0.3333333333333333,\"#9c179e\"],[0.4444444444444444,\"#bd3786\"],[0.5555555555555556,\"#d8576b\"],[0.6666666666666666,\"#ed7953\"],[0.7777777777777778,\"#fb9f3a\"],[0.8888888888888888,\"#fdca26\"],[1.0,\"#f0f921\"]],\"type\":\"heatmapgl\"}],\"histogram\":[{\"marker\":{\"pattern\":{\"fillmode\":\"overlay\",\"size\":10,\"solidity\":0.2}},\"type\":\"histogram\"}],\"histogram2d\":[{\"colorbar\":{\"outlinewidth\":0,\"ticks\":\"\"},\"colorscale\":[[0.0,\"#0d0887\"],[0.1111111111111111,\"#46039f\"],[0.2222222222222222,\"#7201a8\"],[0.3333333333333333,\"#9c179e\"],[0.4444444444444444,\"#bd3786\"],[0.5555555555555556,\"#d8576b\"],[0.6666666666666666,\"#ed7953\"],[0.7777777777777778,\"#fb9f3a\"],[0.8888888888888888,\"#fdca26\"],[1.0,\"#f0f921\"]],\"type\":\"histogram2d\"}],\"histogram2dcontour\":[{\"colorbar\":{\"outlinewidth\":0,\"ticks\":\"\"},\"colorscale\":[[0.0,\"#0d0887\"],[0.1111111111111111,\"#46039f\"],[0.2222222222222222,\"#7201a8\"],[0.3333333333333333,\"#9c179e\"],[0.4444444444444444,\"#bd3786\"],[0.5555555555555556,\"#d8576b\"],[0.6666666666666666,\"#ed7953\"],[0.7777777777777778,\"#fb9f3a\"],[0.8888888888888888,\"#fdca26\"],[1.0,\"#f0f921\"]],\"type\":\"histogram2dcontour\"}],\"mesh3d\":[{\"colorbar\":{\"outlinewidth\":0,\"ticks\":\"\"},\"type\":\"mesh3d\"}],\"parcoords\":[{\"line\":{\"colorbar\":{\"outlinewidth\":0,\"ticks\":\"\"}},\"type\":\"parcoords\"}],\"pie\":[{\"automargin\":true,\"type\":\"pie\"}],\"scatter\":[{\"marker\":{\"colorbar\":{\"outlinewidth\":0,\"ticks\":\"\"}},\"type\":\"scatter\"}],\"scatter3d\":[{\"line\":{\"colorbar\":{\"outlinewidth\":0,\"ticks\":\"\"}},\"marker\":{\"colorbar\":{\"outlinewidth\":0,\"ticks\":\"\"}},\"type\":\"scatter3d\"}],\"scattercarpet\":[{\"marker\":{\"colorbar\":{\"outlinewidth\":0,\"ticks\":\"\"}},\"type\":\"scattercarpet\"}],\"scattergeo\":[{\"marker\":{\"colorbar\":{\"outlinewidth\":0,\"ticks\":\"\"}},\"type\":\"scattergeo\"}],\"scattergl\":[{\"marker\":{\"colorbar\":{\"outlinewidth\":0,\"ticks\":\"\"}},\"type\":\"scattergl\"}],\"scattermapbox\":[{\"marker\":{\"colorbar\":{\"outlinewidth\":0,\"ticks\":\"\"}},\"type\":\"scattermapbox\"}],\"scatterpolar\":[{\"marker\":{\"colorbar\":{\"outlinewidth\":0,\"ticks\":\"\"}},\"type\":\"scatterpolar\"}],\"scatterpolargl\":[{\"marker\":{\"colorbar\":{\"outlinewidth\":0,\"ticks\":\"\"}},\"type\":\"scatterpolargl\"}],\"scatterternary\":[{\"marker\":{\"colorbar\":{\"outlinewidth\":0,\"ticks\":\"\"}},\"type\":\"scatterternary\"}],\"surface\":[{\"colorbar\":{\"outlinewidth\":0,\"ticks\":\"\"},\"colorscale\":[[0.0,\"#0d0887\"],[0.1111111111111111,\"#46039f\"],[0.2222222222222222,\"#7201a8\"],[0.3333333333333333,\"#9c179e\"],[0.4444444444444444,\"#bd3786\"],[0.5555555555555556,\"#d8576b\"],[0.6666666666666666,\"#ed7953\"],[0.7777777777777778,\"#fb9f3a\"],[0.8888888888888888,\"#fdca26\"],[1.0,\"#f0f921\"]],\"type\":\"surface\"}],\"table\":[{\"cells\":{\"fill\":{\"color\":\"#EBF0F8\"},\"line\":{\"color\":\"white\"}},\"header\":{\"fill\":{\"color\":\"#C8D4E3\"},\"line\":{\"color\":\"white\"}},\"type\":\"table\"}]},\"layout\":{\"annotationdefaults\":{\"arrowcolor\":\"#2a3f5f\",\"arrowhead\":0,\"arrowwidth\":1},\"autotypenumbers\":\"strict\",\"coloraxis\":{\"colorbar\":{\"outlinewidth\":0,\"ticks\":\"\"}},\"colorscale\":{\"diverging\":[[0,\"#8e0152\"],[0.1,\"#c51b7d\"],[0.2,\"#de77ae\"],[0.3,\"#f1b6da\"],[0.4,\"#fde0ef\"],[0.5,\"#f7f7f7\"],[0.6,\"#e6f5d0\"],[0.7,\"#b8e186\"],[0.8,\"#7fbc41\"],[0.9,\"#4d9221\"],[1,\"#276419\"]],\"sequential\":[[0.0,\"#0d0887\"],[0.1111111111111111,\"#46039f\"],[0.2222222222222222,\"#7201a8\"],[0.3333333333333333,\"#9c179e\"],[0.4444444444444444,\"#bd3786\"],[0.5555555555555556,\"#d8576b\"],[0.6666666666666666,\"#ed7953\"],[0.7777777777777778,\"#fb9f3a\"],[0.8888888888888888,\"#fdca26\"],[1.0,\"#f0f921\"]],\"sequentialminus\":[[0.0,\"#0d0887\"],[0.1111111111111111,\"#46039f\"],[0.2222222222222222,\"#7201a8\"],[0.3333333333333333,\"#9c179e\"],[0.4444444444444444,\"#bd3786\"],[0.5555555555555556,\"#d8576b\"],[0.6666666666666666,\"#ed7953\"],[0.7777777777777778,\"#fb9f3a\"],[0.8888888888888888,\"#fdca26\"],[1.0,\"#f0f921\"]]},\"colorway\":[\"#636efa\",\"#EF553B\",\"#00cc96\",\"#ab63fa\",\"#FFA15A\",\"#19d3f3\",\"#FF6692\",\"#B6E880\",\"#FF97FF\",\"#FECB52\"],\"font\":{\"color\":\"#2a3f5f\"},\"geo\":{\"bgcolor\":\"white\",\"lakecolor\":\"white\",\"landcolor\":\"#E5ECF6\",\"showlakes\":true,\"showland\":true,\"subunitcolor\":\"white\"},\"hoverlabel\":{\"align\":\"left\"},\"hovermode\":\"closest\",\"mapbox\":{\"style\":\"light\"},\"paper_bgcolor\":\"white\",\"plot_bgcolor\":\"#E5ECF6\",\"polar\":{\"angularaxis\":{\"gridcolor\":\"white\",\"linecolor\":\"white\",\"ticks\":\"\"},\"bgcolor\":\"#E5ECF6\",\"radialaxis\":{\"gridcolor\":\"white\",\"linecolor\":\"white\",\"ticks\":\"\"}},\"scene\":{\"xaxis\":{\"backgroundcolor\":\"#E5ECF6\",\"gridcolor\":\"white\",\"gridwidth\":2,\"linecolor\":\"white\",\"showbackground\":true,\"ticks\":\"\",\"zerolinecolor\":\"white\"},\"yaxis\":{\"backgroundcolor\":\"#E5ECF6\",\"gridcolor\":\"white\",\"gridwidth\":2,\"linecolor\":\"white\",\"showbackground\":true,\"ticks\":\"\",\"zerolinecolor\":\"white\"},\"zaxis\":{\"backgroundcolor\":\"#E5ECF6\",\"gridcolor\":\"white\",\"gridwidth\":2,\"linecolor\":\"white\",\"showbackground\":true,\"ticks\":\"\",\"zerolinecolor\":\"white\"}},\"shapedefaults\":{\"line\":{\"color\":\"#2a3f5f\"}},\"ternary\":{\"aaxis\":{\"gridcolor\":\"white\",\"linecolor\":\"white\",\"ticks\":\"\"},\"baxis\":{\"gridcolor\":\"white\",\"linecolor\":\"white\",\"ticks\":\"\"},\"bgcolor\":\"#E5ECF6\",\"caxis\":{\"gridcolor\":\"white\",\"linecolor\":\"white\",\"ticks\":\"\"}},\"title\":{\"x\":0.05},\"xaxis\":{\"automargin\":true,\"gridcolor\":\"white\",\"linecolor\":\"white\",\"ticks\":\"\",\"title\":{\"standoff\":15},\"zerolinecolor\":\"white\",\"zerolinewidth\":2},\"yaxis\":{\"automargin\":true,\"gridcolor\":\"white\",\"linecolor\":\"white\",\"ticks\":\"\",\"title\":{\"standoff\":15},\"zerolinecolor\":\"white\",\"zerolinewidth\":2}}},\"xaxis\":{\"anchor\":\"y\",\"domain\":[0.0,1.0],\"title\":{\"text\":\"Number of Texts\"}},\"yaxis\":{\"anchor\":\"x\",\"domain\":[0.0,1.0],\"title\":{\"text\":\"Savage\"}}},                        {\"responsive\": true}                    ).then(function(){\n",
       "                            \n",
       "var gd = document.getElementById('618cb82c-2593-4fcf-ba05-54ec51dff73d');\n",
       "var x = new MutationObserver(function (mutations, observer) {{\n",
       "        var display = window.getComputedStyle(gd).display;\n",
       "        if (!display || display === 'none') {{\n",
       "            console.log([gd, 'removed!']);\n",
       "            Plotly.purge(gd);\n",
       "            observer.disconnect();\n",
       "        }}\n",
       "}});\n",
       "\n",
       "// Listen for the removal of the full notebook cells\n",
       "var notebookContainer = gd.closest('#notebook-container');\n",
       "if (notebookContainer) {{\n",
       "    x.observe(notebookContainer, {childList: true});\n",
       "}}\n",
       "\n",
       "// Listen for the clearing of the current output cell\n",
       "var outputEl = gd.closest('.output');\n",
       "if (outputEl) {{\n",
       "    x.observe(outputEl, {childList: true});\n",
       "}}\n",
       "\n",
       "                        })                };                });            </script>        </div>"
      ]
     },
     "metadata": {},
     "output_type": "display_data"
    }
   ],
   "source": [
    "text_graph.show()"
   ]
  },
  {
   "cell_type": "code",
   "execution_count": null,
   "id": "82d822d7-049e-4d54-aaf3-f2c16d2e5835",
   "metadata": {},
   "outputs": [],
   "source": []
  }
 ],
 "metadata": {
  "kernelspec": {
   "display_name": "Python [conda env:metis] *",
   "language": "python",
   "name": "conda-env-metis-py"
  },
  "language_info": {
   "codemirror_mode": {
    "name": "ipython",
    "version": 3
   },
   "file_extension": ".py",
   "mimetype": "text/x-python",
   "name": "python",
   "nbconvert_exporter": "python",
   "pygments_lexer": "ipython3",
   "version": "3.8.10"
  }
 },
 "nbformat": 4,
 "nbformat_minor": 5
}
