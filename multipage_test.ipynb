{
 "cells": [
  {
   "cell_type": "code",
   "execution_count": 1,
   "id": "6a557f56-c889-4ef1-a12b-a9191f8f61e0",
   "metadata": {},
   "outputs": [],
   "source": [
    "import pandas as pd\n",
    "import numpy as np\n",
    "\n",
    "import streamlit as st\n",
    "from streamlit_multipage import MultiPage as mp"
   ]
  },
  {
   "cell_type": "code",
   "execution_count": null,
   "id": "e6f26397-bd01-40f9-8346-db3409e437df",
   "metadata": {},
   "outputs": [],
   "source": []
  }
 ],
 "metadata": {
  "kernelspec": {
   "display_name": "Python [conda env:metis] *",
   "language": "python",
   "name": "conda-env-metis-py"
  },
  "language_info": {
   "codemirror_mode": {
    "name": "ipython",
    "version": 3
   },
   "file_extension": ".py",
   "mimetype": "text/x-python",
   "name": "python",
   "nbconvert_exporter": "python",
   "pygments_lexer": "ipython3",
   "version": "3.8.10"
  }
 },
 "nbformat": 4,
 "nbformat_minor": 5
}
